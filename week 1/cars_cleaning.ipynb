{
 "cells": [
  {
   "cell_type": "code",
   "execution_count": 1,
   "id": "f52b5cc4",
   "metadata": {},
   "outputs": [
    {
     "name": "stdout",
     "output_type": "stream",
     "text": [
      "1.5.0\n"
     ]
    }
   ],
   "source": [
    "import pandas as pd\n",
    "print(pd.__version__)"
   ]
  },
  {
   "cell_type": "code",
   "execution_count": 2,
   "id": "7eff99d2",
   "metadata": {
    "scrolled": false
   },
   "outputs": [
    {
     "name": "stdout",
     "output_type": "stream",
     "text": [
      "                                                Name  \\\n",
      "0  Hyundai | i20 Active S | TDi | 2015 | Hatchbac...   \n",
      "1                    Excellent car on sale (Hyundai)   \n",
      "2                          TATA 407 Container (Tata)   \n",
      "3                        4x4 swaraj Mazda (Mahindra)   \n",
      "4        i20 Active good for used few time (Hyundai)   \n",
      "\n",
      "                        Price     Used For   Transmisson      Colour  \\\n",
      "0  रू. 24,75,000रू. 25,00,000  Private Use     Manual2WD       Brown   \n",
      "1                रू. 7,50,000          NaN       Auto2WD  Light blue   \n",
      "2                रू. 7,00,000          NaN  Manual - 2WD       White   \n",
      "3                रू. 6,00,000          NaN  Manual - 4WD         NaN   \n",
      "4                     रू. 375          NaN    Auto - 2WD       white   \n",
      "\n",
      "  Make Year Mileage Engine (CC)    Fuel Kilometer Run Waranty  Types  \n",
      "0      2015      14        1400  Petrol         42000     NaN    NaN  \n",
      "1      2005      11        1399  Petrol         87412     NaN    NaN  \n",
      "2      2013     NaN        2956  Diesel         60000     NaN    NaN  \n",
      "3      2017     NaN         NaN  Diesel           NaN     NaN    NaN  \n",
      "4      2019      17        1200  Petrol          2400     NaN    NaN  \n"
     ]
    }
   ],
   "source": [
    "df = pd.read_csv(\"car.csv\")\n",
    "print(df.head())"
   ]
  },
  {
   "cell_type": "code",
   "execution_count": 3,
   "id": "98caf035",
   "metadata": {},
   "outputs": [
    {
     "data": {
      "text/plain": [
       "Name             848\n",
       "Price            848\n",
       "Used For         357\n",
       "Transmisson      848\n",
       "Colour           766\n",
       "Make Year        848\n",
       "Mileage          458\n",
       "Engine (CC)      741\n",
       "Fuel             848\n",
       "Kilometer Run    706\n",
       "Waranty          211\n",
       "Types              0\n",
       "dtype: int64"
      ]
     },
     "execution_count": 3,
     "metadata": {},
     "output_type": "execute_result"
    }
   ],
   "source": [
    "df.count()"
   ]
  },
  {
   "cell_type": "code",
   "execution_count": 4,
   "id": "70de8c80",
   "metadata": {},
   "outputs": [],
   "source": [
    "df.drop(df.index[4], inplace=True)\n",
    "# print(df.head())"
   ]
  },
  {
   "cell_type": "code",
   "execution_count": 5,
   "id": "204007b8",
   "metadata": {},
   "outputs": [],
   "source": [
    "# df[\"Used For\"].fillna(\"not available\", inplace=True)\n",
    "# print(df.head)"
   ]
  },
  {
   "cell_type": "code",
   "execution_count": 6,
   "id": "179c1b0d",
   "metadata": {},
   "outputs": [],
   "source": [
    "# df.isnull().sum()"
   ]
  },
  {
   "cell_type": "code",
   "execution_count": 7,
   "id": "4a5bde81",
   "metadata": {},
   "outputs": [
    {
     "data": {
      "text/plain": [
       "0     NaN\n",
       "1     NaN\n",
       "2     NaN\n",
       "3     NaN\n",
       "5     NaN\n",
       "       ..\n",
       "843   NaN\n",
       "844   NaN\n",
       "845   NaN\n",
       "846   NaN\n",
       "847   NaN\n",
       "Name: Types, Length: 847, dtype: float64"
      ]
     },
     "execution_count": 7,
     "metadata": {},
     "output_type": "execute_result"
    }
   ],
   "source": [
    "df[\"Types\"]"
   ]
  },
  {
   "cell_type": "code",
   "execution_count": 8,
   "id": "3dfc33aa",
   "metadata": {},
   "outputs": [
    {
     "name": "stdout",
     "output_type": "stream",
     "text": [
      "                                                Name           Price  \\\n",
      "0  Hyundai | i20 Active S | TDi | 2015 | Hatchbac...  24750002500000   \n",
      "1                    Excellent car on sale (Hyundai)          750000   \n",
      "2                          TATA 407 Container (Tata)          700000   \n",
      "3                        4x4 swaraj Mazda (Mahindra)          600000   \n",
      "5                      Tata Sumo Gold 2014 GX (Tata)         1400000   \n",
      "\n",
      "      Used For   Transmisson        Colour Make Year Mileage Engine (CC)  \\\n",
      "0  Private Use     Manual2WD         Brown      2015      14        1400   \n",
      "1          NaN       Auto2WD    Light blue      2005      11        1399   \n",
      "2          NaN  Manual - 2WD         White      2013     NaN        2956   \n",
      "3          NaN  Manual - 4WD           NaN      2017     NaN         NaN   \n",
      "5          NaN     Manual2WD  Artic Silver      2014      12      2956cc   \n",
      "\n",
      "     Fuel Kilometer Run Waranty  Types  \n",
      "0  Petrol         42000     NaN    NaN  \n",
      "1  Petrol         87412     NaN    NaN  \n",
      "2  Diesel         60000     NaN    NaN  \n",
      "3  Diesel           NaN     NaN    NaN  \n",
      "5  Diesel           NaN     NaN    NaN  \n"
     ]
    }
   ],
   "source": [
    "df['Price'] = df['Price'].str.replace(r'\\D', '', regex=True)\n",
    "print(df.head())"
   ]
  },
  {
   "cell_type": "code",
   "execution_count": 9,
   "id": "e6674542",
   "metadata": {},
   "outputs": [],
   "source": [
    "# df['price_length'] = df['Price'].astype(str).apply(len)\n",
    "# print(df['price_length'])"
   ]
  },
  {
   "cell_type": "code",
   "execution_count": 10,
   "id": "6c56f45f",
   "metadata": {},
   "outputs": [],
   "source": [
    "# df_filtered = df[df['price_length']<10]\n",
    "# df1 = df_filtered.drop(columns=['price_length'])\n",
    "# print(df1)"
   ]
  },
  {
   "cell_type": "code",
   "execution_count": 11,
   "id": "c246279c",
   "metadata": {},
   "outputs": [
    {
     "name": "stdout",
     "output_type": "stream",
     "text": [
      "                                                Name           Price  \\\n",
      "0  Hyundai | i20 Active S | TDi | 2015 | Hatchbac...  24750002500000   \n",
      "1                    Excellent car on sale (Hyundai)          750000   \n",
      "2                          TATA 407 Container (Tata)          700000   \n",
      "3                        4x4 swaraj Mazda (Mahindra)          600000   \n",
      "5                      Tata Sumo Gold 2014 GX (Tata)         1400000   \n",
      "\n",
      "      Used For   Transmisson        Colour Make Year Mileage Engine (CC)  \\\n",
      "0  Private Use     Manual2WD         Brown      2015      14        1400   \n",
      "1          NaN       Auto2WD    Light blue      2005      11        1399   \n",
      "2          NaN  Manual - 2WD         White      2013     NaN        2956   \n",
      "3          NaN  Manual - 4WD           NaN      2017     NaN         NaN   \n",
      "5          NaN     Manual2WD  Artic Silver      2014      12      2956cc   \n",
      "\n",
      "     Fuel Kilometer Run Waranty  Types  \n",
      "0  Petrol         42000     NaN    NaN  \n",
      "1  Petrol         87412     NaN    NaN  \n",
      "2  Diesel         60000     NaN    NaN  \n",
      "3  Diesel           NaN     NaN    NaN  \n",
      "5  Diesel           NaN     NaN    NaN  \n"
     ]
    }
   ],
   "source": [
    "print(df.head())"
   ]
  },
  {
   "cell_type": "code",
   "execution_count": 12,
   "id": "4836533a",
   "metadata": {},
   "outputs": [],
   "source": [
    "def clean_price(value):\n",
    "    value = str(value)\n",
    "    l = len(value)\n",
    "    if l>10:\n",
    "        l1, l2 = value[:l//2], value[l//2:]\n",
    "        price = (float(l1)+float(l2))/2\n",
    "        return price\n",
    "    else:\n",
    "        return value"
   ]
  },
  {
   "cell_type": "code",
   "execution_count": 13,
   "id": "16c19702",
   "metadata": {},
   "outputs": [
    {
     "name": "stdout",
     "output_type": "stream",
     "text": [
      "0      2487500.0\n",
      "1         750000\n",
      "2         700000\n",
      "3         600000\n",
      "5        1400000\n",
      "         ...    \n",
      "843      2450000\n",
      "844      1925000\n",
      "845      1950000\n",
      "846      1750000\n",
      "847      2450000\n",
      "Name: Price, Length: 847, dtype: object\n"
     ]
    }
   ],
   "source": [
    "df[\"Price\"] = df[\"Price\"].apply(clean_price)\n",
    "print(df['Price'])"
   ]
  },
  {
   "cell_type": "code",
   "execution_count": 14,
   "id": "2a61b79a",
   "metadata": {},
   "outputs": [
    {
     "name": "stdout",
     "output_type": "stream",
     "text": [
      "object\n"
     ]
    }
   ],
   "source": [
    "print(df[\"Price\"].dtypes)"
   ]
  },
  {
   "cell_type": "code",
   "execution_count": 15,
   "id": "d3240fb3",
   "metadata": {},
   "outputs": [],
   "source": [
    "df['Price'] = pd.to_numeric(df['Price'])"
   ]
  },
  {
   "cell_type": "code",
   "execution_count": 16,
   "id": "541deed9",
   "metadata": {},
   "outputs": [],
   "source": [
    "# price = df['Price']\n",
    "# print(price.dtype)"
   ]
  },
  {
   "cell_type": "code",
   "execution_count": 17,
   "id": "0aaf007a",
   "metadata": {},
   "outputs": [],
   "source": [
    "# price.describe()"
   ]
  },
  {
   "cell_type": "code",
   "execution_count": 18,
   "id": "58b1451b",
   "metadata": {},
   "outputs": [],
   "source": [
    "# import seaborn as sns"
   ]
  },
  {
   "cell_type": "code",
   "execution_count": 19,
   "id": "db57882e",
   "metadata": {},
   "outputs": [],
   "source": [
    "# sns.boxplot(price)"
   ]
  },
  {
   "cell_type": "code",
   "execution_count": 20,
   "id": "8e60da7d",
   "metadata": {},
   "outputs": [],
   "source": [
    "# price.describe()"
   ]
  },
  {
   "cell_type": "code",
   "execution_count": 21,
   "id": "b620bec4",
   "metadata": {},
   "outputs": [],
   "source": [
    "# price.info()"
   ]
  },
  {
   "cell_type": "code",
   "execution_count": 22,
   "id": "f944ae9c",
   "metadata": {
    "scrolled": true
   },
   "outputs": [
    {
     "name": "stdout",
     "output_type": "stream",
     "text": [
      "                                                Name      Price     Used For  \\\n",
      "0  Hyundai | i20 Active S | TDi | 2015 | Hatchbac...  2487500.0  Private Use   \n",
      "1                    Excellent car on sale (Hyundai)   750000.0          NaN   \n",
      "2                          TATA 407 Container (Tata)   700000.0          NaN   \n",
      "3                        4x4 swaraj Mazda (Mahindra)   600000.0          NaN   \n",
      "5                      Tata Sumo Gold 2014 GX (Tata)  1400000.0          NaN   \n",
      "\n",
      "    Transmisson        Colour Make Year Mileage Engine (CC)    Fuel  \\\n",
      "0     Manual2WD         Brown      2015      14        1400  Petrol   \n",
      "1       Auto2WD    Light blue      2005      11        1399  Petrol   \n",
      "2  Manual - 2WD         White      2013     NaN        2956  Diesel   \n",
      "3  Manual - 4WD           NaN      2017     NaN         NaN  Diesel   \n",
      "5     Manual2WD  Artic Silver      2014      12      2956cc  Diesel   \n",
      "\n",
      "  Kilometer Run Waranty  Types  \n",
      "0         42000     NaN    NaN  \n",
      "1         87412     NaN    NaN  \n",
      "2         60000     NaN    NaN  \n",
      "3           NaN     NaN    NaN  \n",
      "5           NaN     NaN    NaN  \n"
     ]
    }
   ],
   "source": [
    "print(df.head())"
   ]
  },
  {
   "cell_type": "code",
   "execution_count": 23,
   "id": "2343bc05",
   "metadata": {},
   "outputs": [
    {
     "name": "stdout",
     "output_type": "stream",
     "text": [
      "Index(['Name', 'Price', 'Used For', 'Transmisson', 'Colour', 'Make Year',\n",
      "       'Mileage', 'Engine (CC)', 'Fuel', 'Kilometer Run', 'Waranty', 'Types'],\n",
      "      dtype='object')\n"
     ]
    }
   ],
   "source": [
    "print(df.columns)"
   ]
  },
  {
   "cell_type": "code",
   "execution_count": 24,
   "id": "6eb4abe3",
   "metadata": {},
   "outputs": [
    {
     "name": "stdout",
     "output_type": "stream",
     "text": [
      "0         Manual2WD\n",
      "1           Auto2WD\n",
      "2      Manual - 2WD\n",
      "3      Manual - 4WD\n",
      "5         Manual2WD\n",
      "           ...     \n",
      "843    Manual - 2WD\n",
      "844       Manual2WD\n",
      "845       Manual2WD\n",
      "846    Manual - 2WD\n",
      "847      Auto - 4WD\n",
      "Name: Transmisson, Length: 847, dtype: object\n"
     ]
    }
   ],
   "source": [
    "print(df['Transmisson'])"
   ]
  },
  {
   "cell_type": "code",
   "execution_count": 25,
   "id": "ff5bd1f8",
   "metadata": {},
   "outputs": [],
   "source": [
    "def clean_transmisson(value):\n",
    "    value = str(value).lower()\n",
    "    new_val = None\n",
    "    if 'man' in value:\n",
    "        if '2' in value:\n",
    "            new_val = 'Manual-2WD'\n",
    "        else:\n",
    "            new_val = 'Manual-4WD'\n",
    "    elif 'auto' in value:\n",
    "        if '2' in value:\n",
    "            new_val = 'Auto-2WD'\n",
    "        else:\n",
    "            new_val = 'Auto-4WD'\n",
    "    else:\n",
    "        new_val = 'Power-Steering'\n",
    "    \n",
    "    return new_val"
   ]
  },
  {
   "cell_type": "code",
   "execution_count": 26,
   "id": "ec80d550",
   "metadata": {},
   "outputs": [
    {
     "name": "stdout",
     "output_type": "stream",
     "text": [
      "0      Manual-2WD\n",
      "1        Auto-2WD\n",
      "2      Manual-2WD\n",
      "3      Manual-4WD\n",
      "5      Manual-2WD\n",
      "          ...    \n",
      "843    Manual-2WD\n",
      "844    Manual-2WD\n",
      "845    Manual-2WD\n",
      "846    Manual-2WD\n",
      "847      Auto-4WD\n",
      "Name: Transmisson, Length: 847, dtype: object\n"
     ]
    }
   ],
   "source": [
    "df['Transmisson'] = df['Transmisson'].apply(clean_transmisson)\n",
    "print(df['Transmisson'])"
   ]
  },
  {
   "cell_type": "code",
   "execution_count": 27,
   "id": "2bcecea6",
   "metadata": {},
   "outputs": [
    {
     "name": "stdout",
     "output_type": "stream",
     "text": [
      "Name              object\n",
      "Price            float64\n",
      "Used For          object\n",
      "Transmisson       object\n",
      "Colour            object\n",
      "Make Year         object\n",
      "Mileage           object\n",
      "Engine (CC)       object\n",
      "Fuel              object\n",
      "Kilometer Run     object\n",
      "Waranty           object\n",
      "Types            float64\n",
      "dtype: object\n"
     ]
    }
   ],
   "source": [
    "print(df.dtypes)"
   ]
  },
  {
   "cell_type": "code",
   "execution_count": 28,
   "id": "e8bb8b6d",
   "metadata": {},
   "outputs": [
    {
     "data": {
      "text/plain": [
       "dtype('O')"
      ]
     },
     "execution_count": 28,
     "metadata": {},
     "output_type": "execute_result"
    }
   ],
   "source": [
    "df['Transmisson'].astype(str).dtypes"
   ]
  },
  {
   "cell_type": "code",
   "execution_count": 29,
   "id": "6b288ff6",
   "metadata": {},
   "outputs": [],
   "source": [
    "df['Make Year'] = df['Make Year'].str.replace(r'\\D', '', regex=True)"
   ]
  },
  {
   "cell_type": "code",
   "execution_count": 30,
   "id": "d83aad79",
   "metadata": {},
   "outputs": [
    {
     "name": "stdout",
     "output_type": "stream",
     "text": [
      "['2015', '2005', '2013', '2017', '2014', '2019', '2004', '2014', '2016', '2008', '2010', '2018', '2011', '2015', '2019', '2015', '2019', '2021', '2019', '2010', '2017', '2014', '2011', '2019', '2017', '2017', '2010', '2013', '2017', '2018', '2016', '2010', '2009', '2017', '2016', '2021', '2016', '2003', '2016', '2002', '2011', '1997', '2023', '2007', '2017', '2010', '2007', '2006', '2019', '2009', '2010', '2006', '2016', '2002', '2017', '2016', '2016', '2012', '2014', '2021', '2021', '2016', '2011', '2010', '2020', '2011', '2015', '2014', '2014', '2009', '2014', '2020', '2012', '2017', '2022', '2005', '2017', '2013', '2021', '2000', '2009', '2010', '2021', '2021', '2013', '2021', '2022', '2016', '2020', '2017', '2008', '2015', '2020', '2020', '2009', '2021', '2010', '2010', '2016', '2016', '2018', '2016', '2019', '2010', '2021', '2010', '2012', '2011', '2021', '2021', '2016', '2019', '2010', '2014', '2007', '2014', '2010', '2000', '2014', '2011', '2015', '2007', '2012', '2007', '2010', '2006', '1975', '2018', '2016', '2005', '2013', '2009', '2015', '2003', '2002', '2001', '2021', '2022', '2008', '2010', '2005', '2013', '2016', '2010', '2010', '2015', '2015', '2018', '2010', '2023', '2016', '2001', '2019', '2001', '2015', '2015', '2019', '2016', '2017', '2017', '2012', '2018', '2010', '2021', '2009', '2003', '2000', '2016', '2016', '2015', '2014', '2009', '2007', '2007', '2014', '2007', '2017', '2014', '2014', '2014', '2015', '2012', '2010', '2007', '2013', '2016', '2012', '2017', '2008', '2010', '2021', '2020', '2021', '2013', '2019', '2014', '2018', '2007', '2017', '2010', '2016', '2015', '2015', '2021', '2010', '2019', '2016', '2010', '2003', '2010', '2009', '2017', '2017', '2021', '2016', '2017', '2016', '2020', '2009', '2009', '2013', '2015', '2022', '2017', '2017', '2008', '2009', '2021', '2007', '2007', '2010', '2010', '2015', '2012', '2016', '2018', '2014', '2021', '2009', '2015', '2017', '2011', '2007', '2014', '2016', '2014', '2007', '2007', '2002', '2010', '2010', '2009', '2020', '2021', '1998', '2021', '2010', '2021', '2014', '2015', '2006', '2016', '2011', '2015', '2010', '1997', '2014', '2018', '2017', '2013', '2015', '2013', '2014', '2010', '1997', '2006', '2017', '2015', '2014', '2008', '2021', '2018', '2006', '2018', '2010', '2006', '2009', '2010', '2019', '2016', '2017', '2015', '2017', '2003', '2009', '2012', '2016', '2016', '2004', '2009', '2003', '2015', '2012', '2016', '2020', '2021', '2014', '2010', '2020', '2012', '2017', '2004', '2017', '2017', '2021', '2017', '2018', '2008', '2010', '2016', '2014', '1998', '2014', '2016', '1998', '2015', '2006', '2018', '2014', '2022', '2008', '2017', '2003', '2007', '2016', '2021', '2020', '2008', '2009', '2011', '2009', '2015', '2010', '2007', '2014', '2019', '2009', '2021', '2014', '2016', '2015', '2018', '2008', '2008', '2013', '2021', '2013', '2007', '2009', '2017', '2011', '2007', '2010', '2016', '2021', '2023', '2014', '2008', '2018', '2016', '2012', '2010', '2019', '2016', '2016', '2014', '2013', '2016', '2021', '2010', '2015', '2021', '2005', '2019', '2021', '2008', '2012', '2013', '2016', '2023', '2021', '2016', '2017', '2018', '2016', '2015', '2013', '2011', '2016', '2018', '2011', '2011', '2014', '2021', '2011', '2011', '2021', '2012', '2018', '2015', '2009', '2018', '2014', '2010', '2021', '2007', '2013', '2016', '2014', '2017', '2006', '2001', '2013', '2017', '2021', '2016', '2015', '2019', '2020', '2010', '2000', '2021', '2017', '2017', '2017', '2014', '2015', '2009', '2018', '2018', '2004', '2015', '2017', '2017', '2012', '2011', '2007', '2003', '2009', '2017', '2015', '2018', '2021', '2008', '2013', '2019', '2016', '2020', '2019', '2017', '2010', '2013', '2015', '2005', '1975', '2006', '2018', '2005', '2019', '2017', '2004', '1999', '2021', '2016', '2009', '2016', '2007', '2010', '2011', '2012', '2016', '2015', '2016', '2021', '2005', '2019', '2017', '0', '2008', '2008', '2007', '2015', '2014', '2012', '2017', '2019', '2002', '2018', '2016', '2021', '2015', '2017', '2069', '2016', '2020', '2014', '2016', '2018', '2016', '2019', '2021', '2017', '2007', '2009', '2009', '2016', '2011', '2011', '2017', '2020', '2017', '2010', '2013', '2015', '2015', '2011', '2021', '2010', '2018', '2013', '2015', '2010', '2012', '2022', '2016', '2007', '2012', '2007', '2016', '2016', '2006', '2011', '2010', '2018', '2012', '2015', '2014', '2016', '2007', '2007', '2007', '2021', '2023', '2015', '2017', '2021', '2001', '2013', '2013', '2018', '2008', '2021', '2016', '2008', '0', '2016', '2023', '2015', '2018', '2018', '2010', '2018', '2015', '2015', '207', '2021', '2021', '2016', '2023', '2013', '2014', '2016', '2021', '2008', '2005', '2014', '2018', '2003', '2013', '2006', '2016', '2018', '2006', '2020', '2007', '2020', '2017', '2006', '2013', '2015', '2015', '2008', '1992', '2018', '2010', '2009', '2017', '2016', '2018', '2006', '2008', '1999', '2010', '2011', '2010', '2021', '2014', '2010', '2013', '2019', '2018', '2013', '2009', '2015', '2017', '2010', '2009', '2012', '2008', '2020', '2013', '2009', '2016', '2013', '2003', '2006', '2018', '2011', '2016', '2020', '2017', '2014', '2017', '2018', '2018', '2008', '2021', '2018', '2017', '2014', '2017', '2020', '2018', '2019', '2018', '2002', '2013', '2012', '2015', '2020', '1998', '2009', '2016', '2009', '2018', '2005', '2015', '2014', '2018', '2016', '2016', '2007', '2015', '2014', '2017', '2013', '2017', '2010', '2016', '2014', '2009', '2011', '2021', '2020', '2007', '2012', '2010', '2007', '2013', '2008', '2015', '2014', '2018', '2008', '2019', '2006', '2021', '2009', '2015', '2010', '2060', '2008', '2000', '2010', '2012', '2009', '2017', '2009', '2010', '2021', '202', '2015', '2015', '2018', '2021', '2016', '2009', '2015', '2009', '2005', '2015', '2004', '2009', '2021', '2011', '2010', '2018', '2009', '2004', '2014', '2016', '2004', '2014', '2002', '2019', '2014', '2019', '2016', '2014', '2013', '2011', '2021', '2014', '2009', '2009', '2019', '2018', '2013', '2017', '2018', '2004', '2018', '2007', '2014', '2015', '2003', '13', '2019', '2007', '2009', '2009', '2018', '2017', '2014', '2015', '2017', '2018', '2018', '2008', '2011', '2010', '2016', '2004', '2017', '2005', '2021', '2016', '2008', '2012', '2012', '2021', '2023', '2013', '2014', '2018', '2011', '2009', '2009', '2017', '2017', '2018', '2018', '2017', '2021', '2016', '2019', '2008', '2017', '2001', '2001', '2017', '2018', '2019', '2017', '207', '2013', '2023', '2019', '2007', '2013', '2008', '2017', '2010', '2020', '2017', '2012', '2018', '2005', '2013', '2012', '2022', '2021', '2020', '2010', '1993', '2012', '1999', '2016', '2021', '2017', '2018', '2014', '2018', '2011', '2008', '2022', '2015', '2017', '2021', '2019', '2010', '2004', '2020', '2015', '2014', '2014', '2007']\n"
     ]
    }
   ],
   "source": [
    "a = list(df['Make Year'])\n",
    "print(a)"
   ]
  },
  {
   "cell_type": "code",
   "execution_count": 31,
   "id": "e5531f0c",
   "metadata": {},
   "outputs": [
    {
     "name": "stdout",
     "output_type": "stream",
     "text": [
      "<class 'list'>\n"
     ]
    }
   ],
   "source": [
    "print(type(a))"
   ]
  },
  {
   "cell_type": "code",
   "execution_count": 32,
   "id": "3da628ad",
   "metadata": {},
   "outputs": [
    {
     "name": "stdout",
     "output_type": "stream",
     "text": [
      "['2069', '207', '2060', '207']\n"
     ]
    }
   ],
   "source": [
    "print([x for x in a if x>'2023'])"
   ]
  },
  {
   "cell_type": "code",
   "execution_count": 33,
   "id": "3d624bf0",
   "metadata": {},
   "outputs": [
    {
     "name": "stdout",
     "output_type": "stream",
     "text": [
      "0\n",
      "2069\n",
      "0\n",
      "207\n",
      "2060\n",
      "202\n",
      "13\n",
      "207\n"
     ]
    }
   ],
   "source": [
    "for x in a:\n",
    "    x = int(x)\n",
    "    if (x<1950 or x>2024):\n",
    "        print(x)"
   ]
  },
  {
   "cell_type": "code",
   "execution_count": 34,
   "id": "79263460",
   "metadata": {
    "scrolled": false
   },
   "outputs": [
    {
     "name": "stdout",
     "output_type": "stream",
     "text": [
      "int64\n"
     ]
    }
   ],
   "source": [
    "df['Make Year'] = pd.to_numeric(df['Make Year'], errors='coerce')\n",
    "print(df['Make Year'].dtype)"
   ]
  },
  {
   "cell_type": "code",
   "execution_count": 35,
   "id": "510a9abb",
   "metadata": {
    "scrolled": true
   },
   "outputs": [
    {
     "name": "stdout",
     "output_type": "stream",
     "text": [
      "                                                Name      Price     Used For  \\\n",
      "0  Hyundai | i20 Active S | TDi | 2015 | Hatchbac...  2487500.0  Private Use   \n",
      "1                    Excellent car on sale (Hyundai)   750000.0          NaN   \n",
      "2                          TATA 407 Container (Tata)   700000.0          NaN   \n",
      "3                        4x4 swaraj Mazda (Mahindra)   600000.0          NaN   \n",
      "5                      Tata Sumo Gold 2014 GX (Tata)  1400000.0          NaN   \n",
      "\n",
      "  Transmisson        Colour  Make Year Mileage Engine (CC)    Fuel  \\\n",
      "0  Manual-2WD         Brown       2015      14        1400  Petrol   \n",
      "1    Auto-2WD    Light blue       2005      11        1399  Petrol   \n",
      "2  Manual-2WD         White       2013     NaN        2956  Diesel   \n",
      "3  Manual-4WD           NaN       2017     NaN         NaN  Diesel   \n",
      "5  Manual-2WD  Artic Silver       2014      12      2956cc  Diesel   \n",
      "\n",
      "  Kilometer Run Waranty  Types  \n",
      "0         42000     NaN    NaN  \n",
      "1         87412     NaN    NaN  \n",
      "2         60000     NaN    NaN  \n",
      "3           NaN     NaN    NaN  \n",
      "5           NaN     NaN    NaN  \n"
     ]
    }
   ],
   "source": [
    "print(df.head())"
   ]
  },
  {
   "cell_type": "code",
   "execution_count": 36,
   "id": "0cbe5f07",
   "metadata": {},
   "outputs": [],
   "source": [
    "def clean_make_year(x):\n",
    "    x = int(x)\n",
    "    if x<1950 or x>2024:\n",
    "        x = None\n",
    "    else:\n",
    "        x = str(x)\n",
    "    return x"
   ]
  },
  {
   "cell_type": "code",
   "execution_count": 37,
   "id": "6aff0c12",
   "metadata": {},
   "outputs": [],
   "source": [
    "df['Make Year'] = df['Make Year'].apply(clean_make_year)"
   ]
  },
  {
   "cell_type": "code",
   "execution_count": 38,
   "id": "4c6c76bf",
   "metadata": {},
   "outputs": [
    {
     "name": "stdout",
     "output_type": "stream",
     "text": [
      "{'2011', '2006', '2000', '2003', '1999', '2012', '2008', '2022', '1998', '2004', '2001', '2018', '2014', '2019', '2021', '2013', '2016', '1997', '1992', '1993', '2010', '2009', '2002', '2007', '2017', '1975', '2020', '2023', '2015', '2005', None}\n"
     ]
    }
   ],
   "source": [
    "print(set(df['Make Year']))"
   ]
  },
  {
   "cell_type": "code",
   "execution_count": 39,
   "id": "c902738d",
   "metadata": {},
   "outputs": [
    {
     "name": "stdout",
     "output_type": "stream",
     "text": [
      "                                                Name      Price     Used For  \\\n",
      "0  Hyundai | i20 Active S | TDi | 2015 | Hatchbac...  2487500.0  Private Use   \n",
      "1                    Excellent car on sale (Hyundai)   750000.0          NaN   \n",
      "2                          TATA 407 Container (Tata)   700000.0          NaN   \n",
      "3                        4x4 swaraj Mazda (Mahindra)   600000.0          NaN   \n",
      "5                      Tata Sumo Gold 2014 GX (Tata)  1400000.0          NaN   \n",
      "\n",
      "  Transmisson        Colour Make Year Mileage Engine (CC)    Fuel  \\\n",
      "0  Manual-2WD         Brown      2015      14        1400  Petrol   \n",
      "1    Auto-2WD    Light blue      2005      11        1399  Petrol   \n",
      "2  Manual-2WD         White      2013     NaN        2956  Diesel   \n",
      "3  Manual-4WD           NaN      2017     NaN         NaN  Diesel   \n",
      "5  Manual-2WD  Artic Silver      2014      12      2956cc  Diesel   \n",
      "\n",
      "  Kilometer Run Waranty  Types  \n",
      "0         42000     NaN    NaN  \n",
      "1         87412     NaN    NaN  \n",
      "2         60000     NaN    NaN  \n",
      "3           NaN     NaN    NaN  \n",
      "5           NaN     NaN    NaN  \n"
     ]
    }
   ],
   "source": [
    "print(df.head())"
   ]
  },
  {
   "cell_type": "code",
   "execution_count": 40,
   "id": "6e4a859d",
   "metadata": {
    "scrolled": true
   },
   "outputs": [
    {
     "name": "stdout",
     "output_type": "stream",
     "text": [
      "Name              object\n",
      "Price            float64\n",
      "Used For          object\n",
      "Transmisson       object\n",
      "Colour            object\n",
      "Make Year         object\n",
      "Mileage           object\n",
      "Engine (CC)       object\n",
      "Fuel              object\n",
      "Kilometer Run     object\n",
      "Waranty           object\n",
      "Types            float64\n",
      "dtype: object\n"
     ]
    }
   ],
   "source": [
    "print(df.dtypes)"
   ]
  },
  {
   "cell_type": "code",
   "execution_count": 41,
   "id": "3d10f039",
   "metadata": {},
   "outputs": [],
   "source": [
    "df['Kilometer Run'] = df['Kilometer Run'].str.replace(r'\\D', '', regex=True)"
   ]
  },
  {
   "cell_type": "code",
   "execution_count": 42,
   "id": "0914a519",
   "metadata": {},
   "outputs": [],
   "source": [
    "\n",
    "df['Make Year'] = pd.to_numeric(df['Make Year'])\n",
    "df['Kilometer Run'] = pd.to_numeric(df['Kilometer Run'])"
   ]
  },
  {
   "cell_type": "code",
   "execution_count": 43,
   "id": "1616bd6d",
   "metadata": {},
   "outputs": [
    {
     "data": {
      "text/plain": [
       "Name              object\n",
       "Price            float64\n",
       "Used For          object\n",
       "Transmisson       object\n",
       "Colour            object\n",
       "Make Year        float64\n",
       "Mileage           object\n",
       "Engine (CC)       object\n",
       "Fuel              object\n",
       "Kilometer Run    float64\n",
       "Waranty           object\n",
       "Types            float64\n",
       "dtype: object"
      ]
     },
     "execution_count": 43,
     "metadata": {},
     "output_type": "execute_result"
    }
   ],
   "source": [
    "df.dtypes"
   ]
  },
  {
   "cell_type": "code",
   "execution_count": 44,
   "id": "3c04516e",
   "metadata": {},
   "outputs": [],
   "source": [
    "import re\n",
    "\n",
    "def get_brands(x):\n",
    "    try:\n",
    "        x_rev = x[::-1]\n",
    "        result = re.search(r'\\){1}([^\\(]*)', x_rev)\n",
    "        x_str = result.group(1)\n",
    "        value = x_str[::-1]\n",
    "        return value\n",
    "    except:\n",
    "        return 'Other Brands'"
   ]
  },
  {
   "cell_type": "code",
   "execution_count": 45,
   "id": "8002fdad",
   "metadata": {},
   "outputs": [
    {
     "name": "stdout",
     "output_type": "stream",
     "text": [
      "0       Hyundai\n",
      "1       Hyundai\n",
      "2          Tata\n",
      "3      Mahindra\n",
      "5          Tata\n",
      "         ...   \n",
      "843     Hyundai\n",
      "844     Hyundai\n",
      "845     Renault\n",
      "846     Hyundai\n",
      "847      Nissan\n",
      "Name: Brand, Length: 847, dtype: object\n"
     ]
    }
   ],
   "source": [
    "df['Brand'] = df['Name'].apply(get_brands)\n",
    "print(df['Brand'])"
   ]
  },
  {
   "cell_type": "code",
   "execution_count": 46,
   "id": "090ea5ea",
   "metadata": {},
   "outputs": [],
   "source": [
    "df1 = df[['Brand', 'Price', 'Transmisson', 'Make Year', 'Mileage', 'Engine (CC)', 'Fuel', 'Kilometer Run']]"
   ]
  },
  {
   "cell_type": "code",
   "execution_count": 47,
   "id": "2fd52bbd",
   "metadata": {},
   "outputs": [
    {
     "name": "stdout",
     "output_type": "stream",
     "text": [
      "      Brand      Price Transmisson  Make Year Mileage Engine (CC)    Fuel  \\\n",
      "0   Hyundai  2487500.0  Manual-2WD     2015.0      14        1400  Petrol   \n",
      "1   Hyundai   750000.0    Auto-2WD     2005.0      11        1399  Petrol   \n",
      "2      Tata   700000.0  Manual-2WD     2013.0     NaN        2956  Diesel   \n",
      "3  Mahindra   600000.0  Manual-4WD     2017.0     NaN         NaN  Diesel   \n",
      "5      Tata  1400000.0  Manual-2WD     2014.0      12      2956cc  Diesel   \n",
      "\n",
      "   Kilometer Run  \n",
      "0        42000.0  \n",
      "1        87412.0  \n",
      "2        60000.0  \n",
      "3            NaN  \n",
      "5            NaN  \n"
     ]
    }
   ],
   "source": [
    "print(df1.head())"
   ]
  },
  {
   "cell_type": "code",
   "execution_count": 48,
   "id": "1af1befd",
   "metadata": {},
   "outputs": [
    {
     "name": "stdout",
     "output_type": "stream",
     "text": [
      "Brand             object\n",
      "Price            float64\n",
      "Transmisson       object\n",
      "Make Year        float64\n",
      "Mileage           object\n",
      "Engine (CC)       object\n",
      "Fuel              object\n",
      "Kilometer Run    float64\n",
      "dtype: object\n"
     ]
    }
   ],
   "source": [
    "print(df1.dtypes)"
   ]
  },
  {
   "cell_type": "code",
   "execution_count": 49,
   "id": "6bdc7cff",
   "metadata": {},
   "outputs": [],
   "source": [
    "df1.to_csv('cars_cleaned.csv', index=False)"
   ]
  },
  {
   "cell_type": "code",
   "execution_count": null,
   "id": "7bdb5321",
   "metadata": {},
   "outputs": [],
   "source": []
  },
  {
   "cell_type": "code",
   "execution_count": null,
   "id": "6304789d",
   "metadata": {},
   "outputs": [],
   "source": []
  }
 ],
 "metadata": {
  "kernelspec": {
   "display_name": "Python 3 (ipykernel)",
   "language": "python",
   "name": "python3"
  },
  "language_info": {
   "codemirror_mode": {
    "name": "ipython",
    "version": 3
   },
   "file_extension": ".py",
   "mimetype": "text/x-python",
   "name": "python",
   "nbconvert_exporter": "python",
   "pygments_lexer": "ipython3",
   "version": "3.10.5"
  }
 },
 "nbformat": 4,
 "nbformat_minor": 5
}
