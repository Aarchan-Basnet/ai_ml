{
 "cells": [
  {
   "cell_type": "code",
   "execution_count": 1,
   "id": "8f4df48f",
   "metadata": {},
   "outputs": [],
   "source": [
    "import pandas as pd"
   ]
  },
  {
   "cell_type": "code",
   "execution_count": 2,
   "id": "0e831def",
   "metadata": {},
   "outputs": [
    {
     "name": "stdout",
     "output_type": "stream",
     "text": [
      "Brand             object\n",
      "Price            float64\n",
      "Transmisson       object\n",
      "Make Year        float64\n",
      "Mileage           object\n",
      "Engine (CC)       object\n",
      "Fuel              object\n",
      "Kilometer Run    float64\n",
      "dtype: object\n"
     ]
    }
   ],
   "source": [
    "df = pd.read_csv('cars_cleaned.csv')\n",
    "print(df.dtypes)"
   ]
  },
  {
   "cell_type": "code",
   "execution_count": 3,
   "id": "f861b76e",
   "metadata": {},
   "outputs": [
    {
     "name": "stdout",
     "output_type": "stream",
     "text": [
      "      Brand      Price Transmisson  Make Year Mileage Engine (CC)    Fuel  \\\n",
      "0   Hyundai  2487500.0  Manual-2WD     2015.0      14        1400  Petrol   \n",
      "1   Hyundai   750000.0    Auto-2WD     2005.0      11        1399  Petrol   \n",
      "2      Tata   700000.0  Manual-2WD     2013.0     NaN        2956  Diesel   \n",
      "3  Mahindra   600000.0  Manual-4WD     2017.0     NaN         NaN  Diesel   \n",
      "4      Tata  1400000.0  Manual-2WD     2014.0      12      2956cc  Diesel   \n",
      "\n",
      "   Kilometer Run  \n",
      "0        42000.0  \n",
      "1        87412.0  \n",
      "2        60000.0  \n",
      "3            NaN  \n",
      "4            NaN  \n"
     ]
    }
   ],
   "source": [
    "print(df.head())"
   ]
  },
  {
   "cell_type": "code",
   "execution_count": 4,
   "id": "63e42316",
   "metadata": {},
   "outputs": [],
   "source": [
    "# import re\n",
    "# #x=mileage, y=fuel\n",
    "# def clean_engine(x,y):\n",
    "#     x = str(x)\n",
    "#     y = str(y)\n",
    "#     try:\n",
    "#         if y=='Petrol' or y=='Diesel':\n",
    "#             mileage = re.search(r'\\D([0-9]*)\\D', x)\n",
    "#             return mileage.group(1)\n",
    "#     except:\n",
    "#         return 1\n",
    "# #         if mileage is None:\n",
    "# #             return None\n",
    "# #         else:\n",
    "# #             return mileage.group(1)\n",
    "# #     else:\n",
    "# #         return None"
   ]
  },
  {
   "cell_type": "code",
   "execution_count": 5,
   "id": "d51e9699",
   "metadata": {},
   "outputs": [],
   "source": [
    "# result = df.apply(lambda row: clean_engine(row['Mileage'], row['Fuel']), axis=1)\n",
    "# print(result)\n"
   ]
  },
  {
   "cell_type": "code",
   "execution_count": 6,
   "id": "54e4ac4f",
   "metadata": {},
   "outputs": [
    {
     "name": "stdout",
     "output_type": "stream",
     "text": [
      "0        1400\n",
      "1        1399\n",
      "2        2956\n",
      "3         NaN\n",
      "4      2956cc\n",
      "        ...  \n",
      "842      1200\n",
      "843      1200\n",
      "844      1200\n",
      "845      1200\n",
      "846      2200\n",
      "Name: Engine (CC), Length: 847, dtype: object\n"
     ]
    }
   ],
   "source": [
    "print(df['Engine (CC)'])"
   ]
  },
  {
   "cell_type": "code",
   "execution_count": 7,
   "id": "bca160ed",
   "metadata": {},
   "outputs": [],
   "source": [
    "import re\n",
    "def clean_engine(row):\n",
    "    x = str(row['Engine (CC)'])\n",
    "    y = str(row['Fuel']).lower()\n",
    "    \n",
    "    if y=='hybrid' or y=='electric':\n",
    "        eng = re.search(r\"([0-9]*)\", x)\n",
    "        engine = eng.group(1)\n",
    "        try:\n",
    "            engine = int(engine)\n",
    "            if engine>=150:\n",
    "                return engine\n",
    "            else:\n",
    "                #assuming 1kw=1.34hp and 1hp=15cc\n",
    "                return engine*1.34*15\n",
    "        except:\n",
    "            return None\n",
    "    else:\n",
    "        eng = re.sub(r\"\\D\",'', x)\n",
    "        \n",
    "        try:\n",
    "            engine = float(eng)\n",
    "            if engine>=100:\n",
    "                return engine\n",
    "            else:\n",
    "                return engine*100\n",
    "        except:\n",
    "            return None"
   ]
  },
  {
   "cell_type": "code",
   "execution_count": 8,
   "id": "9fe79705",
   "metadata": {},
   "outputs": [
    {
     "name": "stdout",
     "output_type": "stream",
     "text": [
      "0    1400.0\n",
      "1    1399.0\n",
      "2    2956.0\n",
      "3       NaN\n",
      "4    2956.0\n",
      "5     889.0\n",
      "6     800.0\n",
      "7    1200.0\n",
      "8    1200.0\n",
      "9       NaN\n",
      "dtype: float64\n"
     ]
    }
   ],
   "source": [
    "result = df.apply(clean_engine, axis=1)\n",
    "print(result.head(10))"
   ]
  },
  {
   "cell_type": "code",
   "execution_count": 9,
   "id": "8a5633c3",
   "metadata": {},
   "outputs": [
    {
     "name": "stdout",
     "output_type": "stream",
     "text": [
      "0    1400.0\n",
      "1    1399.0\n",
      "2    2956.0\n",
      "3       NaN\n",
      "4    2956.0\n",
      "5     889.0\n",
      "6     800.0\n",
      "7    1200.0\n",
      "8    1200.0\n",
      "9       NaN\n",
      "Name: Engine, dtype: float64\n"
     ]
    }
   ],
   "source": [
    "df['Engine'] = df.apply(clean_engine, axis=1)\n",
    "print(df['Engine'].head(10))"
   ]
  },
  {
   "cell_type": "code",
   "execution_count": null,
   "id": "8e92d86f",
   "metadata": {},
   "outputs": [],
   "source": []
  },
  {
   "cell_type": "code",
   "execution_count": null,
   "id": "ec537b5e",
   "metadata": {},
   "outputs": [],
   "source": []
  },
  {
   "cell_type": "code",
   "execution_count": null,
   "id": "73fb3a75",
   "metadata": {},
   "outputs": [],
   "source": []
  },
  {
   "cell_type": "code",
   "execution_count": 10,
   "id": "6ea097d7",
   "metadata": {},
   "outputs": [],
   "source": [
    "import re\n",
    "\n",
    "def clean_mileage(row):\n",
    "    x = str(row['Mileage'])\n",
    "    y = str(row['Fuel'])\n",
    "    z = str(row['Engine'])\n",
    "    \n",
    "    if y=='Petrol' or y=='Diesel':\n",
    "        mileage = re.search(r\"([0-9]*)\", x)\n",
    "        result = mileage.group(1)\n",
    "        try:\n",
    "            result = int(result)\n",
    "            if result<=30:\n",
    "                return result\n",
    "            else:\n",
    "                return None\n",
    "        except:\n",
    "            return None\n",
    "    else:\n",
    "        mileage = re.search(r\"([0-9]*)\", x)\n",
    "        result = mileage.group(1)\n",
    "        try:\n",
    "            result = int(result)\n",
    "            if result>30:\n",
    "                return result/1000//int(z)\n",
    "            elif result>=10:\n",
    "                return result\n",
    "            else:\n",
    "                return 9*87/1000//int(z)\n",
    "        except:\n",
    "            return None"
   ]
  },
  {
   "cell_type": "code",
   "execution_count": 11,
   "id": "b63a0ac3",
   "metadata": {},
   "outputs": [
    {
     "name": "stdout",
     "output_type": "stream",
     "text": [
      "837    2500.0\n",
      "838    1200.0\n",
      "839    2500.0\n",
      "840    1200.0\n",
      "841    1498.0\n",
      "842    1200.0\n",
      "843    1200.0\n",
      "844    1200.0\n",
      "845    1200.0\n",
      "846    2200.0\n",
      "dtype: float64\n"
     ]
    }
   ],
   "source": [
    "df['Mileage'] = df.apply(clean_mileage, axis=1)\n",
    "print(result.tail(10))"
   ]
  },
  {
   "cell_type": "code",
   "execution_count": 12,
   "id": "688e5946",
   "metadata": {},
   "outputs": [],
   "source": [
    "df1 = df[['Brand', 'Price', 'Transmisson', 'Make Year', 'Mileage', 'Engine', 'Fuel', 'Kilometer Run']]"
   ]
  },
  {
   "cell_type": "code",
   "execution_count": 13,
   "id": "f2621276",
   "metadata": {},
   "outputs": [
    {
     "name": "stdout",
     "output_type": "stream",
     "text": [
      "Brand             object\n",
      "Price            float64\n",
      "Transmisson       object\n",
      "Make Year        float64\n",
      "Mileage          float64\n",
      "Engine           float64\n",
      "Fuel              object\n",
      "Kilometer Run    float64\n",
      "dtype: object\n"
     ]
    }
   ],
   "source": [
    "print(df1.dtypes)"
   ]
  },
  {
   "cell_type": "code",
   "execution_count": 14,
   "id": "a3cc74ff",
   "metadata": {
    "scrolled": true
   },
   "outputs": [
    {
     "name": "stdout",
     "output_type": "stream",
     "text": [
      "csv file successfully created.\n"
     ]
    }
   ],
   "source": [
    "df1.to_csv('cars_final.csv', index=False)\n",
    "print('csv file successfully created.')"
   ]
  },
  {
   "cell_type": "code",
   "execution_count": 15,
   "id": "b7580dc3",
   "metadata": {},
   "outputs": [
    {
     "data": {
      "text/plain": [
       "array([14., 11., nan, 12., 15., 17., 20., 18., 13., 21., 10., 16.,  5.,\n",
       "        7., 19., 22.,  6.,  8., 29., 25., 23., 27.])"
      ]
     },
     "execution_count": 15,
     "metadata": {},
     "output_type": "execute_result"
    }
   ],
   "source": [
    "df1['Mileage'].unique()"
   ]
  },
  {
   "cell_type": "code",
   "execution_count": null,
   "id": "3cc29ad6",
   "metadata": {},
   "outputs": [],
   "source": []
  }
 ],
 "metadata": {
  "kernelspec": {
   "display_name": "Python 3 (ipykernel)",
   "language": "python",
   "name": "python3"
  },
  "language_info": {
   "codemirror_mode": {
    "name": "ipython",
    "version": 3
   },
   "file_extension": ".py",
   "mimetype": "text/x-python",
   "name": "python",
   "nbconvert_exporter": "python",
   "pygments_lexer": "ipython3",
   "version": "3.10.5"
  }
 },
 "nbformat": 4,
 "nbformat_minor": 5
}
