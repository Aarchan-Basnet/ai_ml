{
 "cells": [
  {
   "cell_type": "code",
   "execution_count": 1,
   "id": "0ca5bb16",
   "metadata": {},
   "outputs": [],
   "source": [
    "import numpy as np\n",
    "import pandas as pd\n",
    "import matplotlib.pyplot as plt\n",
    "import seaborn as sns\n",
    "from sklearn.preprocessing import StandardScaler, MinMaxScaler, LabelEncoder\n",
    "from sklearn.metrics import accuracy_score, precision_score, recall_score\n",
    "from sklearn.metrics import f1_score, ConfusionMatrixDisplay, roc_auc_score, roc_curve\n",
    "from sklearn.model_selection import train_test_split, GridSearchCV\n",
    "from sklearn.linear_model import LogisticRegression, SGDClassifier\n",
    "from sklearn.ensemble import RandomForestClassifier, \\\n",
    "GradientBoostingClassifier, VotingClassifier\n",
    "from sklearn.inspection import permutation_importance"
   ]
  },
  {
   "cell_type": "code",
   "execution_count": 2,
   "id": "43f7e1bc",
   "metadata": {},
   "outputs": [
    {
     "name": "stdout",
     "output_type": "stream",
     "text": [
      "  Investigation.Type Accident.Number  Event.Date        Country  \\\n",
      "0           Accident      SEA87LA080  1948-10-24  United States   \n",
      "1           Accident      LAX94LA336  1962-07-19  United States   \n",
      "2           Accident      NYC07LA005  1974-08-30  United States   \n",
      "3           Accident      LAX96LA321  1977-06-19  United States   \n",
      "4           Accident      CHI79FA064  1979-08-02  United States   \n",
      "\n",
      "  Injury.Severity Aircraft.damage      Make Purpose.of.flight  \\\n",
      "0        Fatal(2)       Destroyed   Stinson          Personal   \n",
      "1        Fatal(4)       Destroyed     Piper          Personal   \n",
      "2        Fatal(3)       Destroyed    Cessna          Personal   \n",
      "3        Fatal(2)       Destroyed  Rockwell          Personal   \n",
      "4        Fatal(1)       Destroyed    Cessna          Personal   \n",
      "\n",
      "   Total.Fatal.Injuries  Total.Serious.Injuries  Total.Minor.Injuries  \\\n",
      "0                   2.0                     0.0                   0.0   \n",
      "1                   4.0                     0.0                   0.0   \n",
      "2                   3.0                     NaN                   NaN   \n",
      "3                   2.0                     0.0                   0.0   \n",
      "4                   1.0                     2.0                   NaN   \n",
      "\n",
      "   Total.Uninjured Weather.Condition  \n",
      "0              0.0               UNK  \n",
      "1              0.0               UNK  \n",
      "2              NaN               IMC  \n",
      "3              0.0               IMC  \n",
      "4              0.0               VMC  \n"
     ]
    }
   ],
   "source": [
    "df = pd.read_csv('aviation1.csv')\n",
    "print(df.head())"
   ]
  },
  {
   "cell_type": "code",
   "execution_count": 3,
   "id": "010fbbe7",
   "metadata": {
    "scrolled": true
   },
   "outputs": [
    {
     "name": "stdout",
     "output_type": "stream",
     "text": [
      "<class 'pandas.core.frame.DataFrame'>\n",
      "RangeIndex: 87282 entries, 0 to 87281\n",
      "Data columns (total 13 columns):\n",
      " #   Column                  Non-Null Count  Dtype  \n",
      "---  ------                  --------------  -----  \n",
      " 0   Investigation.Type      87282 non-null  object \n",
      " 1   Accident.Number         87282 non-null  object \n",
      " 2   Event.Date              87282 non-null  object \n",
      " 3   Country                 87056 non-null  object \n",
      " 4   Injury.Severity         86399 non-null  object \n",
      " 5   Aircraft.damage         84272 non-null  object \n",
      " 6   Make                    87219 non-null  object \n",
      " 7   Purpose.of.flight       81493 non-null  object \n",
      " 8   Total.Fatal.Injuries    75881 non-null  float64\n",
      " 9   Total.Serious.Injuries  74772 non-null  float64\n",
      " 10  Total.Minor.Injuries    75349 non-null  float64\n",
      " 11  Total.Uninjured         81370 non-null  float64\n",
      " 12  Weather.Condition       83304 non-null  object \n",
      "dtypes: float64(4), object(9)\n",
      "memory usage: 8.7+ MB\n"
     ]
    }
   ],
   "source": [
    "df.info()"
   ]
  },
  {
   "cell_type": "code",
   "execution_count": 4,
   "id": "c77e9eb7",
   "metadata": {},
   "outputs": [
    {
     "data": {
      "text/plain": [
       "Investigation.Type            0\n",
       "Accident.Number               0\n",
       "Event.Date                    0\n",
       "Country                     226\n",
       "Injury.Severity             883\n",
       "Aircraft.damage            3010\n",
       "Make                         63\n",
       "Purpose.of.flight          5789\n",
       "Total.Fatal.Injuries      11401\n",
       "Total.Serious.Injuries    12510\n",
       "Total.Minor.Injuries      11933\n",
       "Total.Uninjured            5912\n",
       "Weather.Condition          3978\n",
       "dtype: int64"
      ]
     },
     "execution_count": 4,
     "metadata": {},
     "output_type": "execute_result"
    }
   ],
   "source": [
    "df.isnull().sum()"
   ]
  },
  {
   "cell_type": "code",
   "execution_count": 5,
   "id": "deb4b9cc",
   "metadata": {},
   "outputs": [
    {
     "data": {
      "text/html": [
       "<div>\n",
       "<style scoped>\n",
       "    .dataframe tbody tr th:only-of-type {\n",
       "        vertical-align: middle;\n",
       "    }\n",
       "\n",
       "    .dataframe tbody tr th {\n",
       "        vertical-align: top;\n",
       "    }\n",
       "\n",
       "    .dataframe thead th {\n",
       "        text-align: right;\n",
       "    }\n",
       "</style>\n",
       "<table border=\"1\" class=\"dataframe\">\n",
       "  <thead>\n",
       "    <tr style=\"text-align: right;\">\n",
       "      <th></th>\n",
       "      <th>Total.Fatal.Injuries</th>\n",
       "      <th>Total.Serious.Injuries</th>\n",
       "      <th>Total.Minor.Injuries</th>\n",
       "      <th>Total.Uninjured</th>\n",
       "    </tr>\n",
       "  </thead>\n",
       "  <tbody>\n",
       "    <tr>\n",
       "      <th>count</th>\n",
       "      <td>75881.000000</td>\n",
       "      <td>74772.000000</td>\n",
       "      <td>75349.000000</td>\n",
       "      <td>81370.000000</td>\n",
       "    </tr>\n",
       "    <tr>\n",
       "      <th>mean</th>\n",
       "      <td>0.652772</td>\n",
       "      <td>0.280921</td>\n",
       "      <td>0.360814</td>\n",
       "      <td>5.311847</td>\n",
       "    </tr>\n",
       "    <tr>\n",
       "      <th>std</th>\n",
       "      <td>5.521338</td>\n",
       "      <td>1.557476</td>\n",
       "      <td>2.257721</td>\n",
       "      <td>27.899156</td>\n",
       "    </tr>\n",
       "    <tr>\n",
       "      <th>min</th>\n",
       "      <td>0.000000</td>\n",
       "      <td>0.000000</td>\n",
       "      <td>0.000000</td>\n",
       "      <td>0.000000</td>\n",
       "    </tr>\n",
       "    <tr>\n",
       "      <th>25%</th>\n",
       "      <td>0.000000</td>\n",
       "      <td>0.000000</td>\n",
       "      <td>0.000000</td>\n",
       "      <td>0.000000</td>\n",
       "    </tr>\n",
       "    <tr>\n",
       "      <th>50%</th>\n",
       "      <td>0.000000</td>\n",
       "      <td>0.000000</td>\n",
       "      <td>0.000000</td>\n",
       "      <td>1.000000</td>\n",
       "    </tr>\n",
       "    <tr>\n",
       "      <th>75%</th>\n",
       "      <td>0.000000</td>\n",
       "      <td>0.000000</td>\n",
       "      <td>0.000000</td>\n",
       "      <td>2.000000</td>\n",
       "    </tr>\n",
       "    <tr>\n",
       "      <th>max</th>\n",
       "      <td>349.000000</td>\n",
       "      <td>161.000000</td>\n",
       "      <td>380.000000</td>\n",
       "      <td>699.000000</td>\n",
       "    </tr>\n",
       "  </tbody>\n",
       "</table>\n",
       "</div>"
      ],
      "text/plain": [
       "       Total.Fatal.Injuries  Total.Serious.Injuries  Total.Minor.Injuries  \\\n",
       "count          75881.000000            74772.000000          75349.000000   \n",
       "mean               0.652772                0.280921              0.360814   \n",
       "std                5.521338                1.557476              2.257721   \n",
       "min                0.000000                0.000000              0.000000   \n",
       "25%                0.000000                0.000000              0.000000   \n",
       "50%                0.000000                0.000000              0.000000   \n",
       "75%                0.000000                0.000000              0.000000   \n",
       "max              349.000000              161.000000            380.000000   \n",
       "\n",
       "       Total.Uninjured  \n",
       "count     81370.000000  \n",
       "mean          5.311847  \n",
       "std          27.899156  \n",
       "min           0.000000  \n",
       "25%           0.000000  \n",
       "50%           1.000000  \n",
       "75%           2.000000  \n",
       "max         699.000000  "
      ]
     },
     "execution_count": 5,
     "metadata": {},
     "output_type": "execute_result"
    }
   ],
   "source": [
    "df.describe()"
   ]
  },
  {
   "cell_type": "code",
   "execution_count": 6,
   "id": "37f70a37",
   "metadata": {},
   "outputs": [],
   "source": [
    "#replace null values in injuries with 0\n",
    "cols = ['Total.Fatal.Injuries', 'Total.Serious.Injuries',\n",
    "        'Total.Minor.Injuries', 'Total.Uninjured']\n",
    "df[cols] = df[cols].fillna(0)"
   ]
  },
  {
   "cell_type": "code",
   "execution_count": 7,
   "id": "5aa3101e",
   "metadata": {},
   "outputs": [],
   "source": [
    "df['Injury.Severity'] = df['Injury.Severity'].str.replace('\\W', '', regex=True)"
   ]
  },
  {
   "cell_type": "code",
   "execution_count": 8,
   "id": "0f8019e1",
   "metadata": {},
   "outputs": [],
   "source": [
    "df['Injury.Severity'] = df['Injury.Severity'].fillna('Unavailable')"
   ]
  },
  {
   "cell_type": "code",
   "execution_count": 9,
   "id": "9508df64",
   "metadata": {},
   "outputs": [],
   "source": [
    "df['Purpose.of.flight'] = df['Purpose.of.flight'].fillna('Unknown')"
   ]
  },
  {
   "cell_type": "code",
   "execution_count": 10,
   "id": "186380a8",
   "metadata": {},
   "outputs": [],
   "source": [
    "df['Aircraft.damage'] = df['Aircraft.damage'].fillna('Unknown')"
   ]
  },
  {
   "cell_type": "code",
   "execution_count": 11,
   "id": "ea286d11",
   "metadata": {},
   "outputs": [],
   "source": [
    "df['Weather.Condition'] = df['Weather.Condition'].fillna('Unknown')"
   ]
  },
  {
   "cell_type": "code",
   "execution_count": 12,
   "id": "b7c25446",
   "metadata": {},
   "outputs": [
    {
     "data": {
      "text/plain": [
       "Investigation.Type          0\n",
       "Accident.Number             0\n",
       "Event.Date                  0\n",
       "Country                   226\n",
       "Injury.Severity             0\n",
       "Aircraft.damage             0\n",
       "Make                       63\n",
       "Purpose.of.flight           0\n",
       "Total.Fatal.Injuries        0\n",
       "Total.Serious.Injuries      0\n",
       "Total.Minor.Injuries        0\n",
       "Total.Uninjured             0\n",
       "Weather.Condition           0\n",
       "dtype: int64"
      ]
     },
     "execution_count": 12,
     "metadata": {},
     "output_type": "execute_result"
    }
   ],
   "source": [
    "df.isnull().sum()"
   ]
  },
  {
   "cell_type": "code",
   "execution_count": 13,
   "id": "7981b7ba",
   "metadata": {},
   "outputs": [],
   "source": [
    "df['Event.Date'] = pd.to_datetime(df['Event.Date'])\n",
    "df['Year'] = df['Event.Date'].dt.year\n",
    "df['Month'] = df['Event.Date'].dt.month_name()\n",
    "df['Day'] = df['Event.Date'].dt.day_name()"
   ]
  },
  {
   "cell_type": "code",
   "execution_count": 14,
   "id": "319ad3bc",
   "metadata": {},
   "outputs": [
    {
     "data": {
      "image/png": "[encoded data removed]",
      "text/plain": [
       "<Figure size 720x576 with 1 Axes>"
      ]
     },
     "metadata": {
      "needs_background": "light"
     },
     "output_type": "display_data"
    }
   ],
   "source": [
    "yearly = df.groupby('Year')['Accident.Number'].count().reset_index()\n",
    "\n",
    "plt.figure(figsize=(10,8))\n",
    "plt.plot(yearly['Year'], yearly['Accident.Number'])\n",
    "plt.xlabel('Year')\n",
    "plt.ylabel('No. of accidents')\n",
    "plt.show()"
   ]
  },
  {
   "cell_type": "code",
   "execution_count": 15,
   "id": "4d17de63",
   "metadata": {},
   "outputs": [
    {
     "data": {
      "image/png": "[encoded data removed]",
      "text/plain": [
       "<Figure size 1080x576 with 1 Axes>"
      ]
     },
     "metadata": {
      "needs_background": "light"
     },
     "output_type": "display_data"
    }
   ],
   "source": [
    "monthly = df.groupby('Month')['Accident.Number'].count().reset_index()\n",
    "\n",
    "plt.figure(figsize=(15,8))\n",
    "plt.bar(monthly['Month'], monthly['Accident.Number'])\n",
    "plt.xlabel('Month')\n",
    "plt.ylabel('No. of accidents')\n",
    "plt.grid(axis='y')\n",
    "plt.show()"
   ]
  },
  {
   "cell_type": "code",
   "execution_count": 16,
   "id": "c4e05fdb",
   "metadata": {},
   "outputs": [
    {
     "data": {
      "image/png": "[encoded data removed]",
      "text/plain": [
       "<Figure size 432x288 with 1 Axes>"
      ]
     },
     "metadata": {},
     "output_type": "display_data"
    }
   ],
   "source": [
    "week_day = df.groupby('Day')['Accident.Number'].count().reset_index()\n",
    "\n",
    "plt.pie(week_day['Accident.Number'], labels=week_day['Day'], autopct='%1.1f%%')\n",
    "plt.show()"
   ]
  },
  {
   "cell_type": "code",
   "execution_count": 17,
   "id": "b5a8c6d5",
   "metadata": {},
   "outputs": [],
   "source": [
    "injuries_col = ['Total.Fatal.Injuries', 'Total.Serious.Injuries',\n",
    "                'Total.Minor.Injuries', 'Total.Uninjured']"
   ]
  },
  {
   "cell_type": "code",
   "execution_count": 18,
   "id": "f5a364e2",
   "metadata": {},
   "outputs": [
    {
     "name": "stdout",
     "output_type": "stream",
     "text": [
      "    Year  Total.Fatal.Injuries  Total.Serious.Injuries  Total.Minor.Injuries  \\\n",
      "0   1982                   1.0                     1.0                  70.0   \n",
      "1   1983                   0.0                     0.0                  38.0   \n",
      "2   1984                   3.0                     1.0                  17.0   \n",
      "3   1985                   2.0                     1.0                  56.0   \n",
      "4   1986                   0.0                     0.0                  34.0   \n",
      "5   1987                   2.0                     0.0                  38.0   \n",
      "6   1988                   1.0                     0.0                 112.0   \n",
      "7   1989                   0.0                     0.0                  49.0   \n",
      "8   1990                   0.0                     0.0                  35.0   \n",
      "9   1991                   0.0                     0.0                  58.0   \n",
      "10  1992                   2.0                     0.0                   7.0   \n",
      "11  1993                   0.0                     0.0                   9.0   \n",
      "12  1994                   0.0                     0.0                  15.0   \n",
      "13  1995                   1.0                     1.0                  50.0   \n",
      "14  1996                   1.0                     0.0                  45.0   \n",
      "15  1997                   0.0                     0.0                  28.0   \n",
      "16  1998                   1.0                     0.0                  54.0   \n",
      "17  1999                   0.0                     0.0                  18.0   \n",
      "18  2000                   0.0                     0.0                 392.0   \n",
      "19  2001                   4.0                     0.0                  12.0   \n",
      "20  2002                   0.0                     1.0                   2.0   \n",
      "21  2003                   0.0                     0.0                  10.0   \n",
      "22  2004                   1.0                     0.0                   4.0   \n",
      "23  2005                   0.0                     0.0                  10.0   \n",
      "24  2006                   1.0                     2.0                  11.0   \n",
      "25  2007                   1.0                     0.0                   5.0   \n",
      "26  2008                   0.0                   113.0                   0.0   \n",
      "27  2009                   1.0                    45.0                   1.0   \n",
      "28  2010                   0.0                    28.0                   0.0   \n",
      "29  2011                   0.0                     9.0                   0.0   \n",
      "30  2012                   0.0                    13.0                   0.0   \n",
      "31  2013                   0.0                    19.0                   0.0   \n",
      "32  2014                   0.0                     4.0                   0.0   \n",
      "33  2015                   0.0                     2.0                   0.0   \n",
      "34  2016                   0.0                    29.0                   0.0   \n",
      "35  2017                   0.0                     1.0                   0.0   \n",
      "36  2018                   0.0                    27.0                   1.0   \n",
      "37  2019                   0.0                     2.0                   0.0   \n",
      "38  2020                   0.0                     0.0                   0.0   \n",
      "39  2021                   0.0                     4.0                   1.0   \n",
      "\n",
      "    Total.Uninjured  \n",
      "0            2829.0  \n",
      "1            8925.0  \n",
      "2            7006.0  \n",
      "3            6252.0  \n",
      "4            6201.0  \n",
      "5            8561.0  \n",
      "6            7805.0  \n",
      "7            7158.0  \n",
      "8            3123.0  \n",
      "9            3967.0  \n",
      "10           4736.0  \n",
      "11           3859.0  \n",
      "12           2217.0  \n",
      "13           5074.0  \n",
      "14           4970.0  \n",
      "15           4226.0  \n",
      "16           3236.0  \n",
      "17           3186.0  \n",
      "18           5204.0  \n",
      "19           3065.0  \n",
      "20           2982.0  \n",
      "21           2376.0  \n",
      "22           3496.0  \n",
      "23           4852.0  \n",
      "24           4540.0  \n",
      "25           4850.0  \n",
      "26           4943.0  \n",
      "27           4401.0  \n",
      "28           5385.0  \n",
      "29           5013.0  \n",
      "30           5742.0  \n",
      "31           4048.0  \n",
      "32           2955.0  \n",
      "33           3747.0  \n",
      "34           3816.0  \n",
      "35           5090.0  \n",
      "36           4622.0  \n",
      "37           3159.0  \n",
      "38           1407.0  \n",
      "39           2706.0  \n"
     ]
    }
   ],
   "source": [
    "incident = df[df['Investigation.Type'] == 'Incident']\n",
    "incident_injuries = incident.groupby('Year')[injuries_col].sum().reset_index()\n",
    "print(incident_injuries)\n"
   ]
  },
  {
   "cell_type": "code",
   "execution_count": 19,
   "id": "86970200",
   "metadata": {},
   "outputs": [
    {
     "data": {
      "image/png": "[encoded data removed]",
      "text/plain": [
       "<Figure size 720x432 with 4 Axes>"
      ]
     },
     "metadata": {
      "needs_background": "light"
     },
     "output_type": "display_data"
    }
   ],
   "source": [
    "plt.figure(figsize=(10,6))\n",
    "\n",
    "plt.subplot(4,1,1)\n",
    "plt.plot(incident_injuries['Year'], incident_injuries['Total.Fatal.Injuries'])\n",
    "plt.title('Fatal Injuries over the years')\n",
    "\n",
    "plt.subplot(4,1,2)\n",
    "plt.plot(incident_injuries['Year'], incident_injuries['Total.Serious.Injuries'])\n",
    "plt.title('Serious Injuries over the years')\n",
    "\n",
    "plt.subplot(4,1,3)\n",
    "plt.plot(incident_injuries['Year'], incident_injuries['Total.Minor.Injuries'])\n",
    "plt.title('Minor Injuries over the years')\n",
    "\n",
    "plt.subplot(4,1,4)\n",
    "plt.plot(incident_injuries['Year'], incident_injuries['Total.Uninjured'])\n",
    "plt.title('Uninjured over the years')\n",
    "\n",
    "plt.suptitle('Incident Injuries Analysis')\n",
    "plt.tight_layout()\n",
    "plt.show()"
   ]
  },
  {
   "cell_type": "code",
   "execution_count": null,
   "id": "6a31dfbe",
   "metadata": {},
   "outputs": [],
   "source": []
  },
  {
   "cell_type": "code",
   "execution_count": 20,
   "id": "6893e824",
   "metadata": {},
   "outputs": [
    {
     "name": "stdout",
     "output_type": "stream",
     "text": [
      "    Year  Total.Fatal.Injuries  Total.Serious.Injuries  Total.Minor.Injuries  \\\n",
      "0   1948                   2.0                     0.0                   0.0   \n",
      "1   1962                   4.0                     0.0                   0.0   \n",
      "2   1974                   3.0                     0.0                   0.0   \n",
      "3   1977                   2.0                     0.0                   0.0   \n",
      "4   1979                   1.0                     2.0                   1.0   \n",
      "5   1981                   4.0                     0.0                   0.0   \n",
      "6   1982                1584.0                   726.0                 928.0   \n",
      "7   1983                1273.0                   673.0                1010.0   \n",
      "8   1984                1226.0                   696.0                1030.0   \n",
      "9   1985                1646.0                   611.0                1052.0   \n",
      "10  1986                1180.0                   619.0                 936.0   \n",
      "11  1987                1235.0                   554.0                 898.0   \n",
      "12  1988                1194.0                   620.0                1005.0   \n",
      "13  1989                1532.0                   518.0                 980.0   \n",
      "14  1990                 999.0                   589.0                 873.0   \n",
      "15  1991                1087.0                   535.0                 855.0   \n",
      "16  1992                1271.0                   609.0                 768.0   \n",
      "17  1993                 865.0                   505.0                 901.0   \n",
      "18  1994                1183.0                   529.0                 748.0   \n",
      "19  1995                1235.0                   479.0                 681.0   \n",
      "20  1996                2532.0                   532.0                 684.0   \n",
      "21  1997                1296.0                   497.0                 998.0   \n",
      "22  1998                1324.0                   388.0                 753.0   \n",
      "23  1999                1221.0                   491.0                1188.0   \n",
      "24  2000                1765.0                   501.0                 864.0   \n",
      "25  2001                1705.0                   478.0                 600.0   \n",
      "26  2002                1386.0                   431.0                 704.0   \n",
      "27  2003                1374.0                   480.0                 762.0   \n",
      "28  2004                 977.0                   457.0                 599.0   \n",
      "29  2005                1689.0                   426.0                 610.0   \n",
      "30  2006                1488.0                   418.0                 462.0   \n",
      "31  2007                1334.0                   402.0                 538.0   \n",
      "32  2008                1201.0                   650.0                 407.0   \n",
      "33  2009                1183.0                   552.0                 370.0   \n",
      "34  2010                1370.0                   587.0                 333.0   \n",
      "35  2011                 931.0                   470.0                 361.0   \n",
      "36  2012                1035.0                   438.0                 331.0   \n",
      "37  2013                 822.0                   656.0                 348.0   \n",
      "38  2014                1428.0                   451.0                 313.0   \n",
      "39  2015                1101.0                   462.0                 346.0   \n",
      "40  2016                 820.0                   459.0                 307.0   \n",
      "41  2017                 640.0                   425.0                 285.0   \n",
      "42  2018                1044.0                   567.0                 342.0   \n",
      "43  2019                 960.0                   384.0                 294.0   \n",
      "44  2020                 770.0                   493.0                 264.0   \n",
      "45  2021                 589.0                   342.0                 276.0   \n",
      "46  2022                   0.0                     0.0                   0.0   \n",
      "\n",
      "    Total.Uninjured  \n",
      "0               0.0  \n",
      "1               0.0  \n",
      "2               0.0  \n",
      "3               0.0  \n",
      "4              44.0  \n",
      "5               0.0  \n",
      "6            5485.0  \n",
      "7            6181.0  \n",
      "8            5489.0  \n",
      "9            5040.0  \n",
      "10           5689.0  \n",
      "11           7460.0  \n",
      "12           6383.0  \n",
      "13           5063.0  \n",
      "14           5836.0  \n",
      "15           4890.0  \n",
      "16           5133.0  \n",
      "17           5572.0  \n",
      "18           5035.0  \n",
      "19           6780.0  \n",
      "20           7073.0  \n",
      "21           9312.0  \n",
      "22           8424.0  \n",
      "23           8772.0  \n",
      "24           7787.0  \n",
      "25           6124.0  \n",
      "26           6506.0  \n",
      "27           7326.0  \n",
      "28           4752.0  \n",
      "29           8094.0  \n",
      "30           6067.0  \n",
      "31           7190.0  \n",
      "32           5535.0  \n",
      "33           5694.0  \n",
      "34           5698.0  \n",
      "35           9382.0  \n",
      "36           6062.0  \n",
      "37           5113.0  \n",
      "38           6778.0  \n",
      "39           5964.0  \n",
      "40           6294.0  \n",
      "41           6897.0  \n",
      "42           6417.0  \n",
      "43           5700.0  \n",
      "44           3163.0  \n",
      "45           4288.0  \n",
      "46              3.0  \n"
     ]
    }
   ],
   "source": [
    "accident = df[df['Investigation.Type'] == 'Accident']\n",
    "accident_injuries = accident.groupby('Year')[injuries_col].sum().reset_index()\n",
    "print(accident_injuries)"
   ]
  },
  {
   "cell_type": "code",
   "execution_count": 21,
   "id": "4c3bb917",
   "metadata": {},
   "outputs": [
    {
     "data": {
      "image/png": "[encoded data removed]",
      "text/plain": [
       "<Figure size 720x432 with 4 Axes>"
      ]
     },
     "metadata": {
      "needs_background": "light"
     },
     "output_type": "display_data"
    }
   ],
   "source": [
    "plt.figure(figsize=(10,6))\n",
    "\n",
    "plt.subplot(4,1,1)\n",
    "plt.plot(accident_injuries['Year'], accident_injuries['Total.Fatal.Injuries'])\n",
    "plt.title('Fatal Injuries over the years')\n",
    "\n",
    "plt.subplot(4,1,2)\n",
    "plt.plot(accident_injuries['Year'], accident_injuries['Total.Serious.Injuries'])\n",
    "plt.title('Serious Injuries over the years')\n",
    "\n",
    "plt.subplot(4,1,3)\n",
    "plt.plot(accident_injuries['Year'], accident_injuries['Total.Minor.Injuries'])\n",
    "plt.title('Minor Injuries over the years')\n",
    "\n",
    "plt.subplot(4,1,4)\n",
    "plt.plot(accident_injuries['Year'], accident_injuries['Total.Uninjured'])\n",
    "plt.title('Uninjured over the years')\n",
    "\n",
    "plt.suptitle('Accident Injuries Analysis')\n",
    "plt.tight_layout()\n",
    "plt.show()"
   ]
  },
  {
   "cell_type": "code",
   "execution_count": 22,
   "id": "334a412b",
   "metadata": {
    "scrolled": true
   },
   "outputs": [
    {
     "name": "stdout",
     "output_type": "stream",
     "text": [
      "['Personal' 'Unknown' 'Business' 'Instructional' 'Ferry'\n",
      " 'Executive/corporate' 'Aerial Observation' 'Aerial Application'\n",
      " 'Public Aircraft' 'Skydiving' 'Other Work Use' 'Positioning'\n",
      " 'Flight Test' 'Air Race/show' 'Air Drop' 'Public Aircraft - Federal'\n",
      " 'Glider Tow' 'Public Aircraft - Local' 'External Load'\n",
      " 'Public Aircraft - State' 'Banner Tow' 'Firefighting' 'EXLD' 'BANT'\n",
      " 'GLDT' 'PUBU' 'Air Race show' 'ADRP']\n"
     ]
    }
   ],
   "source": [
    "print(df['Purpose.of.flight'].unique())"
   ]
  },
  {
   "cell_type": "code",
   "execution_count": null,
   "id": "ecc6d3a0",
   "metadata": {},
   "outputs": [],
   "source": []
  },
  {
   "cell_type": "code",
   "execution_count": 23,
   "id": "a494a648",
   "metadata": {},
   "outputs": [],
   "source": [
    "# cluster_df = df[[\"Injury.Severity\", \"Aircraft.damage\",\n",
    "#                  \"Weather.Condition\", \"Purpose.of.flight\",\n",
    "#                  \"Month\", \"Day\"]]\n"
   ]
  },
  {
   "cell_type": "code",
   "execution_count": 24,
   "id": "035704a5",
   "metadata": {},
   "outputs": [],
   "source": [
    "# from sklearn.cluster import KMeans\n",
    "# x = pd.get_dummies(cluster_df)\n",
    "# wss = []\n",
    "\n",
    "\n",
    "# for k in range(1, 11):\n",
    "#     kmeans = KMeans(n_clusters=k, n_init=10, random_state=42)  # Set n_init explicitly\n",
    "#     kmeans.fit(x)\n",
    "#     wss.append(kmeans.inertia_)\n"
   ]
  },
  {
   "cell_type": "code",
   "execution_count": 25,
   "id": "55db2010",
   "metadata": {},
   "outputs": [
    {
     "data": {
      "text/plain": [
       "[303918.0956210902,\n",
       " 266300.1687631998,\n",
       " 247334.13938493916,\n",
       " 235846.92649286715,\n",
       " 230521.86683312853,\n",
       " 222147.01246478863,\n",
       " 214845.43331269317,\n",
       " 208856.0221786832,\n",
       " 205436.77425339105,\n",
       " 200859.61024252427]"
      ]
     },
     "execution_count": 25,
     "metadata": {},
     "output_type": "execute_result"
    }
   ],
   "source": [
    "# wss"
   ]
  },
  {
   "cell_type": "code",
   "execution_count": 26,
   "id": "530a5700",
   "metadata": {},
   "outputs": [
    {
     "data": {
      "image/png": "[encoded data removed]",
      "text/plain": [
       "<Figure size 432x288 with 1 Axes>"
      ]
     },
     "metadata": {
      "needs_background": "light"
     },
     "output_type": "display_data"
    }
   ],
   "source": [
    "# plt.plot(range(1, 11), wss, marker='o')\n",
    "# plt.xlabel('Number of Clusters (k)')\n",
    "# plt.ylabel('Within-Cluster Sum of Squares (WSS)')\n",
    "# plt.title('Elbow Method for Optimal k')\n",
    "# plt.show()"
   ]
  },
  {
   "cell_type": "code",
   "execution_count": 27,
   "id": "d15e6abe",
   "metadata": {},
   "outputs": [
    {
     "name": "stdout",
     "output_type": "stream",
     "text": [
      "  Injury.Severity Aircraft.damage Weather.Condition Purpose.of.flight  \\\n",
      "0          Fatal2       Destroyed               UNK          Personal   \n",
      "1          Fatal4       Destroyed               UNK          Personal   \n",
      "2          Fatal3       Destroyed               IMC          Personal   \n",
      "3          Fatal2       Destroyed               IMC          Personal   \n",
      "4          Fatal1       Destroyed               VMC          Personal   \n",
      "\n",
      "     Month       Day  Cluster  \n",
      "0  October    Sunday        2  \n",
      "1     July  Thursday        2  \n",
      "2   August    Friday        2  \n",
      "3     June    Sunday        2  \n",
      "4   August  Thursday        2  \n"
     ]
    },
    {
     "name": "stderr",
     "output_type": "stream",
     "text": [
      "C:\\Users\\basne\\AppData\\Local\\Temp\\ipykernel_10112\\932043617.py:6: SettingWithCopyWarning: \n",
      "A value is trying to be set on a copy of a slice from a DataFrame.\n",
      "Try using .loc[row_indexer,col_indexer] = value instead\n",
      "\n",
      "See the caveats in the documentation: https://pandas.pydata.org/pandas-docs/stable/user_guide/indexing.html#returning-a-view-versus-a-copy\n",
      "  cluster_df['Cluster'] = kmeans.fit_predict(x)\n"
     ]
    }
   ],
   "source": [
    "\n",
    "\n",
    "# x = pd.get_dummies(cluster_df)\n",
    "\n",
    "# optimal_k = 4\n",
    "\n",
    "# kmeans = KMeans(n_clusters=optimal_k, n_init=10, random_state=42)\n",
    "# cluster_df['Cluster'] = kmeans.fit_predict(x)\n",
    "\n",
    "# print(cluster_df.head())\n",
    "\n"
   ]
  },
  {
   "cell_type": "code",
   "execution_count": 28,
   "id": "fb43f5b5",
   "metadata": {},
   "outputs": [
    {
     "data": {
      "text/plain": [
       "Text(0.5, 1.0, 'Clustering classification')"
      ]
     },
     "execution_count": 28,
     "metadata": {},
     "output_type": "execute_result"
    },
    {
     "data": {
      "image/png": "[encoded data removed]",
      "text/plain": [
       "<Figure size 432x288 with 1 Axes>"
      ]
     },
     "metadata": {
      "needs_background": "light"
     },
     "output_type": "display_data"
    }
   ],
   "source": [
    "# cluster_classification= cluster_df['Cluster'].value_counts()\n",
    "# sns.barplot(x=cluster_classification.index,y= cluster_classification.values)\n",
    "# plt.xlabel(\"Cluster\")\n",
    "# plt.ylabel(\"Count of Cluster\")\n",
    "# plt.title(\"Clustering classification\")"
   ]
  },
  {
   "cell_type": "code",
   "execution_count": 29,
   "id": "ee008171",
   "metadata": {},
   "outputs": [
    {
     "name": "stdout",
     "output_type": "stream",
     "text": [
      "<class 'pandas.core.frame.DataFrame'>\n",
      "RangeIndex: 87282 entries, 0 to 87281\n",
      "Data columns (total 16 columns):\n",
      " #   Column                  Non-Null Count  Dtype         \n",
      "---  ------                  --------------  -----         \n",
      " 0   Investigation.Type      87282 non-null  object        \n",
      " 1   Accident.Number         87282 non-null  object        \n",
      " 2   Event.Date              87282 non-null  datetime64[ns]\n",
      " 3   Country                 87056 non-null  object        \n",
      " 4   Injury.Severity         87282 non-null  object        \n",
      " 5   Aircraft.damage         87282 non-null  object        \n",
      " 6   Make                    87219 non-null  object        \n",
      " 7   Purpose.of.flight       87282 non-null  object        \n",
      " 8   Total.Fatal.Injuries    87282 non-null  float64       \n",
      " 9   Total.Serious.Injuries  87282 non-null  float64       \n",
      " 10  Total.Minor.Injuries    87282 non-null  float64       \n",
      " 11  Total.Uninjured         87282 non-null  float64       \n",
      " 12  Weather.Condition       87282 non-null  object        \n",
      " 13  Year                    87282 non-null  int64         \n",
      " 14  Month                   87282 non-null  object        \n",
      " 15  Day                     87282 non-null  object        \n",
      "dtypes: datetime64[ns](1), float64(4), int64(1), object(10)\n",
      "memory usage: 10.7+ MB\n"
     ]
    }
   ],
   "source": [
    "df.info()"
   ]
  },
  {
   "cell_type": "code",
   "execution_count": 30,
   "id": "93e30c1c",
   "metadata": {
    "scrolled": true
   },
   "outputs": [
    {
     "name": "stdout",
     "output_type": "stream",
     "text": [
      "                   Make  Count\n",
      "1525             Cessna  22227\n",
      "5661              Piper  12029\n",
      "1287             CESSNA   4549\n",
      "908               Beech   4329\n",
      "5478              PIPER   2618\n",
      "919                Bell   2134\n",
      "1037             Boeing   1594\n",
      "3094            Grumman   1094\n",
      "5096             Mooney   1092\n",
      "677              BOEING   1054\n",
      "610               BEECH    976\n",
      "6180           Robinson    946\n",
      "940            Bellanca    886\n",
      "3610             Hughes    795\n",
      "6713          Schweizer    629\n",
      "328         Air Tractor    595\n",
      "622                BELL    538\n",
      "4927  Mcdonnell Douglas    526\n",
      "279             Aeronca    487\n",
      "4871              Maule    445\n"
     ]
    }
   ],
   "source": [
    "# Grouping the data by 'Make' and counting the occurrences\n",
    "top_makes = df.groupby('Make').size().reset_index(name='Count')\n",
    "\n",
    "# Sorting the makes based on count in descending order\n",
    "top_makes_sorted = top_makes.sort_values(by='Count', ascending=False)\n",
    "\n",
    "# Selecting the top ten makes\n",
    "top_ten_makes = top_makes_sorted.head(20)\n",
    "\n",
    "print(top_ten_makes)"
   ]
  },
  {
   "cell_type": "code",
   "execution_count": 31,
   "id": "ea69ed8d",
   "metadata": {},
   "outputs": [],
   "source": [
    "def clean_make(row):\n",
    "    x = str(row['Make']).lower()\n",
    "    if 'cessna' in x:\n",
    "        return 'cessna'\n",
    "    elif 'piper' in x:\n",
    "        return 'piper'\n",
    "    elif 'beech' in x:\n",
    "        return 'beech'\n",
    "    elif 'boeing' in x:\n",
    "        return 'boeing'\n",
    "    elif 'bell' in x and 'bellanca' not in x:\n",
    "        return 'bell'\n",
    "    else:\n",
    "        return 'others'\n",
    "\n",
    "make = df.apply(clean_make, axis=1)"
   ]
  },
  {
   "cell_type": "code",
   "execution_count": 32,
   "id": "a60c92b2",
   "metadata": {
    "scrolled": true
   },
   "outputs": [
    {
     "data": {
      "text/plain": [
       "others    34813\n",
       "cessna    26840\n",
       "piper     14716\n",
       "beech      5393\n",
       "bell       2785\n",
       "boeing     2735\n",
       "dtype: int64"
      ]
     },
     "execution_count": 32,
     "metadata": {},
     "output_type": "execute_result"
    }
   ],
   "source": [
    "make.value_counts()"
   ]
  },
  {
   "cell_type": "code",
   "execution_count": 33,
   "id": "1ee7d2b5",
   "metadata": {},
   "outputs": [],
   "source": [
    "us = df[df['Country']=='United States']"
   ]
  },
  {
   "cell_type": "code",
   "execution_count": 34,
   "id": "d5f761a8",
   "metadata": {},
   "outputs": [
    {
     "data": {
      "text/plain": [
       "(80998, 16)"
      ]
     },
     "execution_count": 34,
     "metadata": {},
     "output_type": "execute_result"
    }
   ],
   "source": [
    "us.shape"
   ]
  },
  {
   "cell_type": "code",
   "execution_count": 35,
   "id": "86883b5f",
   "metadata": {
    "scrolled": true
   },
   "outputs": [
    {
     "name": "stdout",
     "output_type": "stream",
     "text": [
      "<class 'pandas.core.frame.DataFrame'>\n",
      "Int64Index: 80998 entries, 0 to 87280\n",
      "Data columns (total 16 columns):\n",
      " #   Column                  Non-Null Count  Dtype         \n",
      "---  ------                  --------------  -----         \n",
      " 0   Investigation.Type      80998 non-null  object        \n",
      " 1   Accident.Number         80998 non-null  object        \n",
      " 2   Event.Date              80998 non-null  datetime64[ns]\n",
      " 3   Country                 80998 non-null  object        \n",
      " 4   Injury.Severity         80998 non-null  object        \n",
      " 5   Aircraft.damage         80998 non-null  object        \n",
      " 6   Make                    80977 non-null  object        \n",
      " 7   Purpose.of.flight       80998 non-null  object        \n",
      " 8   Total.Fatal.Injuries    80998 non-null  float64       \n",
      " 9   Total.Serious.Injuries  80998 non-null  float64       \n",
      " 10  Total.Minor.Injuries    80998 non-null  float64       \n",
      " 11  Total.Uninjured         80998 non-null  float64       \n",
      " 12  Weather.Condition       80998 non-null  object        \n",
      " 13  Year                    80998 non-null  int64         \n",
      " 14  Month                   80998 non-null  object        \n",
      " 15  Day                     80998 non-null  object        \n",
      "dtypes: datetime64[ns](1), float64(4), int64(1), object(10)\n",
      "memory usage: 10.5+ MB\n"
     ]
    }
   ],
   "source": [
    "us.info()"
   ]
  },
  {
   "cell_type": "code",
   "execution_count": 36,
   "id": "087e8f70",
   "metadata": {},
   "outputs": [
    {
     "data": {
      "text/plain": [
       "others    32439\n",
       "cessna    25588\n",
       "piper     14032\n",
       "beech      5067\n",
       "bell       2349\n",
       "boeing     1523\n",
       "dtype: int64"
      ]
     },
     "execution_count": 36,
     "metadata": {},
     "output_type": "execute_result"
    }
   ],
   "source": [
    "us_make = us.apply(clean_make, axis=1)\n",
    "us_make.value_counts()"
   ]
  },
  {
   "cell_type": "code",
   "execution_count": 37,
   "id": "06960a5f",
   "metadata": {},
   "outputs": [
    {
     "data": {
      "text/plain": [
       "July         9902\n",
       "August       9198\n",
       "June         8842\n",
       "May          7853\n",
       "September    7633\n",
       "April        6654\n",
       "October      6295\n",
       "March        6044\n",
       "November     4953\n",
       "February     4687\n",
       "December     4508\n",
       "January      4429\n",
       "Name: Month, dtype: int64"
      ]
     },
     "execution_count": 37,
     "metadata": {},
     "output_type": "execute_result"
    }
   ],
   "source": [
    "us['Month'].value_counts()"
   ]
  },
  {
   "cell_type": "code",
   "execution_count": 38,
   "id": "8ba74bb9",
   "metadata": {},
   "outputs": [
    {
     "name": "stderr",
     "output_type": "stream",
     "text": [
      "C:\\Users\\basne\\AppData\\Local\\Temp\\ipykernel_10112\\2435029994.py:20: SettingWithCopyWarning: \n",
      "A value is trying to be set on a copy of a slice from a DataFrame.\n",
      "Try using .loc[row_indexer,col_indexer] = value instead\n",
      "\n",
      "See the caveats in the documentation: https://pandas.pydata.org/pandas-docs/stable/user_guide/indexing.html#returning-a-view-versus-a-copy\n",
      "  us['Season'] = df.apply(clean_seasons, axis=1)\n"
     ]
    }
   ],
   "source": [
    "def clean_seasons(row):\n",
    "    spring = ['march', 'april', 'may']\n",
    "    summer = ['june', 'july', 'august']\n",
    "    fall = ['september', 'october', 'november']\n",
    "    winter = ['december', 'january', 'february']\n",
    "    \n",
    "    month = str(row['Month']).lower()\n",
    "    \n",
    "    if month in spring:\n",
    "        return 'spring'\n",
    "    elif month in summer:\n",
    "        return 'summer'\n",
    "    elif month in fall:\n",
    "        return 'fall'\n",
    "    elif month in winter:\n",
    "        return 'winter'\n",
    "    else:\n",
    "        return None\n",
    "    \n",
    "us['Season'] = df.apply(clean_seasons, axis=1)"
   ]
  },
  {
   "cell_type": "code",
   "execution_count": 39,
   "id": "93aba059",
   "metadata": {
    "scrolled": true
   },
   "outputs": [
    {
     "data": {
      "text/plain": [
       "summer    27942\n",
       "spring    20551\n",
       "fall      18881\n",
       "winter    13624\n",
       "Name: Season, dtype: int64"
      ]
     },
     "execution_count": 39,
     "metadata": {},
     "output_type": "execute_result"
    }
   ],
   "source": [
    "us['Season'].value_counts()"
   ]
  },
  {
   "cell_type": "code",
   "execution_count": 40,
   "id": "b6019022",
   "metadata": {},
   "outputs": [
    {
     "name": "stdout",
     "output_type": "stream",
     "text": [
      "<class 'pandas.core.frame.DataFrame'>\n",
      "Int64Index: 80998 entries, 0 to 87280\n",
      "Data columns (total 17 columns):\n",
      " #   Column                  Non-Null Count  Dtype         \n",
      "---  ------                  --------------  -----         \n",
      " 0   Investigation.Type      80998 non-null  object        \n",
      " 1   Accident.Number         80998 non-null  object        \n",
      " 2   Event.Date              80998 non-null  datetime64[ns]\n",
      " 3   Country                 80998 non-null  object        \n",
      " 4   Injury.Severity         80998 non-null  object        \n",
      " 5   Aircraft.damage         80998 non-null  object        \n",
      " 6   Make                    80977 non-null  object        \n",
      " 7   Purpose.of.flight       80998 non-null  object        \n",
      " 8   Total.Fatal.Injuries    80998 non-null  float64       \n",
      " 9   Total.Serious.Injuries  80998 non-null  float64       \n",
      " 10  Total.Minor.Injuries    80998 non-null  float64       \n",
      " 11  Total.Uninjured         80998 non-null  float64       \n",
      " 12  Weather.Condition       80998 non-null  object        \n",
      " 13  Year                    80998 non-null  int64         \n",
      " 14  Month                   80998 non-null  object        \n",
      " 15  Day                     80998 non-null  object        \n",
      " 16  Season                  80998 non-null  object        \n",
      "dtypes: datetime64[ns](1), float64(4), int64(1), object(11)\n",
      "memory usage: 11.1+ MB\n"
     ]
    }
   ],
   "source": [
    "us.info()"
   ]
  },
  {
   "cell_type": "code",
   "execution_count": 41,
   "id": "bdf40398",
   "metadata": {},
   "outputs": [
    {
     "name": "stderr",
     "output_type": "stream",
     "text": [
      "C:\\Users\\basne\\AppData\\Local\\Temp\\ipykernel_10112\\1619042605.py:9: SettingWithCopyWarning: \n",
      "A value is trying to be set on a copy of a slice from a DataFrame.\n",
      "Try using .loc[row_indexer,col_indexer] = value instead\n",
      "\n",
      "See the caveats in the documentation: https://pandas.pydata.org/pandas-docs/stable/user_guide/indexing.html#returning-a-view-versus-a-copy\n",
      "  us['weather_condition'] = us.apply(clean_weather, axis=1)\n"
     ]
    }
   ],
   "source": [
    "def clean_weather(row):\n",
    "    x = str(row['Weather.Condition']).upper()\n",
    "    \n",
    "    if 'UNK' in x:\n",
    "        return 'UNK'\n",
    "    else:\n",
    "        return x\n",
    "\n",
    "us['weather_condition'] = us.apply(clean_weather, axis=1)"
   ]
  },
  {
   "cell_type": "code",
   "execution_count": 45,
   "id": "85517228",
   "metadata": {
    "scrolled": true
   },
   "outputs": [
    {
     "data": {
      "text/plain": [
       "VMC    74270\n",
       "IMC     5586\n",
       "UNK     1142\n",
       "Name: weather_condition, dtype: int64"
      ]
     },
     "execution_count": 45,
     "metadata": {},
     "output_type": "execute_result"
    }
   ],
   "source": [
    "us['weather_condition'].value_counts()"
   ]
  },
  {
   "cell_type": "code",
   "execution_count": 59,
   "id": "8ca63bf2",
   "metadata": {},
   "outputs": [
    {
     "name": "stderr",
     "output_type": "stream",
     "text": [
      "C:\\Users\\basne\\AppData\\Local\\Temp\\ipykernel_10112\\2727295021.py:13: SettingWithCopyWarning: \n",
      "A value is trying to be set on a copy of a slice from a DataFrame.\n",
      "Try using .loc[row_indexer,col_indexer] = value instead\n",
      "\n",
      "See the caveats in the documentation: https://pandas.pydata.org/pandas-docs/stable/user_guide/indexing.html#returning-a-view-versus-a-copy\n",
      "  us['fatal'] = us.apply(clean_fatal, axis=1)\n"
     ]
    }
   ],
   "source": [
    "def clean_fatal(row):\n",
    "    x = int(row['Total.Fatal.Injuries'])\n",
    "    \n",
    "    if 0<x<10:\n",
    "        return '1-digit'\n",
    "    elif 10<=x<100:\n",
    "        return '2-digit'\n",
    "    elif x>=100:\n",
    "        return '3-digit'\n",
    "    else:\n",
    "        return 'non-fatal'\n",
    "        \n",
    "us['fatal'] = us.apply(clean_fatal, axis=1)"
   ]
  },
  {
   "cell_type": "code",
   "execution_count": 53,
   "id": "7c069f1e",
   "metadata": {},
   "outputs": [
    {
     "name": "stdout",
     "output_type": "stream",
     "text": [
      "  Investigation.Type Accident.Number Event.Date        Country  \\\n",
      "0           Accident      SEA87LA080 1948-10-24  United States   \n",
      "1           Accident      LAX94LA336 1962-07-19  United States   \n",
      "2           Accident      NYC07LA005 1974-08-30  United States   \n",
      "3           Accident      LAX96LA321 1977-06-19  United States   \n",
      "4           Accident      CHI79FA064 1979-08-02  United States   \n",
      "\n",
      "  Injury.Severity Aircraft.damage      Make Purpose.of.flight  \\\n",
      "0          Fatal2       Destroyed   Stinson          Personal   \n",
      "1          Fatal4       Destroyed     Piper          Personal   \n",
      "2          Fatal3       Destroyed    Cessna          Personal   \n",
      "3          Fatal2       Destroyed  Rockwell          Personal   \n",
      "4          Fatal1       Destroyed    Cessna          Personal   \n",
      "\n",
      "   Total.Fatal.Injuries  Total.Serious.Injuries  ...    Month       Day  \\\n",
      "0                   2.0                     0.0  ...  October    Sunday   \n",
      "1                   4.0                     0.0  ...     July  Thursday   \n",
      "2                   3.0                     0.0  ...   August    Friday   \n",
      "3                   2.0                     0.0  ...     June    Sunday   \n",
      "4                   1.0                     2.0  ...   August  Thursday   \n",
      "\n",
      "   Season  weather_condition type injury damage weather  season  day  \n",
      "0    fall                UNK    0     18      0       1       0    3  \n",
      "1  summer                UNK    0     33      0       1       2    4  \n",
      "2  summer                IMC    0     29      0       0       2    0  \n",
      "3  summer                IMC    0     18      0       0       2    3  \n",
      "4  summer                VMC    0      1      0       2       2    4  \n",
      "\n",
      "[5 rows x 24 columns]\n"
     ]
    },
    {
     "name": "stderr",
     "output_type": "stream",
     "text": [
      "C:\\Users\\basne\\AppData\\Local\\Temp\\ipykernel_10112\\1958917796.py:2: SettingWithCopyWarning: \n",
      "A value is trying to be set on a copy of a slice from a DataFrame.\n",
      "Try using .loc[row_indexer,col_indexer] = value instead\n",
      "\n",
      "See the caveats in the documentation: https://pandas.pydata.org/pandas-docs/stable/user_guide/indexing.html#returning-a-view-versus-a-copy\n",
      "  us['type'] = label_encoder.fit_transform(us['Investigation.Type'])\n",
      "C:\\Users\\basne\\AppData\\Local\\Temp\\ipykernel_10112\\1958917796.py:3: SettingWithCopyWarning: \n",
      "A value is trying to be set on a copy of a slice from a DataFrame.\n",
      "Try using .loc[row_indexer,col_indexer] = value instead\n",
      "\n",
      "See the caveats in the documentation: https://pandas.pydata.org/pandas-docs/stable/user_guide/indexing.html#returning-a-view-versus-a-copy\n",
      "  us['injury'] = label_encoder.fit_transform(us['Injury.Severity'])\n",
      "C:\\Users\\basne\\AppData\\Local\\Temp\\ipykernel_10112\\1958917796.py:4: SettingWithCopyWarning: \n",
      "A value is trying to be set on a copy of a slice from a DataFrame.\n",
      "Try using .loc[row_indexer,col_indexer] = value instead\n",
      "\n",
      "See the caveats in the documentation: https://pandas.pydata.org/pandas-docs/stable/user_guide/indexing.html#returning-a-view-versus-a-copy\n",
      "  us['damage'] = label_encoder.fit_transform(us['Aircraft.damage'])\n",
      "C:\\Users\\basne\\AppData\\Local\\Temp\\ipykernel_10112\\1958917796.py:5: SettingWithCopyWarning: \n",
      "A value is trying to be set on a copy of a slice from a DataFrame.\n",
      "Try using .loc[row_indexer,col_indexer] = value instead\n",
      "\n",
      "See the caveats in the documentation: https://pandas.pydata.org/pandas-docs/stable/user_guide/indexing.html#returning-a-view-versus-a-copy\n",
      "  us['weather'] = label_encoder.fit_transform(us['weather_condition'])\n",
      "C:\\Users\\basne\\AppData\\Local\\Temp\\ipykernel_10112\\1958917796.py:6: SettingWithCopyWarning: \n",
      "A value is trying to be set on a copy of a slice from a DataFrame.\n",
      "Try using .loc[row_indexer,col_indexer] = value instead\n",
      "\n",
      "See the caveats in the documentation: https://pandas.pydata.org/pandas-docs/stable/user_guide/indexing.html#returning-a-view-versus-a-copy\n",
      "  us['season'] = label_encoder.fit_transform(us['Season'])\n",
      "C:\\Users\\basne\\AppData\\Local\\Temp\\ipykernel_10112\\1958917796.py:7: SettingWithCopyWarning: \n",
      "A value is trying to be set on a copy of a slice from a DataFrame.\n",
      "Try using .loc[row_indexer,col_indexer] = value instead\n",
      "\n",
      "See the caveats in the documentation: https://pandas.pydata.org/pandas-docs/stable/user_guide/indexing.html#returning-a-view-versus-a-copy\n",
      "  us['day'] = label_encoder.fit_transform(us['Day'])\n"
     ]
    }
   ],
   "source": [
    "label_encoder = LabelEncoder()\n",
    "us['type'] = label_encoder.fit_transform(us['Investigation.Type'])\n",
    "us['injury'] = label_encoder.fit_transform(us['Injury.Severity'])\n",
    "us['damage'] = label_encoder.fit_transform(us['Aircraft.damage'])\n",
    "us['weather'] = label_encoder.fit_transform(us['weather_condition'])\n",
    "us['season'] = label_encoder.fit_transform(us['Season'])\n",
    "us['day'] = label_encoder.fit_transform(us['Day'])\n",
    "print(us.head())"
   ]
  },
  {
   "cell_type": "code",
   "execution_count": 61,
   "id": "ff169415",
   "metadata": {},
   "outputs": [
    {
     "data": {
      "text/plain": [
       "non-fatal    66178\n",
       "1-digit      14731\n",
       "2-digit         80\n",
       "3-digit          9\n",
       "Name: fatal, dtype: int64"
      ]
     },
     "execution_count": 61,
     "metadata": {},
     "output_type": "execute_result"
    }
   ],
   "source": [
    "us['fatal'].value_counts()"
   ]
  },
  {
   "cell_type": "code",
   "execution_count": 55,
   "id": "5b52e926",
   "metadata": {},
   "outputs": [
    {
     "name": "stdout",
     "output_type": "stream",
     "text": [
      "Train Accuracy: 0.4156301120404951\n",
      "Test Accuracy: 0.3389506172839506\n"
     ]
    }
   ],
   "source": [
    "#splitting into target and feature variables\n",
    "x1 = us[['injury', 'damage', 'weather', 'Year', 'day']]\n",
    "y1 = us['season']\n",
    "\n",
    "#keep feature names\n",
    "feature_names = x1.columns.tolist()\n",
    "\n",
    "#standardization\n",
    "scaler_std = StandardScaler()\n",
    "x1_standardized = scaler_std.fit_transform(x1)\n",
    "#print(x_standardized)\n",
    "\n",
    "#convert standardized data back to dataframe\n",
    "x1_df = pd.DataFrame(x1_standardized, columns=feature_names)\n",
    "#print(x_df.head())\n",
    "\n",
    "#split into train and test set\n",
    "x1_train, x1_test, y1_train, y1_test = train_test_split(x1_df, y1, test_size=0.2,\n",
    "                                                    random_state=42)\n",
    "#random forest classifier\n",
    "rf = RandomForestClassifier(n_jobs=-1)\n",
    "# rf = RandomForestClassifier(n_estimators=150, max_depth=10)\n",
    "rf.fit(x1_train, y1_train)\n",
    "\n",
    "print(f\"Train Accuracy: {rf.score(x1_train, y1_train)}\")\n",
    "print(f\"Test Accuracy: {rf.score(x1_test, y1_test)}\")"
   ]
  },
  {
   "cell_type": "code",
   "execution_count": 56,
   "id": "b8314a88",
   "metadata": {},
   "outputs": [
    {
     "data": {
      "text/plain": [
       "array([0.10260319, 0.04926097, 0.05854276, 0.59795625, 0.19163682])"
      ]
     },
     "execution_count": 56,
     "metadata": {},
     "output_type": "execute_result"
    }
   ],
   "source": [
    "rf.feature_importances_"
   ]
  },
  {
   "cell_type": "markdown",
   "id": "9d19259d",
   "metadata": {},
   "source": [
    "#### hyperparameter tuning\n",
    "Fitting 5 folds for each of 256 candidates, totalling 1280 fits\n",
    "{'max_depth': 10, 'max_features': 0.75, 'max_samples': 0.2, 'n_estimators': 150}\n",
    "0.64481912446567"
   ]
  },
  {
   "cell_type": "code",
   "execution_count": null,
   "id": "0c5900a4",
   "metadata": {},
   "outputs": [],
   "source": []
  }
 ],
 "metadata": {
  "kernelspec": {
   "display_name": "Python 3 (ipykernel)",
   "language": "python",
   "name": "python3"
  },
  "language_info": {
   "codemirror_mode": {
    "name": "ipython",
    "version": 3
   },
   "file_extension": ".py",
   "mimetype": "text/x-python",
   "name": "python",
   "nbconvert_exporter": "python",
   "pygments_lexer": "ipython3",
   "version": "3.10.5"
  }
 },
 "nbformat": 4,
 "nbformat_minor": 5
}
