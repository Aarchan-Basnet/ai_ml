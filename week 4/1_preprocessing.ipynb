{
 "cells": [
  {
   "cell_type": "code",
   "execution_count": 1,
   "id": "297153d5-a7a6-4bdc-877c-d618c5cc88c2",
   "metadata": {},
   "outputs": [],
   "source": [
    "import pandas as pd\n",
    "import string\n",
    "import numpy as np\n",
    "import re\n",
    "import nepalitokenizers\n",
    "import snowballstemmer"
   ]
  },
  {
   "cell_type": "code",
   "execution_count": 2,
   "id": "eba67599-2c21-4681-8943-12c9ef675b0b",
   "metadata": {
    "scrolled": true
   },
   "outputs": [
    {
     "name": "stdout",
     "output_type": "stream",
     "text": [
      "(4540, 2)\n"
     ]
    },
    {
     "data": {
      "text/html": [
       "<div>\n",
       "<style scoped>\n",
       "    .dataframe tbody tr th:only-of-type {\n",
       "        vertical-align: middle;\n",
       "    }\n",
       "\n",
       "    .dataframe tbody tr th {\n",
       "        vertical-align: top;\n",
       "    }\n",
       "\n",
       "    .dataframe thead th {\n",
       "        text-align: right;\n",
       "    }\n",
       "</style>\n",
       "<table border=\"1\" class=\"dataframe\">\n",
       "  <thead>\n",
       "    <tr style=\"text-align: right;\">\n",
       "      <th></th>\n",
       "      <th>News</th>\n",
       "      <th>Category</th>\n",
       "    </tr>\n",
       "  </thead>\n",
       "  <tbody>\n",
       "    <tr>\n",
       "      <th>0</th>\n",
       "      <td>\\n﻿काठमाण्डौ, ६ असार । नेपाल ललितकला प्रज्ञा प...</td>\n",
       "      <td>politics</td>\n",
       "    </tr>\n",
       "    <tr>\n",
       "      <th>1</th>\n",
       "      <td>नेपालको आशा जीवितैकप्तान पारस खड्काले ब्याट र ...</td>\n",
       "      <td>sport</td>\n",
       "    </tr>\n",
       "    <tr>\n",
       "      <th>2</th>\n",
       "      <td>\\n﻿राजविराज, २६ फागुन । नेकपा एमालेलाई औद्योगि...</td>\n",
       "      <td>politics</td>\n",
       "    </tr>\n",
       "    <tr>\n",
       "      <th>3</th>\n",
       "      <td>सामाजिक कार्यका लागि सुन्दरी\"\\nसौन्दर्य प्रतिय...</td>\n",
       "      <td>entertainment</td>\n",
       "    </tr>\n",
       "    <tr>\n",
       "      <th>4</th>\n",
       "      <td>खराब प्रदर्शनपछि प्रशिक्षण पिच\"महिला राष्ट्रिय...</td>\n",
       "      <td>sport</td>\n",
       "    </tr>\n",
       "  </tbody>\n",
       "</table>\n",
       "</div>"
      ],
      "text/plain": [
       "                                                News       Category\n",
       "0  \\n﻿काठमाण्डौ, ६ असार । नेपाल ललितकला प्रज्ञा प...       politics\n",
       "1  नेपालको आशा जीवितैकप्तान पारस खड्काले ब्याट र ...          sport\n",
       "2  \\n﻿राजविराज, २६ फागुन । नेकपा एमालेलाई औद्योगि...       politics\n",
       "3  सामाजिक कार्यका लागि सुन्दरी\"\\nसौन्दर्य प्रतिय...  entertainment\n",
       "4  खराब प्रदर्शनपछि प्रशिक्षण पिच\"महिला राष्ट्रिय...          sport"
      ]
     },
     "execution_count": 2,
     "metadata": {},
     "output_type": "execute_result"
    }
   ],
   "source": [
    "#create dataframe from csv file\n",
    "df = pd.read_csv('Nepali_Dataset_New.csv')\n",
    "print(df.shape)\n",
    "df.head()"
   ]
  },
  {
   "cell_type": "code",
   "execution_count": 3,
   "id": "7dac5537-b71c-40ed-87cd-dab5eaa01a0b",
   "metadata": {},
   "outputs": [
    {
     "data": {
      "text/plain": [
       "array(['politics', 'sport', 'entertainment', 'tech', 'business'],\n",
       "      dtype=object)"
      ]
     },
     "execution_count": 3,
     "metadata": {},
     "output_type": "execute_result"
    }
   ],
   "source": [
    "df['Category'].unique()"
   ]
  },
  {
   "cell_type": "markdown",
   "id": "e191f71d-8485-494f-a32f-7a4982240203",
   "metadata": {},
   "source": [
    "### Text Cleaning and Stemming for Nepali Text"
   ]
  },
  {
   "cell_type": "code",
   "execution_count": 4,
   "id": "812cdaa2-e586-4893-ae83-cb162537e6a7",
   "metadata": {},
   "outputs": [],
   "source": [
    "# Text cleaning function\n",
    "def clean_text(text):\n",
    "    # Remove non-Nepali characters\n",
    "    cleaned_text = re.sub(r'[^\\u0900-\\u097F\\s]', '', text)\n",
    "    return cleaned_text.strip()\n",
    "\n",
    "# Apply text cleaning\n",
    "df['Cleaned_News'] = df['News'].apply(clean_text)"
   ]
  },
  {
   "cell_type": "code",
   "execution_count": 5,
   "id": "260c6965-d725-4c35-905f-c5bc8ec0aa39",
   "metadata": {},
   "outputs": [
    {
     "data": {
      "text/html": [
       "<div>\n",
       "<style scoped>\n",
       "    .dataframe tbody tr th:only-of-type {\n",
       "        vertical-align: middle;\n",
       "    }\n",
       "\n",
       "    .dataframe tbody tr th {\n",
       "        vertical-align: top;\n",
       "    }\n",
       "\n",
       "    .dataframe thead th {\n",
       "        text-align: right;\n",
       "    }\n",
       "</style>\n",
       "<table border=\"1\" class=\"dataframe\">\n",
       "  <thead>\n",
       "    <tr style=\"text-align: right;\">\n",
       "      <th></th>\n",
       "      <th>News</th>\n",
       "      <th>Category</th>\n",
       "      <th>Cleaned_News</th>\n",
       "    </tr>\n",
       "  </thead>\n",
       "  <tbody>\n",
       "    <tr>\n",
       "      <th>0</th>\n",
       "      <td>\\n﻿काठमाण्डौ, ६ असार । नेपाल ललितकला प्रज्ञा प...</td>\n",
       "      <td>politics</td>\n",
       "      <td>काठमाण्डौ ६ असार । नेपाल ललितकला प्रज्ञा प्रति...</td>\n",
       "    </tr>\n",
       "    <tr>\n",
       "      <th>1</th>\n",
       "      <td>नेपालको आशा जीवितैकप्तान पारस खड्काले ब्याट र ...</td>\n",
       "      <td>sport</td>\n",
       "      <td>नेपालको आशा जीवितैकप्तान पारस खड्काले ब्याट र ...</td>\n",
       "    </tr>\n",
       "    <tr>\n",
       "      <th>2</th>\n",
       "      <td>\\n﻿राजविराज, २६ फागुन । नेकपा एमालेलाई औद्योगि...</td>\n",
       "      <td>politics</td>\n",
       "      <td>राजविराज २६ फागुन । नेकपा एमालेलाई औद्योगिक क्...</td>\n",
       "    </tr>\n",
       "    <tr>\n",
       "      <th>3</th>\n",
       "      <td>सामाजिक कार्यका लागि सुन्दरी\"\\nसौन्दर्य प्रतिय...</td>\n",
       "      <td>entertainment</td>\n",
       "      <td>सामाजिक कार्यका लागि सुन्दरी\\nसौन्दर्य प्रतियो...</td>\n",
       "    </tr>\n",
       "    <tr>\n",
       "      <th>4</th>\n",
       "      <td>खराब प्रदर्शनपछि प्रशिक्षण पिच\"महिला राष्ट्रिय...</td>\n",
       "      <td>sport</td>\n",
       "      <td>खराब प्रदर्शनपछि प्रशिक्षण पिचमहिला राष्ट्रिय ...</td>\n",
       "    </tr>\n",
       "  </tbody>\n",
       "</table>\n",
       "</div>"
      ],
      "text/plain": [
       "                                                News       Category  \\\n",
       "0  \\n﻿काठमाण्डौ, ६ असार । नेपाल ललितकला प्रज्ञा प...       politics   \n",
       "1  नेपालको आशा जीवितैकप्तान पारस खड्काले ब्याट र ...          sport   \n",
       "2  \\n﻿राजविराज, २६ फागुन । नेकपा एमालेलाई औद्योगि...       politics   \n",
       "3  सामाजिक कार्यका लागि सुन्दरी\"\\nसौन्दर्य प्रतिय...  entertainment   \n",
       "4  खराब प्रदर्शनपछि प्रशिक्षण पिच\"महिला राष्ट्रिय...          sport   \n",
       "\n",
       "                                        Cleaned_News  \n",
       "0  काठमाण्डौ ६ असार । नेपाल ललितकला प्रज्ञा प्रति...  \n",
       "1  नेपालको आशा जीवितैकप्तान पारस खड्काले ब्याट र ...  \n",
       "2  राजविराज २६ फागुन । नेकपा एमालेलाई औद्योगिक क्...  \n",
       "3  सामाजिक कार्यका लागि सुन्दरी\\nसौन्दर्य प्रतियो...  \n",
       "4  खराब प्रदर्शनपछि प्रशिक्षण पिचमहिला राष्ट्रिय ...  "
      ]
     },
     "execution_count": 5,
     "metadata": {},
     "output_type": "execute_result"
    }
   ],
   "source": [
    "df.head()"
   ]
  },
  {
   "cell_type": "code",
   "execution_count": 6,
   "id": "876474b5-ba48-4b7f-af6b-102b95a85650",
   "metadata": {},
   "outputs": [],
   "source": [
    "def sentence_tokenize(text):\n",
    "    sentences = text.strip().split(u\"।\")\n",
    "    sentences = [sentence.translate(str.maketrans('', '', string.punctuation)) for sentence in sentences]\n",
    "    return sentences\n",
    "\n",
    "def word_tokenize(sentence, new_punctuation=[]):\n",
    "    punctuations = ['।', ',', ';', '?', '!', '—', '-', '.']\n",
    "    if new_punctuation:\n",
    "        punctuations = set(punctuations + new_punctuation)\n",
    "\n",
    "    for punct in punctuations:\n",
    "        sentence = ''.join(sentence.split(punct))\n",
    "\n",
    "    return sentence"
   ]
  },
  {
   "cell_type": "code",
   "execution_count": 7,
   "id": "85a9b7a1-34b4-4fc2-8ac1-ce884517f3a9",
   "metadata": {},
   "outputs": [],
   "source": [
    "def tokenize_rows(row):\n",
    "    text = row['Cleaned_News']\n",
    "    sentences = sentence_tokenize(text)\n",
    "    # print(sentences)\n",
    "    cleaned_sentence_list = []\n",
    "    \n",
    "    for sentence in sentences:\n",
    "        words = word_tokenize(sentence)\n",
    "        cleaned_sentence_list.append(words)\n",
    "\n",
    "    cleaned_sentence = ''.join(cleaned_sentence_list)\n",
    "\n",
    "    return cleaned_sentence"
   ]
  },
  {
   "cell_type": "code",
   "execution_count": 8,
   "id": "4b2ab7aa-a52f-4eae-9b15-9282e1888ea3",
   "metadata": {
    "scrolled": true
   },
   "outputs": [],
   "source": [
    "df['Cleaned_News'] = df.apply(tokenize_rows, axis=1)"
   ]
  },
  {
   "cell_type": "code",
   "execution_count": 9,
   "id": "7deaebdf-c30b-41ed-a8fb-04c7fbe28c71",
   "metadata": {
    "scrolled": true
   },
   "outputs": [
    {
     "data": {
      "text/html": [
       "<div>\n",
       "<style scoped>\n",
       "    .dataframe tbody tr th:only-of-type {\n",
       "        vertical-align: middle;\n",
       "    }\n",
       "\n",
       "    .dataframe tbody tr th {\n",
       "        vertical-align: top;\n",
       "    }\n",
       "\n",
       "    .dataframe thead th {\n",
       "        text-align: right;\n",
       "    }\n",
       "</style>\n",
       "<table border=\"1\" class=\"dataframe\">\n",
       "  <thead>\n",
       "    <tr style=\"text-align: right;\">\n",
       "      <th></th>\n",
       "      <th>News</th>\n",
       "      <th>Category</th>\n",
       "      <th>Cleaned_News</th>\n",
       "    </tr>\n",
       "  </thead>\n",
       "  <tbody>\n",
       "    <tr>\n",
       "      <th>0</th>\n",
       "      <td>\\n﻿काठमाण्डौ, ६ असार । नेपाल ललितकला प्रज्ञा प...</td>\n",
       "      <td>politics</td>\n",
       "      <td>काठमाण्डौ ६ असार  नेपाल ललितकला प्रज्ञा प्रतिष...</td>\n",
       "    </tr>\n",
       "    <tr>\n",
       "      <th>1</th>\n",
       "      <td>नेपालको आशा जीवितैकप्तान पारस खड्काले ब्याट र ...</td>\n",
       "      <td>sport</td>\n",
       "      <td>नेपालको आशा जीवितैकप्तान पारस खड्काले ब्याट र ...</td>\n",
       "    </tr>\n",
       "    <tr>\n",
       "      <th>2</th>\n",
       "      <td>\\n﻿राजविराज, २६ फागुन । नेकपा एमालेलाई औद्योगि...</td>\n",
       "      <td>politics</td>\n",
       "      <td>राजविराज २६ फागुन  नेकपा एमालेलाई औद्योगिक क्ष...</td>\n",
       "    </tr>\n",
       "    <tr>\n",
       "      <th>3</th>\n",
       "      <td>सामाजिक कार्यका लागि सुन्दरी\"\\nसौन्दर्य प्रतिय...</td>\n",
       "      <td>entertainment</td>\n",
       "      <td>सामाजिक कार्यका लागि सुन्दरी\\nसौन्दर्य प्रतियो...</td>\n",
       "    </tr>\n",
       "    <tr>\n",
       "      <th>4</th>\n",
       "      <td>खराब प्रदर्शनपछि प्रशिक्षण पिच\"महिला राष्ट्रिय...</td>\n",
       "      <td>sport</td>\n",
       "      <td>खराब प्रदर्शनपछि प्रशिक्षण पिचमहिला राष्ट्रिय ...</td>\n",
       "    </tr>\n",
       "  </tbody>\n",
       "</table>\n",
       "</div>"
      ],
      "text/plain": [
       "                                                News       Category  \\\n",
       "0  \\n﻿काठमाण्डौ, ६ असार । नेपाल ललितकला प्रज्ञा प...       politics   \n",
       "1  नेपालको आशा जीवितैकप्तान पारस खड्काले ब्याट र ...          sport   \n",
       "2  \\n﻿राजविराज, २६ फागुन । नेकपा एमालेलाई औद्योगि...       politics   \n",
       "3  सामाजिक कार्यका लागि सुन्दरी\"\\nसौन्दर्य प्रतिय...  entertainment   \n",
       "4  खराब प्रदर्शनपछि प्रशिक्षण पिच\"महिला राष्ट्रिय...          sport   \n",
       "\n",
       "                                        Cleaned_News  \n",
       "0  काठमाण्डौ ६ असार  नेपाल ललितकला प्रज्ञा प्रतिष...  \n",
       "1  नेपालको आशा जीवितैकप्तान पारस खड्काले ब्याट र ...  \n",
       "2  राजविराज २६ फागुन  नेकपा एमालेलाई औद्योगिक क्ष...  \n",
       "3  सामाजिक कार्यका लागि सुन्दरी\\nसौन्दर्य प्रतियो...  \n",
       "4  खराब प्रदर्शनपछि प्रशिक्षण पिचमहिला राष्ट्रिय ...  "
      ]
     },
     "execution_count": 9,
     "metadata": {},
     "output_type": "execute_result"
    }
   ],
   "source": [
    "df.head()"
   ]
  },
  {
   "cell_type": "code",
   "execution_count": 10,
   "id": "08def72f-80d6-4ab1-a8d3-29305081b012",
   "metadata": {},
   "outputs": [],
   "source": [
    "def stem_rows(row):\n",
    "    sentence = row['Cleaned_News']\n",
    "    tokens = sentence.split()\n",
    "    stemmer = snowballstemmer.NepaliStemmer()\n",
    "    stemmed = stemmer.stemWords(tokens)\n",
    "\n",
    "    return ' '.join(stemmed)"
   ]
  },
  {
   "cell_type": "code",
   "execution_count": 11,
   "id": "41a8d2d7-8fbc-4392-ba64-1920a7291c54",
   "metadata": {},
   "outputs": [],
   "source": [
    "df['Stemmed'] = df.apply(stem_rows, axis=1)"
   ]
  },
  {
   "cell_type": "code",
   "execution_count": 12,
   "id": "5d9bbf7a-516e-44d3-920e-e51761d9c464",
   "metadata": {},
   "outputs": [
    {
     "data": {
      "text/html": [
       "<div>\n",
       "<style scoped>\n",
       "    .dataframe tbody tr th:only-of-type {\n",
       "        vertical-align: middle;\n",
       "    }\n",
       "\n",
       "    .dataframe tbody tr th {\n",
       "        vertical-align: top;\n",
       "    }\n",
       "\n",
       "    .dataframe thead th {\n",
       "        text-align: right;\n",
       "    }\n",
       "</style>\n",
       "<table border=\"1\" class=\"dataframe\">\n",
       "  <thead>\n",
       "    <tr style=\"text-align: right;\">\n",
       "      <th></th>\n",
       "      <th>News</th>\n",
       "      <th>Category</th>\n",
       "      <th>Cleaned_News</th>\n",
       "      <th>Stemmed</th>\n",
       "    </tr>\n",
       "  </thead>\n",
       "  <tbody>\n",
       "    <tr>\n",
       "      <th>0</th>\n",
       "      <td>\\n﻿काठमाण्डौ, ६ असार । नेपाल ललितकला प्रज्ञा प...</td>\n",
       "      <td>politics</td>\n",
       "      <td>काठमाण्डौ ६ असार  नेपाल ललितकला प्रज्ञा प्रतिष...</td>\n",
       "      <td>काठमाण्डौ ६ असार नेपाल ललितकला प्रज्ञा प्रतिष्...</td>\n",
       "    </tr>\n",
       "    <tr>\n",
       "      <th>1</th>\n",
       "      <td>नेपालको आशा जीवितैकप्तान पारस खड्काले ब्याट र ...</td>\n",
       "      <td>sport</td>\n",
       "      <td>नेपालको आशा जीवितैकप्तान पारस खड्काले ब्याट र ...</td>\n",
       "      <td>नेपाल आशा जीवितैकप्तान पारस खड्का ब्याट र शक्त...</td>\n",
       "    </tr>\n",
       "    <tr>\n",
       "      <th>2</th>\n",
       "      <td>\\n﻿राजविराज, २६ फागुन । नेकपा एमालेलाई औद्योगि...</td>\n",
       "      <td>politics</td>\n",
       "      <td>राजविराज २६ फागुन  नेकपा एमालेलाई औद्योगिक क्ष...</td>\n",
       "      <td>राजविराज २६ फागुन नेकपा एमाले औद्योगिक क्षेत्र...</td>\n",
       "    </tr>\n",
       "    <tr>\n",
       "      <th>3</th>\n",
       "      <td>सामाजिक कार्यका लागि सुन्दरी\"\\nसौन्दर्य प्रतिय...</td>\n",
       "      <td>entertainment</td>\n",
       "      <td>सामाजिक कार्यका लागि सुन्दरी\\nसौन्दर्य प्रतियो...</td>\n",
       "      <td>सामाजिक कार्य लागि सुन्दरी सौन्दर्य प्रतियोगित...</td>\n",
       "    </tr>\n",
       "    <tr>\n",
       "      <th>4</th>\n",
       "      <td>खराब प्रदर्शनपछि प्रशिक्षण पिच\"महिला राष्ट्रिय...</td>\n",
       "      <td>sport</td>\n",
       "      <td>खराब प्रदर्शनपछि प्रशिक्षण पिचमहिला राष्ट्रिय ...</td>\n",
       "      <td>खराब प्रदर्शन प्रशिक्षण पिचमहिला राष्ट्रिय यू ...</td>\n",
       "    </tr>\n",
       "  </tbody>\n",
       "</table>\n",
       "</div>"
      ],
      "text/plain": [
       "                                                News       Category  \\\n",
       "0  \\n﻿काठमाण्डौ, ६ असार । नेपाल ललितकला प्रज्ञा प...       politics   \n",
       "1  नेपालको आशा जीवितैकप्तान पारस खड्काले ब्याट र ...          sport   \n",
       "2  \\n﻿राजविराज, २६ फागुन । नेकपा एमालेलाई औद्योगि...       politics   \n",
       "3  सामाजिक कार्यका लागि सुन्दरी\"\\nसौन्दर्य प्रतिय...  entertainment   \n",
       "4  खराब प्रदर्शनपछि प्रशिक्षण पिच\"महिला राष्ट्रिय...          sport   \n",
       "\n",
       "                                        Cleaned_News  \\\n",
       "0  काठमाण्डौ ६ असार  नेपाल ललितकला प्रज्ञा प्रतिष...   \n",
       "1  नेपालको आशा जीवितैकप्तान पारस खड्काले ब्याट र ...   \n",
       "2  राजविराज २६ फागुन  नेकपा एमालेलाई औद्योगिक क्ष...   \n",
       "3  सामाजिक कार्यका लागि सुन्दरी\\nसौन्दर्य प्रतियो...   \n",
       "4  खराब प्रदर्शनपछि प्रशिक्षण पिचमहिला राष्ट्रिय ...   \n",
       "\n",
       "                                             Stemmed  \n",
       "0  काठमाण्डौ ६ असार नेपाल ललितकला प्रज्ञा प्रतिष्...  \n",
       "1  नेपाल आशा जीवितैकप्तान पारस खड्का ब्याट र शक्त...  \n",
       "2  राजविराज २६ फागुन नेकपा एमाले औद्योगिक क्षेत्र...  \n",
       "3  सामाजिक कार्य लागि सुन्दरी सौन्दर्य प्रतियोगित...  \n",
       "4  खराब प्रदर्शन प्रशिक्षण पिचमहिला राष्ट्रिय यू ...  "
      ]
     },
     "execution_count": 12,
     "metadata": {},
     "output_type": "execute_result"
    }
   ],
   "source": [
    "df.head()"
   ]
  },
  {
   "cell_type": "code",
   "execution_count": 13,
   "id": "bbbcfa49-e474-4558-bdd0-9e6f08e8d8c0",
   "metadata": {},
   "outputs": [],
   "source": [
    "#save to new csv file\n",
    "df.to_csv('preprocessed.csv', index=False)"
   ]
  },
  {
   "cell_type": "code",
   "execution_count": null,
   "id": "5857a92b-7279-470d-b5f2-c8b46fde63ae",
   "metadata": {},
   "outputs": [],
   "source": []
  }
 ],
 "metadata": {
  "kernelspec": {
   "display_name": "Python 3 (ipykernel)",
   "language": "python",
   "name": "python3"
  },
  "language_info": {
   "codemirror_mode": {
    "name": "ipython",
    "version": 3
   },
   "file_extension": ".py",
   "mimetype": "text/x-python",
   "name": "python",
   "nbconvert_exporter": "python",
   "pygments_lexer": "ipython3",
   "version": "3.12.2"
  },
  "widgets": {
   "application/vnd.jupyter.widget-state+json": {
    "state": {},
    "version_major": 2,
    "version_minor": 0
   }
  }
 },
 "nbformat": 4,
 "nbformat_minor": 5
}
