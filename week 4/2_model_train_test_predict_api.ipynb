{
  "cells": [
    {
      "cell_type": "code",
      "execution_count": 1,
      "metadata": {
        "id": "MpCjvXDznrDF"
      },
      "outputs": [],
      "source": [
        "import pandas as pd\n",
        "import tensorflow as tf\n",
        "import numpy as np\n",
        "from sklearn.model_selection import train_test_split\n",
        "from sklearn.preprocessing import LabelEncoder\n",
        "from tensorflow.keras.preprocessing.text import Tokenizer, tokenizer_from_json\n",
        "from tensorflow.keras.preprocessing.sequence import pad_sequences\n",
        "from tensorflow.keras.layers import Embedding, LSTM, Dense\n",
        "from tensorflow.keras.models import Sequential\n",
        "from tensorflow.keras.callbacks import EarlyStopping\n",
        "from tensorflow.keras.models import load_model"
      ]
    },
    {
      "cell_type": "code",
      "source": [
        "from google.colab import drive\n",
        "drive.mount('/content/drive')"
      ],
      "metadata": {
        "colab": {
          "base_uri": "https://localhost:8080/"
        },
        "id": "Ot9H20b8f7Pz",
        "outputId": "5da1aa8f-f853-4dce-f535-af196c98d25a"
      },
      "execution_count": 2,
      "outputs": [
        {
          "output_type": "stream",
          "name": "stdout",
          "text": [
            "Mounted at /content/drive\n"
          ]
        }
      ]
    },
    {
      "cell_type": "code",
      "execution_count": null,
      "metadata": {
        "colab": {
          "base_uri": "https://localhost:8080/",
          "height": 328
        },
        "id": "CcWrmuMvoHT8",
        "outputId": "63e0b9f5-e78f-41ab-c62b-082e8d25da9f"
      },
      "outputs": [
        {
          "output_type": "execute_result",
          "data": {
            "text/plain": [
              "                                                News       Category  \\\n",
              "0  \\n﻿काठमाण्डौ, ६ असार । नेपाल ललितकला प्रज्ञा प...       politics   \n",
              "1  नेपालको आशा जीवितैकप्तान पारस खड्काले ब्याट र ...          sport   \n",
              "2  \\n﻿राजविराज, २६ फागुन । नेकपा एमालेलाई औद्योगि...       politics   \n",
              "3  सामाजिक कार्यका लागि सुन्दरी\"\\nसौन्दर्य प्रतिय...  entertainment   \n",
              "4  खराब प्रदर्शनपछि प्रशिक्षण पिच\"महिला राष्ट्रिय...          sport   \n",
              "\n",
              "                                        Cleaned_News  \\\n",
              "0  काठमाण्डौ ६ असार  नेपाल ललितकला प्रज्ञा प्रतिष...   \n",
              "1  नेपालको आशा जीवितैकप्तान पारस खड्काले ब्याट र ...   \n",
              "2  राजविराज २६ फागुन  नेकपा एमालेलाई औद्योगिक क्ष...   \n",
              "3  सामाजिक कार्यका लागि सुन्दरी\\nसौन्दर्य प्रतियो...   \n",
              "4  खराब प्रदर्शनपछि प्रशिक्षण पिचमहिला राष्ट्रिय ...   \n",
              "\n",
              "                                             Stemmed  \n",
              "0  काठमाण्डौ ६ असार नेपाल ललितकला प्रज्ञा प्रतिष्...  \n",
              "1  नेपाल आशा जीवितैकप्तान पारस खड्का ब्याट र शक्त...  \n",
              "2  राजविराज २६ फागुन नेकपा एमाले औद्योगिक क्षेत्र...  \n",
              "3  सामाजिक कार्य लागि सुन्दरी सौन्दर्य प्रतियोगित...  \n",
              "4  खराब प्रदर्शन प्रशिक्षण पिचमहिला राष्ट्रिय यू ...  "
            ],
            "text/html": [
              "\n",
              "  <div id=\"df-ad8eb23c-0894-459a-9b89-016721970092\" class=\"colab-df-container\">\n",
              "    <div>\n",
              "<style scoped>\n",
              "    .dataframe tbody tr th:only-of-type {\n",
              "        vertical-align: middle;\n",
              "    }\n",
              "\n",
              "    .dataframe tbody tr th {\n",
              "        vertical-align: top;\n",
              "    }\n",
              "\n",
              "    .dataframe thead th {\n",
              "        text-align: right;\n",
              "    }\n",
              "</style>\n",
              "<table border=\"1\" class=\"dataframe\">\n",
              "  <thead>\n",
              "    <tr style=\"text-align: right;\">\n",
              "      <th></th>\n",
              "      <th>News</th>\n",
              "      <th>Category</th>\n",
              "      <th>Cleaned_News</th>\n",
              "      <th>Stemmed</th>\n",
              "    </tr>\n",
              "  </thead>\n",
              "  <tbody>\n",
              "    <tr>\n",
              "      <th>0</th>\n",
              "      <td>\\n﻿काठमाण्डौ, ६ असार । नेपाल ललितकला प्रज्ञा प...</td>\n",
              "      <td>politics</td>\n",
              "      <td>काठमाण्डौ ६ असार  नेपाल ललितकला प्रज्ञा प्रतिष...</td>\n",
              "      <td>काठमाण्डौ ६ असार नेपाल ललितकला प्रज्ञा प्रतिष्...</td>\n",
              "    </tr>\n",
              "    <tr>\n",
              "      <th>1</th>\n",
              "      <td>नेपालको आशा जीवितैकप्तान पारस खड्काले ब्याट र ...</td>\n",
              "      <td>sport</td>\n",
              "      <td>नेपालको आशा जीवितैकप्तान पारस खड्काले ब्याट र ...</td>\n",
              "      <td>नेपाल आशा जीवितैकप्तान पारस खड्का ब्याट र शक्त...</td>\n",
              "    </tr>\n",
              "    <tr>\n",
              "      <th>2</th>\n",
              "      <td>\\n﻿राजविराज, २६ फागुन । नेकपा एमालेलाई औद्योगि...</td>\n",
              "      <td>politics</td>\n",
              "      <td>राजविराज २६ फागुन  नेकपा एमालेलाई औद्योगिक क्ष...</td>\n",
              "      <td>राजविराज २६ फागुन नेकपा एमाले औद्योगिक क्षेत्र...</td>\n",
              "    </tr>\n",
              "    <tr>\n",
              "      <th>3</th>\n",
              "      <td>सामाजिक कार्यका लागि सुन्दरी\"\\nसौन्दर्य प्रतिय...</td>\n",
              "      <td>entertainment</td>\n",
              "      <td>सामाजिक कार्यका लागि सुन्दरी\\nसौन्दर्य प्रतियो...</td>\n",
              "      <td>सामाजिक कार्य लागि सुन्दरी सौन्दर्य प्रतियोगित...</td>\n",
              "    </tr>\n",
              "    <tr>\n",
              "      <th>4</th>\n",
              "      <td>खराब प्रदर्शनपछि प्रशिक्षण पिच\"महिला राष्ट्रिय...</td>\n",
              "      <td>sport</td>\n",
              "      <td>खराब प्रदर्शनपछि प्रशिक्षण पिचमहिला राष्ट्रिय ...</td>\n",
              "      <td>खराब प्रदर्शन प्रशिक्षण पिचमहिला राष्ट्रिय यू ...</td>\n",
              "    </tr>\n",
              "  </tbody>\n",
              "</table>\n",
              "</div>\n",
              "    <div class=\"colab-df-buttons\">\n",
              "\n",
              "  <div class=\"colab-df-container\">\n",
              "    <button class=\"colab-df-convert\" onclick=\"convertToInteractive('df-ad8eb23c-0894-459a-9b89-016721970092')\"\n",
              "            title=\"Convert this dataframe to an interactive table.\"\n",
              "            style=\"display:none;\">\n",
              "\n",
              "  <svg xmlns=\"http://www.w3.org/2000/svg\" height=\"24px\" viewBox=\"0 -960 960 960\">\n",
              "    <path d=\"M120-120v-720h720v720H120Zm60-500h600v-160H180v160Zm220 220h160v-160H400v160Zm0 220h160v-160H400v160ZM180-400h160v-160H180v160Zm440 0h160v-160H620v160ZM180-180h160v-160H180v160Zm440 0h160v-160H620v160Z\"/>\n",
              "  </svg>\n",
              "    </button>\n",
              "\n",
              "  <style>\n",
              "    .colab-df-container {\n",
              "      display:flex;\n",
              "      gap: 12px;\n",
              "    }\n",
              "\n",
              "    .colab-df-convert {\n",
              "      background-color: #E8F0FE;\n",
              "      border: none;\n",
              "      border-radius: 50%;\n",
              "      cursor: pointer;\n",
              "      display: none;\n",
              "      fill: #1967D2;\n",
              "      height: 32px;\n",
              "      padding: 0 0 0 0;\n",
              "      width: 32px;\n",
              "    }\n",
              "\n",
              "    .colab-df-convert:hover {\n",
              "      background-color: #E2EBFA;\n",
              "      box-shadow: 0px 1px 2px rgba(60, 64, 67, 0.3), 0px 1px 3px 1px rgba(60, 64, 67, 0.15);\n",
              "      fill: #174EA6;\n",
              "    }\n",
              "\n",
              "    .colab-df-buttons div {\n",
              "      margin-bottom: 4px;\n",
              "    }\n",
              "\n",
              "    [theme=dark] .colab-df-convert {\n",
              "      background-color: #3B4455;\n",
              "      fill: #D2E3FC;\n",
              "    }\n",
              "\n",
              "    [theme=dark] .colab-df-convert:hover {\n",
              "      background-color: #434B5C;\n",
              "      box-shadow: 0px 1px 3px 1px rgba(0, 0, 0, 0.15);\n",
              "      filter: drop-shadow(0px 1px 2px rgba(0, 0, 0, 0.3));\n",
              "      fill: #FFFFFF;\n",
              "    }\n",
              "  </style>\n",
              "\n",
              "    <script>\n",
              "      const buttonEl =\n",
              "        document.querySelector('#df-ad8eb23c-0894-459a-9b89-016721970092 button.colab-df-convert');\n",
              "      buttonEl.style.display =\n",
              "        google.colab.kernel.accessAllowed ? 'block' : 'none';\n",
              "\n",
              "      async function convertToInteractive(key) {\n",
              "        const element = document.querySelector('#df-ad8eb23c-0894-459a-9b89-016721970092');\n",
              "        const dataTable =\n",
              "          await google.colab.kernel.invokeFunction('convertToInteractive',\n",
              "                                                    [key], {});\n",
              "        if (!dataTable) return;\n",
              "\n",
              "        const docLinkHtml = 'Like what you see? Visit the ' +\n",
              "          '<a target=\"_blank\" href=https://colab.research.google.com/notebooks/data_table.ipynb>data table notebook</a>'\n",
              "          + ' to learn more about interactive tables.';\n",
              "        element.innerHTML = '';\n",
              "        dataTable['output_type'] = 'display_data';\n",
              "        await google.colab.output.renderOutput(dataTable, element);\n",
              "        const docLink = document.createElement('div');\n",
              "        docLink.innerHTML = docLinkHtml;\n",
              "        element.appendChild(docLink);\n",
              "      }\n",
              "    </script>\n",
              "  </div>\n",
              "\n",
              "\n",
              "<div id=\"df-e167d8e2-e259-442b-861c-c2fe4cb22aeb\">\n",
              "  <button class=\"colab-df-quickchart\" onclick=\"quickchart('df-e167d8e2-e259-442b-861c-c2fe4cb22aeb')\"\n",
              "            title=\"Suggest charts\"\n",
              "            style=\"display:none;\">\n",
              "\n",
              "<svg xmlns=\"http://www.w3.org/2000/svg\" height=\"24px\"viewBox=\"0 0 24 24\"\n",
              "     width=\"24px\">\n",
              "    <g>\n",
              "        <path d=\"M19 3H5c-1.1 0-2 .9-2 2v14c0 1.1.9 2 2 2h14c1.1 0 2-.9 2-2V5c0-1.1-.9-2-2-2zM9 17H7v-7h2v7zm4 0h-2V7h2v10zm4 0h-2v-4h2v4z\"/>\n",
              "    </g>\n",
              "</svg>\n",
              "  </button>\n",
              "\n",
              "<style>\n",
              "  .colab-df-quickchart {\n",
              "      --bg-color: #E8F0FE;\n",
              "      --fill-color: #1967D2;\n",
              "      --hover-bg-color: #E2EBFA;\n",
              "      --hover-fill-color: #174EA6;\n",
              "      --disabled-fill-color: #AAA;\n",
              "      --disabled-bg-color: #DDD;\n",
              "  }\n",
              "\n",
              "  [theme=dark] .colab-df-quickchart {\n",
              "      --bg-color: #3B4455;\n",
              "      --fill-color: #D2E3FC;\n",
              "      --hover-bg-color: #434B5C;\n",
              "      --hover-fill-color: #FFFFFF;\n",
              "      --disabled-bg-color: #3B4455;\n",
              "      --disabled-fill-color: #666;\n",
              "  }\n",
              "\n",
              "  .colab-df-quickchart {\n",
              "    background-color: var(--bg-color);\n",
              "    border: none;\n",
              "    border-radius: 50%;\n",
              "    cursor: pointer;\n",
              "    display: none;\n",
              "    fill: var(--fill-color);\n",
              "    height: 32px;\n",
              "    padding: 0;\n",
              "    width: 32px;\n",
              "  }\n",
              "\n",
              "  .colab-df-quickchart:hover {\n",
              "    background-color: var(--hover-bg-color);\n",
              "    box-shadow: 0 1px 2px rgba(60, 64, 67, 0.3), 0 1px 3px 1px rgba(60, 64, 67, 0.15);\n",
              "    fill: var(--button-hover-fill-color);\n",
              "  }\n",
              "\n",
              "  .colab-df-quickchart-complete:disabled,\n",
              "  .colab-df-quickchart-complete:disabled:hover {\n",
              "    background-color: var(--disabled-bg-color);\n",
              "    fill: var(--disabled-fill-color);\n",
              "    box-shadow: none;\n",
              "  }\n",
              "\n",
              "  .colab-df-spinner {\n",
              "    border: 2px solid var(--fill-color);\n",
              "    border-color: transparent;\n",
              "    border-bottom-color: var(--fill-color);\n",
              "    animation:\n",
              "      spin 1s steps(1) infinite;\n",
              "  }\n",
              "\n",
              "  @keyframes spin {\n",
              "    0% {\n",
              "      border-color: transparent;\n",
              "      border-bottom-color: var(--fill-color);\n",
              "      border-left-color: var(--fill-color);\n",
              "    }\n",
              "    20% {\n",
              "      border-color: transparent;\n",
              "      border-left-color: var(--fill-color);\n",
              "      border-top-color: var(--fill-color);\n",
              "    }\n",
              "    30% {\n",
              "      border-color: transparent;\n",
              "      border-left-color: var(--fill-color);\n",
              "      border-top-color: var(--fill-color);\n",
              "      border-right-color: var(--fill-color);\n",
              "    }\n",
              "    40% {\n",
              "      border-color: transparent;\n",
              "      border-right-color: var(--fill-color);\n",
              "      border-top-color: var(--fill-color);\n",
              "    }\n",
              "    60% {\n",
              "      border-color: transparent;\n",
              "      border-right-color: var(--fill-color);\n",
              "    }\n",
              "    80% {\n",
              "      border-color: transparent;\n",
              "      border-right-color: var(--fill-color);\n",
              "      border-bottom-color: var(--fill-color);\n",
              "    }\n",
              "    90% {\n",
              "      border-color: transparent;\n",
              "      border-bottom-color: var(--fill-color);\n",
              "    }\n",
              "  }\n",
              "</style>\n",
              "\n",
              "  <script>\n",
              "    async function quickchart(key) {\n",
              "      const quickchartButtonEl =\n",
              "        document.querySelector('#' + key + ' button');\n",
              "      quickchartButtonEl.disabled = true;  // To prevent multiple clicks.\n",
              "      quickchartButtonEl.classList.add('colab-df-spinner');\n",
              "      try {\n",
              "        const charts = await google.colab.kernel.invokeFunction(\n",
              "            'suggestCharts', [key], {});\n",
              "      } catch (error) {\n",
              "        console.error('Error during call to suggestCharts:', error);\n",
              "      }\n",
              "      quickchartButtonEl.classList.remove('colab-df-spinner');\n",
              "      quickchartButtonEl.classList.add('colab-df-quickchart-complete');\n",
              "    }\n",
              "    (() => {\n",
              "      let quickchartButtonEl =\n",
              "        document.querySelector('#df-e167d8e2-e259-442b-861c-c2fe4cb22aeb button');\n",
              "      quickchartButtonEl.style.display =\n",
              "        google.colab.kernel.accessAllowed ? 'block' : 'none';\n",
              "    })();\n",
              "  </script>\n",
              "</div>\n",
              "\n",
              "    </div>\n",
              "  </div>\n"
            ],
            "application/vnd.google.colaboratory.intrinsic+json": {
              "type": "dataframe",
              "variable_name": "df",
              "summary": "{\n  \"name\": \"df\",\n  \"rows\": 4540,\n  \"fields\": [\n    {\n      \"column\": \"News\",\n      \"properties\": {\n        \"dtype\": \"string\",\n        \"num_unique_values\": 4536,\n        \"samples\": [\n          \"\\n\\ufeff\\u0930\\u093e\\u091c\\u0935\\u093f\\u0930\\u093e\\u091c, \\u0968\\u096d \\u092e\\u093e\\u0918 \\u0964 \\u0938\\u094d\\u0935\\u0924\\u0928\\u094d\\u0924\\u094d\\u0930 \\u092e\\u0927\\u0947\\u0936 \\u0917\\u0920\\u092c\\u0928\\u094d\\u0927\\u0928\\u0915\\u093e \\u0938\\u0902\\u092f\\u094b\\u091c\\u0915 \\u0921\\u093e. \\u0938\\u093f\\u0915\\u0947 \\u0930\\u093e\\u0909\\u0924\\u0915\\u094b \\u0930\\u093f\\u0939\\u093e\\u0908\\u0915\\u094b \\u092e\\u093e\\u0917 \\u0917\\u0930\\u094d\\u0926\\u0948 \\u0935\\u093f\\u0939\\u0940\\u0935\\u093e\\u0930 \\u0938\\u092a\\u094d\\u0924\\u0930\\u0940\\u0915\\u094b \\u0922\\u094b\\u0922\\u0935\\u093e \\u091a\\u094c\\u0915\\u092e\\u093e \\u092a\\u094d\\u0930\\u0926\\u0930\\u094d\\u0936\\u0928 \\u0930 \\u0938\\u092d\\u093e \\u0906\\u092f\\u094b\\u091c\\u0928\\u093e \\u0917\\u0930\\u093f\\u090f\\u0915\\u094b \\u091b \\u0964\\n\\u0917\\u0920\\u092c\\u0928\\u094d\\u0927\\u0928 \\u0938\\u092e\\u0930\\u094d\\u0925\\u0915\\u0939\\u0930\\u0941\\u0932\\u0947 \\u0928\\u093e\\u0930\\u093e\\u092c\\u093e\\u091c\\u0940 \\u092c\\u091c\\u093e\\u0930\\u0915\\u094b \\u0935\\u093f\\u092d\\u093f\\u0928\\u094d\\u0928 \\u092a\\u0930\\u093f\\u0915\\u094d\\u0930\\u092e\\u093e \\u092a\\u0936\\u094d\\u091a\\u093e\\u0924 \\u091a\\u094c\\u0915\\u092e\\u093e \\u0915\\u094b\\u0923\\u0938\\u092d\\u093e\\u0915\\u094b \\u0906\\u092f\\u094b\\u091c\\u0928\\u093e \\u0917\\u0930\\u0947\\u0915\\u094b \\u091c\\u0928\\u093e\\u0908\\u090f\\u0915\\u094b \\u091b \\u0964 \\u0909\\u0915\\u094d\\u0924 \\u0938\\u092d\\u093e\\u092e\\u093e \\u0917\\u0920\\u092c\\u0928\\u094d\\u0927\\u0928\\u0915\\u093e \\u0905\\u092d\\u093f\\u092f\\u093e\\u0928\\u0915\\u0930\\u094d\\u0924\\u093e\\u0939\\u0930\\u0941\\u0932\\u0947 \\u0938\\u092e\\u094d\\u0935\\u094b\\u0927\\u0928 \\u0917\\u0930\\u0947\\u0915\\u093e \\u091b\\u0928\\u094d \\u0964\",\n          \" \\u0938\\u093e\\u0917 \\u090f\\u0938\\u093f\\u092f\\u093e\\u0921 \\u0930 \\u0913\\u0932\\u092e\\u094d\\u092a\\u093f\\u0915 \\u092f\\u093e\\u0924\\u094d\\u0930\\u093e \\u0924\\u0925\\u093e \\u0935\\u093f\\u092d\\u093f\\u0928\\u094d\\u0928 \\u0926\\u0947\\u0936\\u092e\\u093e \\u092d\\u093e\\u0917 \\u0932\\u093f\\u0901\\u0926\\u093e\\u0915\\u094b \\u0905\\u0928\\u0941\\u092d\\u0935 \\u0924\\u094d\\u092f\\u0938 \\u0905\\u0935\\u0938\\u0930\\u092e\\u093e \\u0938\\u093e\\u091f\\u0947\\u0915\\u093e \\u0925\\u093f\\u090f  \\n\\t \\n\\t \\n\\t \\n\\t \\n\\t \\n\\\"\\n\",\n          \"\\u0924\\u0943\\u0924\\u0940\\u092f\\u093e\\u0902\\u0936 \\u092c\\u091c\\u0947\\u091f \\u0932\\u094d\\u092f\\u093e\\u0909\\u0928\\u0947 \\u0924\\u092f\\u093e\\u0930\\u0940\\u0938\\u0930\\u0915\\u093e\\u0930\\u0932\\u0947 \\u092a\\u094d\\u0930\\u092e\\u0941\\u0916 \\u0930\\u093e\\u091c\\u0928\\u0940\\u0924\\u093f\\u0915 \\u0926\\u0932\\u0939\\u0930\\u0942\\u092c\\u0940\\u091a \\u0938\\u0939\\u092e\\u0924\\u093f \\u0928\\u091c\\u0941\\u091f\\u0947 \\u090f\\u0915 \\u0924\\u0943\\u0924\\u0940\\u092f\\u093e\\u0902\\u0936\\u0915\\u094b \\u092c\\u091c\\u0947\\u091f \\u0932\\u094d\\u092f\\u093e\\u0909\\u0928\\u0947 \\u0938\\u0902\\u0915\\u0947\\u0924 \\u0926\\u093f\\u090f\\u0915\\u094b \\u091b  \\u092a\\u0942\\u0930\\u094d\\u0923 \\u0906\\u0915\\u093e\\u0930\\u0915\\u094b \\u092c\\u091c\\u0947\\u091f\\u0915\\u093e \\u0932\\u093e\\u0917\\u093f \\u0930\\u093e\\u0937\\u094d\\u091f\\u094d\\u0930\\u092a\\u0924\\u093f\\u0932\\u093e\\u0908 \\u092e\\u0928\\u093e\\u0909\\u0928\\u0947 \\u092a\\u094d\\u0930\\u092f\\u093e\\u0938 \\u0905\\u0938\\u092b\\u0932 \\u092d\\u090f\\u092a\\u091b\\u093f \\u0938\\u0930\\u0915\\u093e\\u0930\\u0932\\u0947 \\u0924\\u094d\\u092f\\u0938\\u094d\\u0924\\u094b \\u0924\\u092f\\u093e\\u0930\\u0940 \\u0925\\u093e\\u0932\\u094d\\u0928\\u0947 \\u0938\\u0902\\u0915\\u0947\\u0924 \\u092e\\u093e\\u0913\\u0935\\u093e\\u0926\\u0940 \\u0905\\u0927\\u094d\\u092f\\u0915\\u094d\\u0937 \\u092a\\u0941\\u0937\\u094d\\u092a\\u0915\\u092e\\u0932 \\u0926\\u093e\\u0939\\u093e\\u0932 \\u0930 \\u092a\\u094d\\u0930\\u0927\\u093e\\u0928\\u092e\\u0928\\u094d\\u0924\\u094d\\u0930\\u0940 \\u092c\\u093e\\u092c\\u0941\\u0930\\u093e\\u092e \\u092d\\u091f\\u094d\\u091f\\u0930\\u093e\\u0908\\u0932\\u0947 \\u0926\\u093f\\u090f\\u0915\\u093e \\u0939\\u0941\\u0928\\u094d  \\\"\\n\\t\\u0938\\u0930\\u0915\\u093e\\u0930\\u0932\\u0947 \\u092a\\u094d\\u0930\\u092e\\u0941\\u0916 \\u0930\\u093e\\u091c\\u0928\\u0940\\u0924\\u093f\\u0915 \\u0926\\u0932\\u0939\\u0930\\u0942\\u092c\\u0940\\u091a \\u0938\\u0939\\u092e\\u0924\\u093f \\u0928\\u091c\\u0941\\u091f\\u0947 \\u090f\\u0915 \\u0924\\u0943\\u0924\\u0940\\u092f\\u093e\\u0902\\u0936\\u0915\\u094b \\u092c\\u091c\\u0947\\u091f \\u0932\\u094d\\u092f\\u093e\\u0909\\u0928\\u0947 \\u0938\\u0902\\u0915\\u0947\\u0924 \\u0926\\u093f\\u090f\\u0915\\u094b \\u091b  \\u092a\\u0942\\u0930\\u094d\\u0923 \\u0906\\u0915\\u093e\\u0930\\u0915\\u094b \\u092c\\u091c\\u0947\\u091f\\u0915\\u093e \\u0932\\u093e\\u0917\\u093f \\u0930\\u093e\\u0937\\u094d\\u091f\\u094d\\u0930\\u092a\\u0924\\u093f\\u0932\\u093e\\u0908 \\u092e\\u0928\\u093e\\u0909\\u0928\\u0947 \\u092a\\u094d\\u0930\\u092f\\u093e\\u0938 \\u0905\\u0938\\u092b\\u0932 \\u092d\\u090f\\u092a\\u091b\\u093f \\u0938\\u0930\\u0915\\u093e\\u0930\\u0932\\u0947 \\u0924\\u094d\\u092f\\u0938\\u094d\\u0924\\u094b \\u0924\\u092f\\u093e\\u0930\\u0940 \\u0925\\u093e\\u0932\\u094d\\u0928\\u0947 \\u0938\\u0902\\u0915\\u0947\\u0924 \\u092e\\u093e\\u0913\\u0935\\u093e\\u0926\\u0940 \\u0905\\u0927\\u094d\\u092f\\u0915\\u094d\\u0937 \\u092a\\u0941\\u0937\\u094d\\u092a\\u0915\\u092e\\u0932 \\u0926\\u093e\\u0939\\u093e\\u0932 \\u0930 \\u092a\\u094d\\u0930\\u0927\\u093e\\u0928\\u092e\\u0928\\u094d\\u0924\\u094d\\u0930\\u0940 \\u092c\\u093e\\u092c\\u0941\\u0930\\u093e\\u092e \\u092d\\u091f\\u094d\\u091f\\u0930\\u093e\\u0908\\u0932\\u0947 \\u0926\\u093f\\u090f\\u0915\\u093e \\u0939\\u0941\\u0928\\u094d  \\u0938\\u0939\\u092e\\u0924\\u093f \\u0928\\u091c\\u0941\\u091f\\u0940 \\u092a\\u0942\\u0930\\u094d\\u0923 \\u0906\\u0915\\u093e\\u0930\\u0915\\u094b \\u092c\\u091c\\u0947\\u091f \\u092a\\u0947\\u0938 \\u0917\\u0930\\u0947 \\u0930\\u093e\\u0937\\u094d\\u091f\\u094d\\u0930\\u092a\\u0924\\u093f\\u0932\\u0947 \\u0905\\u0938\\u094d\\u0935\\u0940\\u0915\\u093e\\u0930 \\u0917\\u0930\\u094d\\u0928 \\u0938\\u0915\\u094d\\u0928\\u0947 \\u091c\\u0928\\u093e\\u0909 \\u0926\\u093f\\u090f\\u0915\\u093e\\u0932\\u0947 \\u0924\\u094d\\u092f\\u0938\\u094d\\u0924\\u094b \\u0924\\u092f\\u093e\\u0930\\u0940 \\u092d\\u090f\\u0915\\u094b \\u0939\\u094b   \\n\\t\\u0938\\u094d\\u0930\\u094b\\u0924\\u0905\\u0928\\u0941\\u0938\\u093e\\u0930 \\u092a\\u094d\\u0930\\u0927\\u093e\\u0928\\u092e\\u0928\\u094d\\u0924\\u094d\\u0930\\u0940 \\u092d\\u091f\\u094d\\u091f\\u0930\\u093e\\u0908\\u0932\\u0947 \\u0905\\u0928\\u094d\\u0924\\u093f\\u092e \\u0905\\u0935\\u0938\\u094d\\u0925\\u093e\\u0938\\u092e\\u094d\\u092e \\u0930\\u093e\\u091c\\u0928\\u0940\\u0924\\u093f\\u0915 \\u0938\\u0939\\u092e\\u0924\\u093f\\u0915\\u094b \\u0932\\u093e\\u0917\\u093f \\u092a\\u094d\\u0930\\u092f\\u093e\\u0938 \\u0917\\u0930\\u094d\\u0928\\u0947 \\u0930 \\u0938\\u092e\\u094d\\u092d\\u0935 \\u0928\\u092d\\u090f \\u090f\\u0915 \\u0924\\u0943\\u0924\\u0940\\u092f\\u093e\\u0902\\u0936\\u0915\\u094b \\u092c\\u091c\\u0947\\u091f \\u092e\\u093e\\u0924\\u094d\\u0930\\u0948 \\u092a\\u094d\\u0930\\u0938\\u094d\\u0924\\u0941\\u0924 \\u0917\\u0930\\u094d\\u0928\\u0947 \\u091c\\u0928\\u093e\\u0909 \\u0906\\u0907\\u0924\\u092c\\u093e\\u0930 \\u0930\\u093e\\u0937\\u094d\\u091f\\u094d\\u0930\\u092a\\u0924\\u093f \\u092f\\u093e\\u0926\\u0935\\u0932\\u093e\\u0908 \\u0926\\u093f\\u090f\\u0915\\u093e \\u091b\\u0928\\u094d  \\u0930\\u093e\\u0924\\u093f \\u0905\\u092c\\u0947\\u0930\\u0938\\u092e\\u094d\\u092e \\u092d\\u090f\\u0915\\u094b \\u091b\\u0932\\u092b\\u0932\\u092e\\u093e \\u092a\\u094d\\u0930\\u0927\\u093e\\u0928\\u092e\\u0928\\u094d\\u0924\\u094d\\u0930\\u0940 \\u092d\\u091f\\u094d\\u091f\\u0930\\u093e\\u0908\\u0932\\u0947 \\u0938\\u0915\\u092d\\u0930 \\u0938\\u0939\\u092e\\u0924\\u093f\\u0915\\u0948 \\u0938\\u093e\\u0925\\u092e\\u093e \\u092a\\u0942\\u0930\\u094d\\u0923 \\u0906\\u0915\\u093e\\u0930\\u0915\\u094b \\u092c\\u091c\\u0947\\u091f \\u0932\\u094d\\u092f\\u093e\\u0909\\u0928\\u0947 \\u0924\\u0930 \\u0938\\u0939\\u092e\\u0924\\u093f \\u0928\\u092d\\u090f\\u092e\\u093e \\u090f\\u0915 \\u0924\\u0943\\u0924\\u0940\\u092f\\u093e\\u0902\\u0936\\u0915\\u094b \\u092c\\u091c\\u0947\\u091f \\u0932\\u094d\\u092f\\u093e\\u0909\\u0928\\u0947 \\u092c\\u0924\\u093e\\u090f\\u0930 \\u0909\\u0920\\u0947\\u0915\\u093e \\u0925\\u093f\\u090f  \\n\\t\\u0938\\u0902\\u0935\\u093f\\u0927\\u093e\\u0928\\u0938\\u092d\\u093e\\u0935\\u094d\\u092f\\u0935\\u0938\\u094d\\u0925\\u093e\\u092a\\u093f\\u0915\\u093e \\u0938\\u092e\\u0947\\u0924 \\u0928\\u0930\\u0939\\u0947\\u0915\\u094b \\u0905\\u0935\\u0938\\u094d\\u0925\\u093e\\u092e\\u093e \\u0930\\u093e\\u0937\\u094d\\u091f\\u094d\\u0930\\u092a\\u0924\\u093f \\u0930 \\u0938\\u0930\\u0915\\u093e\\u0930\\u092c\\u0940\\u091a \\u0936\\u0915\\u094d\\u0924\\u093f\\u0915\\u094b \\u091f\\u0915\\u0930\\u093e\\u092c \\u0906\\u0909\\u0928 \\u0928\\u0926\\u093f\\u0928\\u0947 \\u0909\\u0926\\u094d\\u0926\\u0947\\u0936\\u094d\\u092f \\u0930\\u093e\\u0916\\u0947\\u0930 \\u092a\\u094d\\u0930\\u0927\\u093e\\u0928\\u092e\\u0928\\u094d\\u0924\\u094d\\u0930\\u0940 \\u0905\\u0918\\u093f\\u0932\\u094d\\u0932\\u094b \\u092d\\u0947\\u091f\\u0915\\u094b \\u0924\\u0941\\u0932\\u0928\\u093e\\u092e\\u093e \\u0906\\u0907\\u0924\\u092c\\u093e\\u0930 \\u0932\\u091a\\u093f\\u0932\\u094b \\u092d\\u090f\\u0915\\u094b \\u0938\\u094d\\u0930\\u094b\\u0924\\u0932\\u0947 \\u092c\\u0924\\u093e\\u092f\\u094b  \\u092f\\u0938\\u0905\\u0918\\u093f \\u092e\\u093e\\u0913\\u0935\\u093e\\u0926\\u0940 \\u0905\\u0927\\u094d\\u092f\\u0915\\u094d\\u0937 \\u0926\\u093e\\u0939\\u093e\\u0932 \\u0938\\u0939\\u092e\\u0924\\u093f \\u092c\\u093e\\u0939\\u093f\\u0930 \\u0917\\u090f\\u0930 \\u092c\\u091c\\u0947\\u091f \\u0928\\u0932\\u094d\\u092f\\u093e\\u0909\\u0928\\u0947 \\u092c\\u0924\\u093e\\u090f \\u092a\\u0928\\u093f \\u092a\\u094d\\u0930\\u0927\\u093e\\u0928\\u092e\\u0928\\u094d\\u0924\\u094d\\u0930\\u0940 \\u092d\\u091f\\u094d\\u091f\\u0930\\u093e\\u0908 \\u092d\\u0928\\u0947 \\u092a\\u0942\\u0930\\u094d\\u0923 \\u0906\\u0915\\u093e\\u0930\\u0915\\u0948 \\u092c\\u091c\\u0947\\u091f \\u0932\\u094d\\u092f\\u093e\\u0909\\u0928\\u0947 \\u0905\\u0920\\u094b\\u091f\\u092e\\u093e \\u0925\\u093f\\u090f  \\u0905\\u0930\\u094d\\u0925\\u092e\\u0928\\u094d\\u0924\\u094d\\u0930\\u0940 \\u0935\\u0930\\u094d\\u0937\\u092e\\u093e\\u0928 \\u092a\\u0941\\u0928\\u0932\\u0947 \\u0930\\u093e\\u0937\\u094d\\u091f\\u094d\\u0930\\u092a\\u0924\\u093f \\u092f\\u093e\\u0926\\u0935\\u0932\\u093e\\u0908 \\u0936\\u0928\\u093f\\u092c\\u093e\\u0930 \\u092a\\u0942\\u0930\\u094d\\u0923 \\u0906\\u0915\\u093e\\u0930\\u0915\\u094b \\u092c\\u091c\\u0947\\u091f\\u0915\\u0948 \\u092c\\u093f\\u094d\\u0930\\u092b\\u093f\\u0919\\u0938\\u092e\\u0947\\u0924 \\u0917\\u0930\\u0947\\u0915\\u093e \\u0925\\u093f\\u090f   \\n\\t\\u0938\\u0939\\u092e\\u0924\\u093f\\u0935\\u093f\\u092a\\u0930\\u0940\\u0924 \\u092a\\u0942\\u0930\\u094d\\u0923 \\u0906\\u0915\\u093e\\u0930\\u0915\\u094b \\u092c\\u091c\\u0947\\u091f \\u0928\\u0932\\u094d\\u092f\\u093e\\u0909\\u0928 \\u0905\\u0930\\u094d\\u0925\\u092e\\u0928\\u094d\\u0924\\u094d\\u0930\\u0940 \\u092a\\u0941\\u0928\\u0932\\u093e\\u0908 \\u0938\\u092e\\u0947\\u0924 \\u0930\\u093e\\u0937\\u094d\\u091f\\u094d\\u0930\\u092a\\u0924\\u093f\\u0932\\u0947 \\u0906\\u0917\\u094d\\u0930\\u0939 \\u0917\\u0930\\u0947\\u0915\\u093e \\u0925\\u093f\\u090f  \\u0930\\u093e\\u0937\\u094d\\u091f\\u094d\\u0930\\u092a\\u0924\\u093f\\u0932\\u0947 \\u0905\\u0928\\u094d\\u0924\\u0930\\u093f\\u092e \\u0938\\u0902\\u0935\\u093f\\u0927\\u093e\\u0928 \\u0938\\u0930\\u094d\\u0935\\u094b\\u091a\\u094d\\u091a \\u0905\\u0926\\u093e\\u0932\\u0924\\u0915\\u094b \\u0928\\u093f\\u0930\\u094d\\u0923\\u092f \\u0905\\u0928\\u094d\\u0924\\u0930\\u094d\\u0930\\u093e\\u0937\\u094d\\u091f\\u094d\\u0930\\u093f\\u092f \\u0930 \\u0906\\u092b\\u094d\\u0928\\u0948 \\u092a\\u0930\\u092e\\u094d\\u092a\\u0930\\u093e \\u0905\\u0928\\u0941\\u0938\\u093e\\u0930 \\u092a\\u0928\\u093f \\u0938\\u0939\\u092e\\u0924\\u093f\\u0935\\u093f\\u092a\\u0930\\u0940\\u0924 \\u092a\\u0942\\u0930\\u094d\\u0923 \\u092c\\u091c\\u0947\\u091f \\u0932\\u094d\\u092f\\u093e\\u0909\\u0928 \\u0928\\u092e\\u093f\\u0932\\u094d\\u0928\\u0947 \\u0924\\u0930\\u094d\\u0915 \\u0917\\u0930\\u0947\\u0915\\u093e \\u0925\\u093f\\u090f   \\n\\t\\u092a\\u094d\\u0930\\u0927\\u093e\\u0928\\u092e\\u0928\\u094d\\u0924\\u094d\\u0930\\u0940 \\u092d\\u091f\\u094d\\u091f\\u0930\\u093e\\u0908\\u0932\\u0947 \\u0905\\u0930\\u094d\\u0925\\u092e\\u0928\\u094d\\u0924\\u094d\\u0930\\u0940 \\u092a\\u0941\\u0928\\u0938\\u0901\\u0917 \\u0905\\u0918\\u093f\\u0932\\u094d\\u0932\\u094b \\u0926\\u093f\\u0928 \\u092d\\u090f\\u0915\\u094b \\u0930\\u093e\\u0937\\u094d\\u091f\\u094d\\u0930\\u092a\\u0924\\u093f\\u0938\\u0901\\u0917\\u0915\\u094b \\u0915\\u0941\\u0930\\u093e\\u0915\\u093e\\u0928\\u0940 \\u0930 \\u092c\\u091c\\u0947\\u091f\\u092c\\u093e\\u0930\\u0947 \\u0938\\u092e\\u0947\\u0924 \\u091c\\u093e\\u0928\\u0915\\u093e\\u0930\\u0940 \\u0932\\u093f\\u090f\\u0930 \\u0936\\u0940\\u0924\\u0932 \\u0928\\u093f\\u0935\\u093e\\u0938 \\u092a\\u0941\\u0917\\u0947\\u0915\\u093e \\u0925\\u093f\\u090f  \\u0936\\u0940\\u0924\\u0932 \\u0928\\u093f\\u0935\\u093e\\u0938\\u092e\\u093e \\u091d\\u0928\\u094d\\u0921\\u0948 \\u0924\\u0940\\u0928 \\u0918\\u0928\\u094d\\u091f\\u093e \\u0932\\u093e\\u092e\\u094b \\u0935\\u093e\\u0930\\u094d\\u0924\\u093e \\u091a\\u0932\\u0947\\u0915\\u094b \\u0925\\u093f\\u092f\\u094b  \\u0938\\u0939\\u092e\\u0924\\u093f\\u0935\\u093f\\u092a\\u0930\\u0940\\u0924 \\u092a\\u0942\\u0930\\u094d\\u0923 \\u092c\\u091c\\u0947\\u091f \\u0932\\u0917\\u0947\\u0930 \\u0930\\u093e\\u0937\\u094d\\u091f\\u094d\\u0930\\u092a\\u0924\\u093f\\u0932\\u0947 \\u0905\\u0938\\u094d\\u0935\\u0940\\u0915\\u093e\\u0930 \\u0917\\u0930\\u0947\\u092e\\u093e \\u0930\\u093e\\u0937\\u094d\\u091f\\u094d\\u0930\\u092a\\u0924\\u093f \\u0930 \\u092a\\u094d\\u0930\\u0927\\u093e\\u0928\\u092e\\u0928\\u094d\\u0924\\u094d\\u0930\\u0940\\u092c\\u0940\\u091a \\u0936\\u0915\\u094d\\u0924\\u093f\\u0938\\u0902\\u0918\\u0930\\u094d\\u0937 \\u091a\\u0930\\u094d\\u0915\\u0928 \\u0938\\u0915\\u094d\\u0928\\u0947 \\u0938\\u092e\\u094d\\u092d\\u093e\\u0935\\u0928\\u093e \\u0930\\u0939\\u0947\\u0915\\u093e\\u0932\\u0947 \\u0924\\u094d\\u092f\\u0938\\u094d\\u0924\\u094b \\u0905\\u0935\\u0938\\u094d\\u0925\\u093e \\u0906\\u0909\\u0928 \\u0928\\u0926\\u093f\\u0928 \\u0938\\u0939\\u092e\\u0924\\u093f\\u0915\\u093e \\u0938\\u093e\\u0925 \\u0905\\u0918\\u093f \\u092c\\u0922\\u094d\\u0928\\u0947 \\u091c\\u093e\\u0928\\u0915\\u093e\\u0930\\u0940 \\u092a\\u0941\\u0928\\u0932\\u0947 \\u0936\\u0928\\u093f\\u092c\\u093e\\u0930 \\u0928\\u0948 \\u0930\\u093e\\u0937\\u094d\\u091f\\u094d\\u0930\\u092a\\u0924\\u093f\\u0932\\u093e\\u0908 \\u0917\\u0930\\u093e\\u090f\\u0915\\u093e \\u0925\\u093f\\u090f   \\n\\t\\u0930\\u093e\\u0937\\u094d\\u091f\\u094d\\u0930\\u092a\\u0924\\u093f\\u0915\\u093e \\u092a\\u094d\\u0930\\u0947\\u0938 \\u0938\\u0932\\u094d\\u0932\\u093e\\u0939\\u0915\\u093e\\u0930 \\u0930\\u093e\\u091c\\u0947\\u0928\\u094d\\u0926\\u094d\\u0930 \\u0926\\u093e\\u0939\\u093e\\u0932\\u0932\\u0947 \\u092a\\u094d\\u0930\\u0927\\u093e\\u0928\\u092e\\u0928\\u094d\\u0924\\u094d\\u0930\\u0940 \\u0930 \\u092e\\u093e\\u0913\\u0935\\u093e\\u0926\\u0940 \\u0905\\u0927\\u094d\\u092f\\u0915\\u094d\\u0937 \\u0926\\u093e\\u0939\\u093e\\u0932\\u0938\\u0901\\u0917\\u0915\\u094b \\u092d\\u0947\\u091f\\u0935\\u093e\\u0930\\u094d\\u0924\\u093e\\u092e\\u093e \\u0938\\u092c\\u0948 \\u0935\\u093f\\u0937\\u092f\\u092e\\u093e \\u091b\\u0932\\u092b\\u0932 \\u092d\\u090f \\u092a\\u0928\\u093f \\u092c\\u091c\\u0947\\u091f\\u092e\\u093e \\u0915\\u0947\\u0928\\u094d\\u0926\\u093f\\u094d\\u0930\\u0924 \\u0930\\u0939\\u0947\\u0915\\u094b \\u092c\\u0924\\u093e\\u090f  \\u092e\\u093e\\u0913\\u0935\\u093e\\u0926\\u0940 \\u0905\\u0927\\u094d\\u092f\\u0915\\u094d\\u0937 \\u0926\\u093e\\u0939\\u093e\\u0932 \\u0930 \\u092a\\u094d\\u0930\\u0927\\u093e\\u0928\\u092e\\u0928\\u094d\\u0924\\u094d\\u0930\\u0940 \\u092d\\u091f\\u094d\\u091f\\u0930\\u093e\\u0908\\u0938\\u0901\\u0917 \\u0938\\u0902\\u0935\\u093f\\u0927\\u093e\\u0928\\u0915\\u094b \\u092e\\u0930\\u094d\\u092e\\u0905\\u0928\\u0941\\u0938\\u093e\\u0930 \\u092c\\u091c\\u0947\\u091f \\u0932\\u094d\\u092f\\u093e\\u0909\\u0928\\u0947 \\u0938\\u0939\\u092e\\u0924\\u093f \\u0917\\u0930\\u0947\\u0930 \\u0935\\u093e\\u0930\\u094d\\u0924\\u093e \\u091f\\u0941\\u0902\\u0917\\u093f\\u090f\\u0915\\u094b \\u091b \\u0930\\u093e\\u0937\\u094d\\u091f\\u094d\\u0930\\u092a\\u0924\\u093f\\u0938\\u0901\\u0917 \\u092d\\u090f\\u0915\\u094b \\u0932\\u093e\\u092e\\u094b \\u091b\\u0932\\u092b\\u0932\\u0915\\u094b \\u0938\\u0902\\u0915\\u094d\\u0937\\u093f\\u092a\\u094d\\u0924 \\u092a\\u094d\\u0930\\u0924\\u093f\\u0915\\u094d\\u0930\\u093f\\u092f\\u093e \\u0926\\u093f\\u0901\\u0926\\u0948 \\u0926\\u093e\\u0939\\u093e\\u0932\\u0932\\u0947 \\u0915\\u093e\\u0928\\u094d\\u0924\\u093f\\u092a\\u0941\\u0930\\u0938\\u0901\\u0917 \\u092d\\u0928\\u0947 \\u092c\\u091c\\u0947\\u091f\\u092c\\u093e\\u0939\\u0947\\u0915 \\u0905\\u0928\\u094d\\u092f \\u0935\\u093f\\u0937\\u092f\\u092e\\u093e \\u092a\\u0928\\u093f \\u0915\\u0941\\u0930\\u093e\\u0915\\u093e\\u0928\\u0940 \\u092d\\u092f\\u094b   \\n\\t\\u092c\\u093f\\u0939\\u093e\\u0928\\u0915\\u094b \\u092d\\u0947\\u091f\\u092e\\u093e \\u092e\\u093e\\u0913\\u0935\\u093e\\u0926\\u0940 \\u0905\\u0927\\u094d\\u092f\\u0915\\u094d\\u0937 \\u0926\\u093e\\u0939\\u093e\\u0932\\u0932\\u0947 \\u092a\\u094d\\u0930\\u0924\\u093f\\u0915\\u094d\\u0930\\u093f\\u092f\\u093e \\u0926\\u093f\\u090f \\u092a\\u0928\\u093f \\u0930\\u093e\\u0924\\u093f \\u0905\\u092c\\u0947\\u0930\\u0938\\u092e\\u094d\\u092e \\u092d\\u090f\\u0915\\u094b \\u092d\\u0947\\u091f\\u092a\\u091b\\u093f \\u092d\\u0928\\u0947 \\u092a\\u094d\\u0930\\u0927\\u093e\\u0928\\u092e\\u0928\\u094d\\u0924\\u094d\\u0930\\u0940 \\u092d\\u091f\\u094d\\u091f\\u0930\\u093e\\u0908\\u0932\\u0947 \\u092f\\u0938\\u0905\\u0918\\u093f\\u091c\\u0938\\u094d\\u0924\\u0948 \\u0938\\u091e\\u094d\\u091a\\u093e\\u0930\\u0915\\u0930\\u094d\\u092e\\u0940\\u0932\\u093e\\u0908 \\u092a\\u094d\\u0930\\u0924\\u093f\\u0915\\u094d\\u0930\\u093f\\u092f\\u093e \\u0928\\u0926\\u093f\\u0908 \\u092c\\u093e\\u0939\\u093f\\u0930\\u093f\\u090f\\u0915\\u093e \\u0925\\u093f\\u090f  \\u092e\\u093e\\u0913\\u0935\\u093e\\u0926\\u0940 \\u0905\\u0927\\u094d\\u092f\\u0915\\u094d\\u0937 \\u0926\\u093e\\u0939\\u093e\\u0932\\u0932\\u0947 \\u092d\\u0928\\u0947 \\u0930\\u093e\\u0937\\u094d\\u091f\\u094d\\u0930\\u092a\\u0924\\u093f\\u0938\\u0901\\u0917 \\u0938\\u0915\\u092d\\u0930 \\u0938\\u0939\\u092e\\u0924\\u093f\\u0915\\u094b \\u0906\\u0927\\u093e\\u0930\\u092e\\u093e \\u092a\\u0942\\u0930\\u094d\\u0923 \\u092c\\u091c\\u0947\\u091f \\u0932\\u094d\\u092f\\u093e\\u0909\\u0928 \\u092d\\u0907\\u0930\\u0939\\u0947\\u0915\\u094b \\u092a\\u094d\\u0930\\u092f\\u093e\\u0938\\u092c\\u093e\\u0930\\u0947 \\u091c\\u093e\\u0928\\u0915\\u093e\\u0930\\u0940 \\u0917\\u0930\\u093e\\u090f\\u0915\\u094b \\u092c\\u0924\\u093e\\u090f   \\n\\t \\n\\\"\\n\"\n        ],\n        \"semantic_type\": \"\",\n        \"description\": \"\"\n      }\n    },\n    {\n      \"column\": \"Category\",\n      \"properties\": {\n        \"dtype\": \"category\",\n        \"num_unique_values\": 5,\n        \"samples\": [\n          \"sport\",\n          \"business\",\n          \"entertainment\"\n        ],\n        \"semantic_type\": \"\",\n        \"description\": \"\"\n      }\n    },\n    {\n      \"column\": \"Cleaned_News\",\n      \"properties\": {\n        \"dtype\": \"string\",\n        \"num_unique_values\": 4536,\n        \"samples\": [\n          \"\\u0930\\u093e\\u091c\\u0935\\u093f\\u0930\\u093e\\u091c \\u0968\\u096d \\u092e\\u093e\\u0918  \\u0938\\u094d\\u0935\\u0924\\u0928\\u094d\\u0924\\u094d\\u0930 \\u092e\\u0927\\u0947\\u0936 \\u0917\\u0920\\u092c\\u0928\\u094d\\u0927\\u0928\\u0915\\u093e \\u0938\\u0902\\u092f\\u094b\\u091c\\u0915 \\u0921\\u093e \\u0938\\u093f\\u0915\\u0947 \\u0930\\u093e\\u0909\\u0924\\u0915\\u094b \\u0930\\u093f\\u0939\\u093e\\u0908\\u0915\\u094b \\u092e\\u093e\\u0917 \\u0917\\u0930\\u094d\\u0926\\u0948 \\u0935\\u093f\\u0939\\u0940\\u0935\\u093e\\u0930 \\u0938\\u092a\\u094d\\u0924\\u0930\\u0940\\u0915\\u094b \\u0922\\u094b\\u0922\\u0935\\u093e \\u091a\\u094c\\u0915\\u092e\\u093e \\u092a\\u094d\\u0930\\u0926\\u0930\\u094d\\u0936\\u0928 \\u0930 \\u0938\\u092d\\u093e \\u0906\\u092f\\u094b\\u091c\\u0928\\u093e \\u0917\\u0930\\u093f\\u090f\\u0915\\u094b \\u091b \\n\\u0917\\u0920\\u092c\\u0928\\u094d\\u0927\\u0928 \\u0938\\u092e\\u0930\\u094d\\u0925\\u0915\\u0939\\u0930\\u0941\\u0932\\u0947 \\u0928\\u093e\\u0930\\u093e\\u092c\\u093e\\u091c\\u0940 \\u092c\\u091c\\u093e\\u0930\\u0915\\u094b \\u0935\\u093f\\u092d\\u093f\\u0928\\u094d\\u0928 \\u092a\\u0930\\u093f\\u0915\\u094d\\u0930\\u092e\\u093e \\u092a\\u0936\\u094d\\u091a\\u093e\\u0924 \\u091a\\u094c\\u0915\\u092e\\u093e \\u0915\\u094b\\u0923\\u0938\\u092d\\u093e\\u0915\\u094b \\u0906\\u092f\\u094b\\u091c\\u0928\\u093e \\u0917\\u0930\\u0947\\u0915\\u094b \\u091c\\u0928\\u093e\\u0908\\u090f\\u0915\\u094b \\u091b  \\u0909\\u0915\\u094d\\u0924 \\u0938\\u092d\\u093e\\u092e\\u093e \\u0917\\u0920\\u092c\\u0928\\u094d\\u0927\\u0928\\u0915\\u093e \\u0905\\u092d\\u093f\\u092f\\u093e\\u0928\\u0915\\u0930\\u094d\\u0924\\u093e\\u0939\\u0930\\u0941\\u0932\\u0947 \\u0938\\u092e\\u094d\\u0935\\u094b\\u0927\\u0928 \\u0917\\u0930\\u0947\\u0915\\u093e \\u091b\\u0928\\u094d \",\n          \"\\u0938\\u093e\\u0917 \\u090f\\u0938\\u093f\\u092f\\u093e\\u0921 \\u0930 \\u0913\\u0932\\u092e\\u094d\\u092a\\u093f\\u0915 \\u092f\\u093e\\u0924\\u094d\\u0930\\u093e \\u0924\\u0925\\u093e \\u0935\\u093f\\u092d\\u093f\\u0928\\u094d\\u0928 \\u0926\\u0947\\u0936\\u092e\\u093e \\u092d\\u093e\\u0917 \\u0932\\u093f\\u0901\\u0926\\u093e\\u0915\\u094b \\u0905\\u0928\\u0941\\u092d\\u0935 \\u0924\\u094d\\u092f\\u0938 \\u0905\\u0935\\u0938\\u0930\\u092e\\u093e \\u0938\\u093e\\u091f\\u0947\\u0915\\u093e \\u0925\\u093f\\u090f\",\n          \"\\u0924\\u0943\\u0924\\u0940\\u092f\\u093e\\u0902\\u0936 \\u092c\\u091c\\u0947\\u091f \\u0932\\u094d\\u092f\\u093e\\u0909\\u0928\\u0947 \\u0924\\u092f\\u093e\\u0930\\u0940\\u0938\\u0930\\u0915\\u093e\\u0930\\u0932\\u0947 \\u092a\\u094d\\u0930\\u092e\\u0941\\u0916 \\u0930\\u093e\\u091c\\u0928\\u0940\\u0924\\u093f\\u0915 \\u0926\\u0932\\u0939\\u0930\\u0942\\u092c\\u0940\\u091a \\u0938\\u0939\\u092e\\u0924\\u093f \\u0928\\u091c\\u0941\\u091f\\u0947 \\u090f\\u0915 \\u0924\\u0943\\u0924\\u0940\\u092f\\u093e\\u0902\\u0936\\u0915\\u094b \\u092c\\u091c\\u0947\\u091f \\u0932\\u094d\\u092f\\u093e\\u0909\\u0928\\u0947 \\u0938\\u0902\\u0915\\u0947\\u0924 \\u0926\\u093f\\u090f\\u0915\\u094b \\u091b  \\u092a\\u0942\\u0930\\u094d\\u0923 \\u0906\\u0915\\u093e\\u0930\\u0915\\u094b \\u092c\\u091c\\u0947\\u091f\\u0915\\u093e \\u0932\\u093e\\u0917\\u093f \\u0930\\u093e\\u0937\\u094d\\u091f\\u094d\\u0930\\u092a\\u0924\\u093f\\u0932\\u093e\\u0908 \\u092e\\u0928\\u093e\\u0909\\u0928\\u0947 \\u092a\\u094d\\u0930\\u092f\\u093e\\u0938 \\u0905\\u0938\\u092b\\u0932 \\u092d\\u090f\\u092a\\u091b\\u093f \\u0938\\u0930\\u0915\\u093e\\u0930\\u0932\\u0947 \\u0924\\u094d\\u092f\\u0938\\u094d\\u0924\\u094b \\u0924\\u092f\\u093e\\u0930\\u0940 \\u0925\\u093e\\u0932\\u094d\\u0928\\u0947 \\u0938\\u0902\\u0915\\u0947\\u0924 \\u092e\\u093e\\u0913\\u0935\\u093e\\u0926\\u0940 \\u0905\\u0927\\u094d\\u092f\\u0915\\u094d\\u0937 \\u092a\\u0941\\u0937\\u094d\\u092a\\u0915\\u092e\\u0932 \\u0926\\u093e\\u0939\\u093e\\u0932 \\u0930 \\u092a\\u094d\\u0930\\u0927\\u093e\\u0928\\u092e\\u0928\\u094d\\u0924\\u094d\\u0930\\u0940 \\u092c\\u093e\\u092c\\u0941\\u0930\\u093e\\u092e \\u092d\\u091f\\u094d\\u091f\\u0930\\u093e\\u0908\\u0932\\u0947 \\u0926\\u093f\\u090f\\u0915\\u093e \\u0939\\u0941\\u0928\\u094d  \\n\\t\\u0938\\u0930\\u0915\\u093e\\u0930\\u0932\\u0947 \\u092a\\u094d\\u0930\\u092e\\u0941\\u0916 \\u0930\\u093e\\u091c\\u0928\\u0940\\u0924\\u093f\\u0915 \\u0926\\u0932\\u0939\\u0930\\u0942\\u092c\\u0940\\u091a \\u0938\\u0939\\u092e\\u0924\\u093f \\u0928\\u091c\\u0941\\u091f\\u0947 \\u090f\\u0915 \\u0924\\u0943\\u0924\\u0940\\u092f\\u093e\\u0902\\u0936\\u0915\\u094b \\u092c\\u091c\\u0947\\u091f \\u0932\\u094d\\u092f\\u093e\\u0909\\u0928\\u0947 \\u0938\\u0902\\u0915\\u0947\\u0924 \\u0926\\u093f\\u090f\\u0915\\u094b \\u091b  \\u092a\\u0942\\u0930\\u094d\\u0923 \\u0906\\u0915\\u093e\\u0930\\u0915\\u094b \\u092c\\u091c\\u0947\\u091f\\u0915\\u093e \\u0932\\u093e\\u0917\\u093f \\u0930\\u093e\\u0937\\u094d\\u091f\\u094d\\u0930\\u092a\\u0924\\u093f\\u0932\\u093e\\u0908 \\u092e\\u0928\\u093e\\u0909\\u0928\\u0947 \\u092a\\u094d\\u0930\\u092f\\u093e\\u0938 \\u0905\\u0938\\u092b\\u0932 \\u092d\\u090f\\u092a\\u091b\\u093f \\u0938\\u0930\\u0915\\u093e\\u0930\\u0932\\u0947 \\u0924\\u094d\\u092f\\u0938\\u094d\\u0924\\u094b \\u0924\\u092f\\u093e\\u0930\\u0940 \\u0925\\u093e\\u0932\\u094d\\u0928\\u0947 \\u0938\\u0902\\u0915\\u0947\\u0924 \\u092e\\u093e\\u0913\\u0935\\u093e\\u0926\\u0940 \\u0905\\u0927\\u094d\\u092f\\u0915\\u094d\\u0937 \\u092a\\u0941\\u0937\\u094d\\u092a\\u0915\\u092e\\u0932 \\u0926\\u093e\\u0939\\u093e\\u0932 \\u0930 \\u092a\\u094d\\u0930\\u0927\\u093e\\u0928\\u092e\\u0928\\u094d\\u0924\\u094d\\u0930\\u0940 \\u092c\\u093e\\u092c\\u0941\\u0930\\u093e\\u092e \\u092d\\u091f\\u094d\\u091f\\u0930\\u093e\\u0908\\u0932\\u0947 \\u0926\\u093f\\u090f\\u0915\\u093e \\u0939\\u0941\\u0928\\u094d  \\u0938\\u0939\\u092e\\u0924\\u093f \\u0928\\u091c\\u0941\\u091f\\u0940 \\u092a\\u0942\\u0930\\u094d\\u0923 \\u0906\\u0915\\u093e\\u0930\\u0915\\u094b \\u092c\\u091c\\u0947\\u091f \\u092a\\u0947\\u0938 \\u0917\\u0930\\u0947 \\u0930\\u093e\\u0937\\u094d\\u091f\\u094d\\u0930\\u092a\\u0924\\u093f\\u0932\\u0947 \\u0905\\u0938\\u094d\\u0935\\u0940\\u0915\\u093e\\u0930 \\u0917\\u0930\\u094d\\u0928 \\u0938\\u0915\\u094d\\u0928\\u0947 \\u091c\\u0928\\u093e\\u0909 \\u0926\\u093f\\u090f\\u0915\\u093e\\u0932\\u0947 \\u0924\\u094d\\u092f\\u0938\\u094d\\u0924\\u094b \\u0924\\u092f\\u093e\\u0930\\u0940 \\u092d\\u090f\\u0915\\u094b \\u0939\\u094b   \\n\\t\\u0938\\u094d\\u0930\\u094b\\u0924\\u0905\\u0928\\u0941\\u0938\\u093e\\u0930 \\u092a\\u094d\\u0930\\u0927\\u093e\\u0928\\u092e\\u0928\\u094d\\u0924\\u094d\\u0930\\u0940 \\u092d\\u091f\\u094d\\u091f\\u0930\\u093e\\u0908\\u0932\\u0947 \\u0905\\u0928\\u094d\\u0924\\u093f\\u092e \\u0905\\u0935\\u0938\\u094d\\u0925\\u093e\\u0938\\u092e\\u094d\\u092e \\u0930\\u093e\\u091c\\u0928\\u0940\\u0924\\u093f\\u0915 \\u0938\\u0939\\u092e\\u0924\\u093f\\u0915\\u094b \\u0932\\u093e\\u0917\\u093f \\u092a\\u094d\\u0930\\u092f\\u093e\\u0938 \\u0917\\u0930\\u094d\\u0928\\u0947 \\u0930 \\u0938\\u092e\\u094d\\u092d\\u0935 \\u0928\\u092d\\u090f \\u090f\\u0915 \\u0924\\u0943\\u0924\\u0940\\u092f\\u093e\\u0902\\u0936\\u0915\\u094b \\u092c\\u091c\\u0947\\u091f \\u092e\\u093e\\u0924\\u094d\\u0930\\u0948 \\u092a\\u094d\\u0930\\u0938\\u094d\\u0924\\u0941\\u0924 \\u0917\\u0930\\u094d\\u0928\\u0947 \\u091c\\u0928\\u093e\\u0909 \\u0906\\u0907\\u0924\\u092c\\u093e\\u0930 \\u0930\\u093e\\u0937\\u094d\\u091f\\u094d\\u0930\\u092a\\u0924\\u093f \\u092f\\u093e\\u0926\\u0935\\u0932\\u093e\\u0908 \\u0926\\u093f\\u090f\\u0915\\u093e \\u091b\\u0928\\u094d  \\u0930\\u093e\\u0924\\u093f \\u0905\\u092c\\u0947\\u0930\\u0938\\u092e\\u094d\\u092e \\u092d\\u090f\\u0915\\u094b \\u091b\\u0932\\u092b\\u0932\\u092e\\u093e \\u092a\\u094d\\u0930\\u0927\\u093e\\u0928\\u092e\\u0928\\u094d\\u0924\\u094d\\u0930\\u0940 \\u092d\\u091f\\u094d\\u091f\\u0930\\u093e\\u0908\\u0932\\u0947 \\u0938\\u0915\\u092d\\u0930 \\u0938\\u0939\\u092e\\u0924\\u093f\\u0915\\u0948 \\u0938\\u093e\\u0925\\u092e\\u093e \\u092a\\u0942\\u0930\\u094d\\u0923 \\u0906\\u0915\\u093e\\u0930\\u0915\\u094b \\u092c\\u091c\\u0947\\u091f \\u0932\\u094d\\u092f\\u093e\\u0909\\u0928\\u0947 \\u0924\\u0930 \\u0938\\u0939\\u092e\\u0924\\u093f \\u0928\\u092d\\u090f\\u092e\\u093e \\u090f\\u0915 \\u0924\\u0943\\u0924\\u0940\\u092f\\u093e\\u0902\\u0936\\u0915\\u094b \\u092c\\u091c\\u0947\\u091f \\u0932\\u094d\\u092f\\u093e\\u0909\\u0928\\u0947 \\u092c\\u0924\\u093e\\u090f\\u0930 \\u0909\\u0920\\u0947\\u0915\\u093e \\u0925\\u093f\\u090f  \\n\\t\\u0938\\u0902\\u0935\\u093f\\u0927\\u093e\\u0928\\u0938\\u092d\\u093e\\u0935\\u094d\\u092f\\u0935\\u0938\\u094d\\u0925\\u093e\\u092a\\u093f\\u0915\\u093e \\u0938\\u092e\\u0947\\u0924 \\u0928\\u0930\\u0939\\u0947\\u0915\\u094b \\u0905\\u0935\\u0938\\u094d\\u0925\\u093e\\u092e\\u093e \\u0930\\u093e\\u0937\\u094d\\u091f\\u094d\\u0930\\u092a\\u0924\\u093f \\u0930 \\u0938\\u0930\\u0915\\u093e\\u0930\\u092c\\u0940\\u091a \\u0936\\u0915\\u094d\\u0924\\u093f\\u0915\\u094b \\u091f\\u0915\\u0930\\u093e\\u092c \\u0906\\u0909\\u0928 \\u0928\\u0926\\u093f\\u0928\\u0947 \\u0909\\u0926\\u094d\\u0926\\u0947\\u0936\\u094d\\u092f \\u0930\\u093e\\u0916\\u0947\\u0930 \\u092a\\u094d\\u0930\\u0927\\u093e\\u0928\\u092e\\u0928\\u094d\\u0924\\u094d\\u0930\\u0940 \\u0905\\u0918\\u093f\\u0932\\u094d\\u0932\\u094b \\u092d\\u0947\\u091f\\u0915\\u094b \\u0924\\u0941\\u0932\\u0928\\u093e\\u092e\\u093e \\u0906\\u0907\\u0924\\u092c\\u093e\\u0930 \\u0932\\u091a\\u093f\\u0932\\u094b \\u092d\\u090f\\u0915\\u094b \\u0938\\u094d\\u0930\\u094b\\u0924\\u0932\\u0947 \\u092c\\u0924\\u093e\\u092f\\u094b  \\u092f\\u0938\\u0905\\u0918\\u093f \\u092e\\u093e\\u0913\\u0935\\u093e\\u0926\\u0940 \\u0905\\u0927\\u094d\\u092f\\u0915\\u094d\\u0937 \\u0926\\u093e\\u0939\\u093e\\u0932 \\u0938\\u0939\\u092e\\u0924\\u093f \\u092c\\u093e\\u0939\\u093f\\u0930 \\u0917\\u090f\\u0930 \\u092c\\u091c\\u0947\\u091f \\u0928\\u0932\\u094d\\u092f\\u093e\\u0909\\u0928\\u0947 \\u092c\\u0924\\u093e\\u090f \\u092a\\u0928\\u093f \\u092a\\u094d\\u0930\\u0927\\u093e\\u0928\\u092e\\u0928\\u094d\\u0924\\u094d\\u0930\\u0940 \\u092d\\u091f\\u094d\\u091f\\u0930\\u093e\\u0908 \\u092d\\u0928\\u0947 \\u092a\\u0942\\u0930\\u094d\\u0923 \\u0906\\u0915\\u093e\\u0930\\u0915\\u0948 \\u092c\\u091c\\u0947\\u091f \\u0932\\u094d\\u092f\\u093e\\u0909\\u0928\\u0947 \\u0905\\u0920\\u094b\\u091f\\u092e\\u093e \\u0925\\u093f\\u090f  \\u0905\\u0930\\u094d\\u0925\\u092e\\u0928\\u094d\\u0924\\u094d\\u0930\\u0940 \\u0935\\u0930\\u094d\\u0937\\u092e\\u093e\\u0928 \\u092a\\u0941\\u0928\\u0932\\u0947 \\u0930\\u093e\\u0937\\u094d\\u091f\\u094d\\u0930\\u092a\\u0924\\u093f \\u092f\\u093e\\u0926\\u0935\\u0932\\u093e\\u0908 \\u0936\\u0928\\u093f\\u092c\\u093e\\u0930 \\u092a\\u0942\\u0930\\u094d\\u0923 \\u0906\\u0915\\u093e\\u0930\\u0915\\u094b \\u092c\\u091c\\u0947\\u091f\\u0915\\u0948 \\u092c\\u093f\\u094d\\u0930\\u092b\\u093f\\u0919\\u0938\\u092e\\u0947\\u0924 \\u0917\\u0930\\u0947\\u0915\\u093e \\u0925\\u093f\\u090f   \\n\\t\\u0938\\u0939\\u092e\\u0924\\u093f\\u0935\\u093f\\u092a\\u0930\\u0940\\u0924 \\u092a\\u0942\\u0930\\u094d\\u0923 \\u0906\\u0915\\u093e\\u0930\\u0915\\u094b \\u092c\\u091c\\u0947\\u091f \\u0928\\u0932\\u094d\\u092f\\u093e\\u0909\\u0928 \\u0905\\u0930\\u094d\\u0925\\u092e\\u0928\\u094d\\u0924\\u094d\\u0930\\u0940 \\u092a\\u0941\\u0928\\u0932\\u093e\\u0908 \\u0938\\u092e\\u0947\\u0924 \\u0930\\u093e\\u0937\\u094d\\u091f\\u094d\\u0930\\u092a\\u0924\\u093f\\u0932\\u0947 \\u0906\\u0917\\u094d\\u0930\\u0939 \\u0917\\u0930\\u0947\\u0915\\u093e \\u0925\\u093f\\u090f  \\u0930\\u093e\\u0937\\u094d\\u091f\\u094d\\u0930\\u092a\\u0924\\u093f\\u0932\\u0947 \\u0905\\u0928\\u094d\\u0924\\u0930\\u093f\\u092e \\u0938\\u0902\\u0935\\u093f\\u0927\\u093e\\u0928 \\u0938\\u0930\\u094d\\u0935\\u094b\\u091a\\u094d\\u091a \\u0905\\u0926\\u093e\\u0932\\u0924\\u0915\\u094b \\u0928\\u093f\\u0930\\u094d\\u0923\\u092f \\u0905\\u0928\\u094d\\u0924\\u0930\\u094d\\u0930\\u093e\\u0937\\u094d\\u091f\\u094d\\u0930\\u093f\\u092f \\u0930 \\u0906\\u092b\\u094d\\u0928\\u0948 \\u092a\\u0930\\u092e\\u094d\\u092a\\u0930\\u093e \\u0905\\u0928\\u0941\\u0938\\u093e\\u0930 \\u092a\\u0928\\u093f \\u0938\\u0939\\u092e\\u0924\\u093f\\u0935\\u093f\\u092a\\u0930\\u0940\\u0924 \\u092a\\u0942\\u0930\\u094d\\u0923 \\u092c\\u091c\\u0947\\u091f \\u0932\\u094d\\u092f\\u093e\\u0909\\u0928 \\u0928\\u092e\\u093f\\u0932\\u094d\\u0928\\u0947 \\u0924\\u0930\\u094d\\u0915 \\u0917\\u0930\\u0947\\u0915\\u093e \\u0925\\u093f\\u090f   \\n\\t\\u092a\\u094d\\u0930\\u0927\\u093e\\u0928\\u092e\\u0928\\u094d\\u0924\\u094d\\u0930\\u0940 \\u092d\\u091f\\u094d\\u091f\\u0930\\u093e\\u0908\\u0932\\u0947 \\u0905\\u0930\\u094d\\u0925\\u092e\\u0928\\u094d\\u0924\\u094d\\u0930\\u0940 \\u092a\\u0941\\u0928\\u0938\\u0901\\u0917 \\u0905\\u0918\\u093f\\u0932\\u094d\\u0932\\u094b \\u0926\\u093f\\u0928 \\u092d\\u090f\\u0915\\u094b \\u0930\\u093e\\u0937\\u094d\\u091f\\u094d\\u0930\\u092a\\u0924\\u093f\\u0938\\u0901\\u0917\\u0915\\u094b \\u0915\\u0941\\u0930\\u093e\\u0915\\u093e\\u0928\\u0940 \\u0930 \\u092c\\u091c\\u0947\\u091f\\u092c\\u093e\\u0930\\u0947 \\u0938\\u092e\\u0947\\u0924 \\u091c\\u093e\\u0928\\u0915\\u093e\\u0930\\u0940 \\u0932\\u093f\\u090f\\u0930 \\u0936\\u0940\\u0924\\u0932 \\u0928\\u093f\\u0935\\u093e\\u0938 \\u092a\\u0941\\u0917\\u0947\\u0915\\u093e \\u0925\\u093f\\u090f  \\u0936\\u0940\\u0924\\u0932 \\u0928\\u093f\\u0935\\u093e\\u0938\\u092e\\u093e \\u091d\\u0928\\u094d\\u0921\\u0948 \\u0924\\u0940\\u0928 \\u0918\\u0928\\u094d\\u091f\\u093e \\u0932\\u093e\\u092e\\u094b \\u0935\\u093e\\u0930\\u094d\\u0924\\u093e \\u091a\\u0932\\u0947\\u0915\\u094b \\u0925\\u093f\\u092f\\u094b  \\u0938\\u0939\\u092e\\u0924\\u093f\\u0935\\u093f\\u092a\\u0930\\u0940\\u0924 \\u092a\\u0942\\u0930\\u094d\\u0923 \\u092c\\u091c\\u0947\\u091f \\u0932\\u0917\\u0947\\u0930 \\u0930\\u093e\\u0937\\u094d\\u091f\\u094d\\u0930\\u092a\\u0924\\u093f\\u0932\\u0947 \\u0905\\u0938\\u094d\\u0935\\u0940\\u0915\\u093e\\u0930 \\u0917\\u0930\\u0947\\u092e\\u093e \\u0930\\u093e\\u0937\\u094d\\u091f\\u094d\\u0930\\u092a\\u0924\\u093f \\u0930 \\u092a\\u094d\\u0930\\u0927\\u093e\\u0928\\u092e\\u0928\\u094d\\u0924\\u094d\\u0930\\u0940\\u092c\\u0940\\u091a \\u0936\\u0915\\u094d\\u0924\\u093f\\u0938\\u0902\\u0918\\u0930\\u094d\\u0937 \\u091a\\u0930\\u094d\\u0915\\u0928 \\u0938\\u0915\\u094d\\u0928\\u0947 \\u0938\\u092e\\u094d\\u092d\\u093e\\u0935\\u0928\\u093e \\u0930\\u0939\\u0947\\u0915\\u093e\\u0932\\u0947 \\u0924\\u094d\\u092f\\u0938\\u094d\\u0924\\u094b \\u0905\\u0935\\u0938\\u094d\\u0925\\u093e \\u0906\\u0909\\u0928 \\u0928\\u0926\\u093f\\u0928 \\u0938\\u0939\\u092e\\u0924\\u093f\\u0915\\u093e \\u0938\\u093e\\u0925 \\u0905\\u0918\\u093f \\u092c\\u0922\\u094d\\u0928\\u0947 \\u091c\\u093e\\u0928\\u0915\\u093e\\u0930\\u0940 \\u092a\\u0941\\u0928\\u0932\\u0947 \\u0936\\u0928\\u093f\\u092c\\u093e\\u0930 \\u0928\\u0948 \\u0930\\u093e\\u0937\\u094d\\u091f\\u094d\\u0930\\u092a\\u0924\\u093f\\u0932\\u093e\\u0908 \\u0917\\u0930\\u093e\\u090f\\u0915\\u093e \\u0925\\u093f\\u090f   \\n\\t\\u0930\\u093e\\u0937\\u094d\\u091f\\u094d\\u0930\\u092a\\u0924\\u093f\\u0915\\u093e \\u092a\\u094d\\u0930\\u0947\\u0938 \\u0938\\u0932\\u094d\\u0932\\u093e\\u0939\\u0915\\u093e\\u0930 \\u0930\\u093e\\u091c\\u0947\\u0928\\u094d\\u0926\\u094d\\u0930 \\u0926\\u093e\\u0939\\u093e\\u0932\\u0932\\u0947 \\u092a\\u094d\\u0930\\u0927\\u093e\\u0928\\u092e\\u0928\\u094d\\u0924\\u094d\\u0930\\u0940 \\u0930 \\u092e\\u093e\\u0913\\u0935\\u093e\\u0926\\u0940 \\u0905\\u0927\\u094d\\u092f\\u0915\\u094d\\u0937 \\u0926\\u093e\\u0939\\u093e\\u0932\\u0938\\u0901\\u0917\\u0915\\u094b \\u092d\\u0947\\u091f\\u0935\\u093e\\u0930\\u094d\\u0924\\u093e\\u092e\\u093e \\u0938\\u092c\\u0948 \\u0935\\u093f\\u0937\\u092f\\u092e\\u093e \\u091b\\u0932\\u092b\\u0932 \\u092d\\u090f \\u092a\\u0928\\u093f \\u092c\\u091c\\u0947\\u091f\\u092e\\u093e \\u0915\\u0947\\u0928\\u094d\\u0926\\u093f\\u094d\\u0930\\u0924 \\u0930\\u0939\\u0947\\u0915\\u094b \\u092c\\u0924\\u093e\\u090f  \\u092e\\u093e\\u0913\\u0935\\u093e\\u0926\\u0940 \\u0905\\u0927\\u094d\\u092f\\u0915\\u094d\\u0937 \\u0926\\u093e\\u0939\\u093e\\u0932 \\u0930 \\u092a\\u094d\\u0930\\u0927\\u093e\\u0928\\u092e\\u0928\\u094d\\u0924\\u094d\\u0930\\u0940 \\u092d\\u091f\\u094d\\u091f\\u0930\\u093e\\u0908\\u0938\\u0901\\u0917 \\u0938\\u0902\\u0935\\u093f\\u0927\\u093e\\u0928\\u0915\\u094b \\u092e\\u0930\\u094d\\u092e\\u0905\\u0928\\u0941\\u0938\\u093e\\u0930 \\u092c\\u091c\\u0947\\u091f \\u0932\\u094d\\u092f\\u093e\\u0909\\u0928\\u0947 \\u0938\\u0939\\u092e\\u0924\\u093f \\u0917\\u0930\\u0947\\u0930 \\u0935\\u093e\\u0930\\u094d\\u0924\\u093e \\u091f\\u0941\\u0902\\u0917\\u093f\\u090f\\u0915\\u094b \\u091b \\u0930\\u093e\\u0937\\u094d\\u091f\\u094d\\u0930\\u092a\\u0924\\u093f\\u0938\\u0901\\u0917 \\u092d\\u090f\\u0915\\u094b \\u0932\\u093e\\u092e\\u094b \\u091b\\u0932\\u092b\\u0932\\u0915\\u094b \\u0938\\u0902\\u0915\\u094d\\u0937\\u093f\\u092a\\u094d\\u0924 \\u092a\\u094d\\u0930\\u0924\\u093f\\u0915\\u094d\\u0930\\u093f\\u092f\\u093e \\u0926\\u093f\\u0901\\u0926\\u0948 \\u0926\\u093e\\u0939\\u093e\\u0932\\u0932\\u0947 \\u0915\\u093e\\u0928\\u094d\\u0924\\u093f\\u092a\\u0941\\u0930\\u0938\\u0901\\u0917 \\u092d\\u0928\\u0947 \\u092c\\u091c\\u0947\\u091f\\u092c\\u093e\\u0939\\u0947\\u0915 \\u0905\\u0928\\u094d\\u092f \\u0935\\u093f\\u0937\\u092f\\u092e\\u093e \\u092a\\u0928\\u093f \\u0915\\u0941\\u0930\\u093e\\u0915\\u093e\\u0928\\u0940 \\u092d\\u092f\\u094b   \\n\\t\\u092c\\u093f\\u0939\\u093e\\u0928\\u0915\\u094b \\u092d\\u0947\\u091f\\u092e\\u093e \\u092e\\u093e\\u0913\\u0935\\u093e\\u0926\\u0940 \\u0905\\u0927\\u094d\\u092f\\u0915\\u094d\\u0937 \\u0926\\u093e\\u0939\\u093e\\u0932\\u0932\\u0947 \\u092a\\u094d\\u0930\\u0924\\u093f\\u0915\\u094d\\u0930\\u093f\\u092f\\u093e \\u0926\\u093f\\u090f \\u092a\\u0928\\u093f \\u0930\\u093e\\u0924\\u093f \\u0905\\u092c\\u0947\\u0930\\u0938\\u092e\\u094d\\u092e \\u092d\\u090f\\u0915\\u094b \\u092d\\u0947\\u091f\\u092a\\u091b\\u093f \\u092d\\u0928\\u0947 \\u092a\\u094d\\u0930\\u0927\\u093e\\u0928\\u092e\\u0928\\u094d\\u0924\\u094d\\u0930\\u0940 \\u092d\\u091f\\u094d\\u091f\\u0930\\u093e\\u0908\\u0932\\u0947 \\u092f\\u0938\\u0905\\u0918\\u093f\\u091c\\u0938\\u094d\\u0924\\u0948 \\u0938\\u091e\\u094d\\u091a\\u093e\\u0930\\u0915\\u0930\\u094d\\u092e\\u0940\\u0932\\u093e\\u0908 \\u092a\\u094d\\u0930\\u0924\\u093f\\u0915\\u094d\\u0930\\u093f\\u092f\\u093e \\u0928\\u0926\\u093f\\u0908 \\u092c\\u093e\\u0939\\u093f\\u0930\\u093f\\u090f\\u0915\\u093e \\u0925\\u093f\\u090f  \\u092e\\u093e\\u0913\\u0935\\u093e\\u0926\\u0940 \\u0905\\u0927\\u094d\\u092f\\u0915\\u094d\\u0937 \\u0926\\u093e\\u0939\\u093e\\u0932\\u0932\\u0947 \\u092d\\u0928\\u0947 \\u0930\\u093e\\u0937\\u094d\\u091f\\u094d\\u0930\\u092a\\u0924\\u093f\\u0938\\u0901\\u0917 \\u0938\\u0915\\u092d\\u0930 \\u0938\\u0939\\u092e\\u0924\\u093f\\u0915\\u094b \\u0906\\u0927\\u093e\\u0930\\u092e\\u093e \\u092a\\u0942\\u0930\\u094d\\u0923 \\u092c\\u091c\\u0947\\u091f \\u0932\\u094d\\u092f\\u093e\\u0909\\u0928 \\u092d\\u0907\\u0930\\u0939\\u0947\\u0915\\u094b \\u092a\\u094d\\u0930\\u092f\\u093e\\u0938\\u092c\\u093e\\u0930\\u0947 \\u091c\\u093e\\u0928\\u0915\\u093e\\u0930\\u0940 \\u0917\\u0930\\u093e\\u090f\\u0915\\u094b \\u092c\\u0924\\u093e\\u090f\"\n        ],\n        \"semantic_type\": \"\",\n        \"description\": \"\"\n      }\n    },\n    {\n      \"column\": \"Stemmed\",\n      \"properties\": {\n        \"dtype\": \"string\",\n        \"num_unique_values\": 4536,\n        \"samples\": [\n          \"\\u0930\\u093e\\u091c\\u0935\\u093f\\u0930\\u093e\\u091c \\u0968\\u096d \\u092e\\u093e\\u0918 \\u0938\\u094d\\u0935\\u0924\\u0928\\u094d\\u0924\\u094d\\u0930 \\u092e\\u0927\\u0947\\u0936 \\u0917\\u0920\\u092c\\u0928\\u094d\\u0927\\u0928 \\u0938\\u0902\\u092f\\u094b\\u091c\\u0915 \\u0921\\u093e \\u0938\\u093f\\u0915\\u0947 \\u0930\\u093e\\u0909\\u0924 \\u0930\\u093f\\u0939\\u093e\\u0908 \\u092e\\u093e\\u0917 \\u0917\\u0930\\u094d \\u0935\\u093f\\u0939\\u0940\\u0935\\u093e\\u0930 \\u0938\\u092a\\u094d\\u0924\\u0930\\u0940 \\u0922\\u094b\\u0922\\u0935\\u093e \\u091a\\u094c\\u0915 \\u092a\\u094d\\u0930\\u0926\\u0930\\u094d\\u0936\\u0928 \\u0930 \\u0938\\u092d\\u093e \\u0906\\u092f\\u094b\\u091c\\u0928\\u093e \\u0917\\u0930  \\u0917\\u0920\\u092c\\u0928\\u094d\\u0927\\u0928 \\u0938\\u092e\\u0930\\u094d\\u0925\\u0915 \\u0928\\u093e\\u0930\\u093e\\u092c\\u093e\\u091c\\u0940 \\u092c\\u091c\\u093e\\u0930 \\u0935\\u093f\\u092d\\u093f\\u0928\\u094d\\u0928 \\u092a\\u0930\\u093f\\u0915\\u094d\\u0930 \\u092a\\u0936\\u094d\\u091a\\u093e\\u0924 \\u091a\\u094c\\u0915 \\u0915\\u094b\\u0923\\u0938\\u092d\\u093e \\u0906\\u092f\\u094b\\u091c\\u0928\\u093e \\u0917\\u0930 \\u091c\\u0928\\u093e\\u0908  \\u0909\\u0915\\u094d\\u0924 \\u0938\\u092d\\u093e \\u0917\\u0920\\u092c\\u0928\\u094d\\u0927\\u0928 \\u0905\\u092d\\u093f\\u092f\\u093e\\u0928\\u0915\\u0930\\u094d\\u0924\\u093e \\u0938\\u092e\\u094d\\u0935\\u094b\\u0927\\u0928 \\u0917\\u0930 \",\n          \"\\u0938\\u093e\\u0917 \\u090f\\u0938\\u093f\\u092f\\u093e\\u0921 \\u0930 \\u0913\\u0932\\u092e\\u094d\\u092a\\u093f\\u0915 \\u092f\\u093e\\u0924\\u094d\\u0930\\u093e \\u0924\\u0925\\u093e \\u0935\\u093f\\u092d\\u093f\\u0928\\u094d\\u0928 \\u0926\\u0947\\u0936 \\u092d\\u093e\\u0917 \\u0932\\u093f\\u0901 \\u0905\\u0928\\u0941\\u092d\\u0935 \\u0924\\u094d\\u092f\\u0938 \\u0905\\u0935\\u0938\\u0930 \\u0938\\u093e\\u091f \",\n          \"\\u0924\\u0943\\u0924\\u0940\\u092f\\u093e\\u0902\\u0936 \\u092c\\u091c\\u0947\\u091f \\u0932\\u094d\\u092f\\u093e\\u0909 \\u0924\\u092f\\u093e\\u0930\\u0940\\u0938\\u0930\\u0915\\u093e\\u0930 \\u092a\\u094d\\u0930\\u092e\\u0941\\u0916 \\u0930\\u093e\\u091c\\u0928\\u0940\\u0924\\u093f\\u0915 \\u0926\\u0932\\u0939\\u0930\\u0942\\u092c\\u0940\\u091a \\u0938\\u0939\\u092e\\u0924\\u093f \\u0928\\u091c\\u0941\\u091f\\u0947 \\u090f\\u0915 \\u0924\\u0943\\u0924\\u0940\\u092f\\u093e\\u0902\\u0936 \\u092c\\u091c\\u0947\\u091f \\u0932\\u094d\\u092f\\u093e\\u0909 \\u0938\\u0902\\u0915\\u0947\\u0924 \\u0926  \\u092a\\u0942\\u0930\\u094d\\u0923 \\u0906\\u0915\\u093e\\u0930 \\u092c\\u091c\\u0947\\u091f \\u0932\\u093e\\u0917\\u093f \\u0930\\u093e\\u0937\\u094d\\u091f\\u094d\\u0930\\u092a\\u0924\\u093f \\u092e\\u0928\\u093e\\u0909 \\u092a\\u094d\\u0930\\u092f\\u093e\\u0938 \\u0905\\u0938\\u092b\\u0932 \\u092d\\u090f \\u0938\\u0930\\u0915\\u093e\\u0930 \\u0924\\u094d\\u092f\\u0938\\u094d\\u0924\\u094b \\u0924\\u092f\\u093e\\u0930\\u0940 \\u0925\\u093e\\u0932\\u094d \\u0938\\u0902\\u0915\\u0947\\u0924 \\u092e\\u093e\\u0913\\u0935\\u093e \\u0905\\u0927\\u094d\\u092f\\u0915\\u094d\\u0937 \\u092a\\u0941\\u0937\\u094d\\u092a\\u0915\\u092e\\u0932 \\u0926\\u093e\\u0939\\u093e\\u0932 \\u0930 \\u092a\\u094d\\u0930\\u0927\\u093e\\u0928\\u092e\\u0928\\u094d\\u0924\\u094d\\u0930\\u0940 \\u092c\\u093e\\u092c\\u0941\\u0930\\u093e\\u092e \\u092d\\u091f\\u094d\\u091f\\u0930\\u093e\\u0908 \\u0926 \\u0939\\u0941\\u0928\\u094d \\u0938\\u0930\\u0915\\u093e\\u0930 \\u092a\\u094d\\u0930\\u092e\\u0941\\u0916 \\u0930\\u093e\\u091c\\u0928\\u0940\\u0924\\u093f\\u0915 \\u0926\\u0932\\u0939\\u0930\\u0942\\u092c\\u0940\\u091a \\u0938\\u0939\\u092e\\u0924\\u093f \\u0928\\u091c\\u0941\\u091f\\u0947 \\u090f\\u0915 \\u0924\\u0943\\u0924\\u0940\\u092f\\u093e\\u0902\\u0936 \\u092c\\u091c\\u0947\\u091f \\u0932\\u094d\\u092f\\u093e\\u0909 \\u0938\\u0902\\u0915\\u0947\\u0924 \\u0926  \\u092a\\u0942\\u0930\\u094d\\u0923 \\u0906\\u0915\\u093e\\u0930 \\u092c\\u091c\\u0947\\u091f \\u0932\\u093e\\u0917\\u093f \\u0930\\u093e\\u0937\\u094d\\u091f\\u094d\\u0930\\u092a\\u0924\\u093f \\u092e\\u0928\\u093e\\u0909 \\u092a\\u094d\\u0930\\u092f\\u093e\\u0938 \\u0905\\u0938\\u092b\\u0932 \\u092d\\u090f \\u0938\\u0930\\u0915\\u093e\\u0930 \\u0924\\u094d\\u092f\\u0938\\u094d\\u0924\\u094b \\u0924\\u092f\\u093e\\u0930\\u0940 \\u0925\\u093e\\u0932\\u094d \\u0938\\u0902\\u0915\\u0947\\u0924 \\u092e\\u093e\\u0913\\u0935\\u093e \\u0905\\u0927\\u094d\\u092f\\u0915\\u094d\\u0937 \\u092a\\u0941\\u0937\\u094d\\u092a\\u0915\\u092e\\u0932 \\u0926\\u093e\\u0939\\u093e\\u0932 \\u0930 \\u092a\\u094d\\u0930\\u0927\\u093e\\u0928\\u092e\\u0928\\u094d\\u0924\\u094d\\u0930\\u0940 \\u092c\\u093e\\u092c\\u0941\\u0930\\u093e\\u092e \\u092d\\u091f\\u094d\\u091f\\u0930\\u093e\\u0908 \\u0926 \\u0939\\u0941\\u0928\\u094d \\u0938\\u0939\\u092e\\u0924\\u093f \\u0928\\u091c\\u0941\\u091f\\u0940 \\u092a\\u0942\\u0930\\u094d\\u0923 \\u0906\\u0915\\u093e\\u0930 \\u092c\\u091c\\u0947\\u091f \\u092a\\u0947\\u0938 \\u0917\\u0930\\u0947 \\u0930\\u093e\\u0937\\u094d\\u091f\\u094d\\u0930\\u092a\\u0924\\u093f \\u0905\\u0938\\u094d\\u0935\\u0940\\u0915\\u093e\\u0930 \\u0917\\u0930\\u094d\\u0928 \\u0938\\u0915\\u094d \\u091c\\u0928\\u093e\\u0909 \\u0926 \\u0924\\u094d\\u092f\\u0938\\u094d\\u0924\\u094b \\u0924\\u092f\\u093e\\u0930\\u0940 \\u092d \\u0939\\u094b \\u0938\\u094d\\u0930\\u094b\\u0924\\u0905\\u0928\\u0941\\u0938\\u093e\\u0930 \\u092a\\u094d\\u0930\\u0927\\u093e\\u0928\\u092e\\u0928\\u094d\\u0924\\u094d\\u0930\\u0940 \\u092d\\u091f\\u094d\\u091f\\u0930\\u093e\\u0908 \\u0905\\u0928\\u094d\\u0924\\u093f\\u092e \\u0905\\u0935\\u0938\\u094d\\u0925\\u093e\\u0938\\u092e\\u094d\\u092e \\u0930\\u093e\\u091c\\u0928\\u0940\\u0924\\u093f\\u0915 \\u0938\\u0939\\u092e\\u0924\\u093f \\u0932\\u093e\\u0917\\u093f \\u092a\\u094d\\u0930\\u092f\\u093e\\u0938 \\u0917\\u0930\\u094d \\u0930 \\u0938\\u092e\\u094d\\u092d\\u0935 \\u0928\\u092d\\u090f \\u090f\\u0915 \\u0924\\u0943\\u0924\\u0940\\u092f\\u093e\\u0902\\u0936 \\u092c\\u091c\\u0947\\u091f \\u092e\\u093e\\u0924\\u094d\\u0930 \\u092a\\u094d\\u0930\\u0938\\u094d\\u0924\\u0941\\u0924 \\u0917\\u0930\\u094d \\u091c\\u0928\\u093e\\u0909 \\u0906\\u0907\\u0924\\u092c\\u093e\\u0930 \\u0930\\u093e\\u0937\\u094d\\u091f\\u094d\\u0930\\u092a\\u0924\\u093f \\u092f\\u093e\\u0926\\u0935 \\u0926  \\u0930\\u093e\\u0924\\u093f \\u0905\\u092c\\u0947\\u0930\\u0938\\u092e\\u094d\\u092e \\u092d \\u091b\\u0932\\u092b\\u0932 \\u092a\\u094d\\u0930\\u0927\\u093e\\u0928\\u092e\\u0928\\u094d\\u0924\\u094d\\u0930\\u0940 \\u092d\\u091f\\u094d\\u091f\\u0930\\u093e\\u0908 \\u0938\\u0915\\u092d\\u0930 \\u0938\\u0939\\u092e\\u0924\\u093f \\u0938\\u093e\\u0925 \\u092a\\u0942\\u0930\\u094d\\u0923 \\u0906\\u0915\\u093e\\u0930 \\u092c\\u091c\\u0947\\u091f \\u0932\\u094d\\u092f\\u093e\\u0909 \\u0924\\u0930 \\u0938\\u0939\\u092e\\u0924\\u093f \\u0928\\u092d\\u090f \\u090f\\u0915 \\u0924\\u0943\\u0924\\u0940\\u092f\\u093e\\u0902\\u0936 \\u092c\\u091c\\u0947\\u091f \\u0932\\u094d\\u092f\\u093e\\u0909 \\u092c\\u0924\\u093e\\u090f\\u0930 \\u0909\\u0920  \\u0938\\u0902\\u0935\\u093f\\u0927\\u093e\\u0928\\u0938\\u092d\\u093e\\u0935\\u094d\\u092f\\u0935\\u0938\\u094d\\u0925\\u093e\\u092a\\u093f \\u0938\\u092e\\u0947\\u0924 \\u0928\\u0930\\u0939 \\u0905\\u0935\\u0938\\u094d\\u0925\\u093e \\u0930\\u093e\\u0937\\u094d\\u091f\\u094d\\u0930\\u092a\\u0924\\u093f \\u0930 \\u0938\\u0930\\u0915\\u093e\\u0930\\u092c\\u0940\\u091a \\u0936\\u0915\\u094d\\u0924\\u093f \\u091f\\u0915\\u0930\\u093e\\u092c \\u0906\\u0909\\u0928 \\u0928\\u0926\\u093f \\u0909\\u0926\\u094d\\u0926\\u0947\\u0936\\u094d\\u092f \\u0930\\u093e\\u0916\\u0947\\u0930 \\u092a\\u094d\\u0930\\u0927\\u093e\\u0928\\u092e\\u0928\\u094d\\u0924\\u094d\\u0930\\u0940 \\u0905\\u0918\\u093f\\u0932\\u094d\\u0932\\u094b \\u092d\\u0947\\u091f \\u0924\\u0941\\u0932\\u0928\\u093e \\u0906\\u0907\\u0924\\u092c\\u093e\\u0930 \\u0932\\u091a\\u093f\\u0932\\u094b \\u092d \\u0938\\u094d\\u0930\\u094b\\u0924 \\u092c\\u0924\\u093e \\u092f\\u0938\\u0905\\u0918\\u093f \\u092e\\u093e\\u0913\\u0935\\u093e \\u0905\\u0927\\u094d\\u092f\\u0915\\u094d\\u0937 \\u0926\\u093e\\u0939\\u093e\\u0932 \\u0938\\u0939\\u092e\\u0924\\u093f \\u092c\\u093e\\u0939\\u093f\\u0930 \\u0917\\u090f\\u0930 \\u092c\\u091c\\u0947\\u091f \\u0928\\u0932\\u094d\\u092f\\u093e\\u0909 \\u092c\\u0924\\u093e\\u090f \\u092a\\u0928\\u093f \\u092a\\u094d\\u0930\\u0927\\u093e\\u0928\\u092e\\u0928\\u094d\\u0924\\u094d\\u0930\\u0940 \\u092d\\u091f\\u094d\\u091f\\u0930\\u093e\\u0908 \\u092d \\u092a\\u0942\\u0930\\u094d\\u0923 \\u0906\\u0915\\u093e\\u0930 \\u092c\\u091c\\u0947\\u091f \\u0932\\u094d\\u092f\\u093e\\u0909 \\u0905\\u0920\\u094b\\u091f  \\u0905\\u0930\\u094d\\u0925\\u092e\\u0928\\u094d\\u0924\\u094d\\u0930\\u0940 \\u0935\\u0930\\u094d\\u0937\\u092e\\u093e\\u0928 \\u092a\\u0941\\u0928 \\u0930\\u093e\\u0937\\u094d\\u091f\\u094d\\u0930\\u092a\\u0924\\u093f \\u092f\\u093e\\u0926\\u0935 \\u0936\\u0928\\u093f\\u092c\\u093e\\u0930 \\u092a\\u0942\\u0930\\u094d\\u0923 \\u0906\\u0915\\u093e\\u0930 \\u092c\\u091c\\u0947\\u091f \\u092c\\u093f\\u094d\\u0930\\u092b\\u093f\\u0919\\u0938\\u092e\\u0947\\u0924 \\u0917\\u0930  \\u0938\\u0939\\u092e\\u0924\\u093f\\u0935\\u093f\\u092a\\u0930\\u0940\\u0924 \\u092a\\u0942\\u0930\\u094d\\u0923 \\u0906\\u0915\\u093e\\u0930 \\u092c\\u091c\\u0947\\u091f \\u0928\\u0932\\u094d\\u092f\\u093e\\u0909\\u0928 \\u0905\\u0930\\u094d\\u0925\\u092e\\u0928\\u094d\\u0924\\u094d\\u0930\\u0940 \\u092a\\u0941\\u0928 \\u0938\\u092e\\u0947\\u0924 \\u0930\\u093e\\u0937\\u094d\\u091f\\u094d\\u0930\\u092a\\u0924\\u093f \\u0906\\u0917\\u094d\\u0930\\u0939 \\u0917\\u0930  \\u0930\\u093e\\u0937\\u094d\\u091f\\u094d\\u0930\\u092a\\u0924\\u093f \\u0905\\u0928\\u094d\\u0924\\u0930\\u093f\\u092e \\u0938\\u0902\\u0935\\u093f\\u0927\\u093e\\u0928 \\u0938\\u0930\\u094d\\u0935\\u094b\\u091a\\u094d\\u091a \\u0905\\u0926\\u093e\\u0932\\u0924 \\u0928\\u093f\\u0930\\u094d\\u0923\\u092f \\u0905\\u0928\\u094d\\u0924\\u0930\\u094d\\u0930\\u093e\\u0937\\u094d\\u091f\\u094d\\u0930\\u093f\\u092f \\u0930 \\u0906\\u092b\\u094d\\u0928\\u0948 \\u092a\\u0930\\u092e\\u094d\\u092a\\u0930\\u093e \\u0905\\u0928\\u0941\\u0938\\u093e\\u0930 \\u092a\\u0928\\u093f \\u0938\\u0939\\u092e\\u0924\\u093f\\u0935\\u093f\\u092a\\u0930\\u0940\\u0924 \\u092a\\u0942\\u0930\\u094d\\u0923 \\u092c\\u091c\\u0947\\u091f \\u0932\\u094d\\u092f\\u093e\\u0909\\u0928 \\u0928\\u092e\\u093f\\u0932\\u094d \\u0924\\u0930\\u094d\\u0915 \\u0917\\u0930  \\u092a\\u094d\\u0930\\u0927\\u093e\\u0928\\u092e\\u0928\\u094d\\u0924\\u094d\\u0930\\u0940 \\u092d\\u091f\\u094d\\u091f\\u0930\\u093e\\u0908 \\u0905\\u0930\\u094d\\u0925\\u092e\\u0928\\u094d\\u0924\\u094d\\u0930\\u0940 \\u092a\\u0941\\u0928 \\u0905\\u0918\\u093f\\u0932\\u094d\\u0932\\u094b \\u0926\\u093f\\u0928 \\u092d \\u0930\\u093e\\u0937\\u094d\\u091f\\u094d\\u0930\\u092a\\u0924\\u093f\\u0938\\u0901\\u0917 \\u0915\\u0941\\u0930\\u093e\\u0915\\u093e\\u0928\\u0940 \\u0930 \\u092c\\u091c\\u0947\\u091f\\u092c\\u093e\\u0930\\u0947 \\u0938\\u092e\\u0947\\u0924 \\u091c\\u093e\\u0928\\u0915\\u093e\\u0930\\u0940 \\u0932\\u093f\\u090f\\u0930 \\u0936\\u0940\\u0924\\u0932 \\u0928\\u093f\\u0935\\u093e\\u0938 \\u092a\\u0941\\u0917  \\u0936\\u0940\\u0924\\u0932 \\u0928\\u093f\\u0935\\u093e\\u0938 \\u091d\\u0928\\u094d\\u0921\\u0948 \\u0924\\u0940\\u0928 \\u0918\\u0928\\u094d\\u091f\\u093e \\u0932\\u093e\\u092e\\u094b \\u0935\\u093e\\u0930\\u094d\\u0924\\u093e \\u091a\\u0932  \\u0938\\u0939\\u092e\\u0924\\u093f\\u0935\\u093f\\u092a\\u0930\\u0940\\u0924 \\u092a\\u0942\\u0930\\u094d\\u0923 \\u092c\\u091c\\u0947\\u091f \\u0932\\u0917\\u0947\\u0930 \\u0930\\u093e\\u0937\\u094d\\u091f\\u094d\\u0930\\u092a\\u0924\\u093f \\u0905\\u0938\\u094d\\u0935\\u0940\\u0915\\u093e\\u0930 \\u0917\\u0930\\u0947 \\u0930\\u093e\\u0937\\u094d\\u091f\\u094d\\u0930\\u092a\\u0924\\u093f \\u0930 \\u092a\\u094d\\u0930\\u0927\\u093e\\u0928\\u092e\\u0928\\u094d\\u0924\\u094d\\u0930\\u0940\\u092c\\u0940\\u091a \\u0936\\u0915\\u094d\\u0924\\u093f\\u0938\\u0902\\u0918\\u0930\\u094d\\u0937 \\u091a\\u0930\\u094d\\u0915\\u0928 \\u0938\\u0915\\u094d \\u0938\\u092e\\u094d\\u092d\\u093e\\u0935\\u0928\\u093e \\u0930\\u0939 \\u0924\\u094d\\u092f\\u0938\\u094d\\u0924\\u094b \\u0905\\u0935\\u0938\\u094d\\u0925\\u093e \\u0906\\u0909\\u0928 \\u0928\\u0926\\u093f\\u0928 \\u0938\\u0939\\u092e\\u0924\\u093f \\u0938\\u093e\\u0925 \\u0905\\u0918\\u093f \\u092c\\u0922\\u094d \\u091c\\u093e\\u0928\\u0915\\u093e\\u0930\\u0940 \\u092a\\u0941\\u0928 \\u0936\\u0928\\u093f\\u092c\\u093e\\u0930 \\u0928\\u0948 \\u0930\\u093e\\u0937\\u094d\\u091f\\u094d\\u0930\\u092a\\u0924\\u093f \\u0917\\u0930\\u093e  \\u0930\\u093e\\u0937\\u094d\\u091f\\u094d\\u0930\\u092a\\u0924\\u093f \\u092a\\u094d\\u0930\\u0947\\u0938 \\u0938\\u0932\\u094d\\u0932\\u093e\\u0939\\u0915\\u093e\\u0930 \\u0930\\u093e\\u091c\\u0947\\u0928\\u094d\\u0926\\u094d\\u0930 \\u0926\\u093e\\u0939\\u093e\\u0932 \\u092a\\u094d\\u0930\\u0927\\u093e\\u0928\\u092e\\u0928\\u094d\\u0924\\u094d\\u0930\\u0940 \\u0930 \\u092e\\u093e\\u0913\\u0935\\u093e \\u0905\\u0927\\u094d\\u092f\\u0915\\u094d\\u0937 \\u0926\\u093e\\u0939\\u093e\\u0932\\u0938\\u0901\\u0917 \\u092d\\u0947\\u091f\\u0935\\u093e\\u0930\\u094d\\u0924\\u093e \\u0938\\u092c\\u0948 \\u0935\\u093f\\u0937\\u092f \\u091b\\u0932\\u092b\\u0932 \\u092d\\u090f \\u092a\\u0928\\u093f \\u092c\\u091c\\u0947\\u091f \\u0915\\u0947\\u0928\\u094d\\u0926\\u093f\\u094d \\u0930\\u0939 \\u092c\\u0924\\u093e\\u090f \\u092e\\u093e\\u0913\\u0935\\u093e \\u0905\\u0927\\u094d\\u092f\\u0915\\u094d\\u0937 \\u0926\\u093e\\u0939\\u093e\\u0932 \\u0930 \\u092a\\u094d\\u0930\\u0927\\u093e\\u0928\\u092e\\u0928\\u094d\\u0924\\u094d\\u0930\\u0940 \\u092d\\u091f\\u094d\\u091f\\u0930\\u093e\\u0908 \\u0938\\u0902\\u0935\\u093f\\u0927\\u093e\\u0928 \\u092e\\u0930\\u094d\\u092e\\u0905\\u0928\\u0941\\u0938\\u093e\\u0930 \\u092c\\u091c\\u0947\\u091f \\u0932\\u094d\\u092f\\u093e\\u0909 \\u0938\\u0939\\u092e\\u0924\\u093f \\u0917\\u0930\\u0947\\u0930 \\u0935\\u093e\\u0930\\u094d\\u0924\\u093e \\u091f\\u0941\\u0902\\u0917  \\u0930\\u093e\\u0937\\u094d\\u091f\\u094d\\u0930\\u092a\\u0924\\u093f \\u092d \\u0932\\u093e\\u092e\\u094b \\u091b\\u0932\\u092b\\u0932 \\u0938\\u0902\\u0915\\u094d\\u0937\\u093f\\u092a\\u094d\\u0924 \\u092a\\u094d\\u0930\\u0924\\u093f\\u0915\\u094d\\u0930\\u093f\\u092f\\u093e \\u0926\\u093f\\u0901 \\u0926\\u093e\\u0939\\u093e\\u0932 \\u0915\\u093e\\u0928\\u094d\\u0924\\u093f\\u092a\\u0941\\u0930 \\u092d \\u092c\\u091c\\u0947\\u091f\\u092c\\u093e\\u0939\\u0947\\u0915 \\u0905\\u0928\\u094d\\u092f \\u0935\\u093f\\u0937\\u092f \\u092a\\u0928\\u093f \\u0915\\u0941\\u0930\\u093e\\u0915\\u093e\\u0928\\u0940  \\u092c\\u093f\\u0939\\u093e\\u0928 \\u092d\\u0947\\u091f \\u092e\\u093e\\u0913\\u0935\\u093e \\u0905\\u0927\\u094d\\u092f\\u0915\\u094d\\u0937 \\u0926\\u093e\\u0939\\u093e\\u0932 \\u092a\\u094d\\u0930\\u0924\\u093f\\u0915\\u094d\\u0930\\u093f\\u092f\\u093e \\u0926\\u093f\\u090f \\u092a\\u0928\\u093f \\u0930\\u093e\\u0924\\u093f \\u0905\\u092c\\u0947\\u0930\\u0938\\u092e\\u094d\\u092e \\u092d \\u092d\\u0947\\u091f \\u092d \\u092a\\u094d\\u0930\\u0927\\u093e\\u0928\\u092e\\u0928\\u094d\\u0924\\u094d\\u0930\\u0940 \\u092d\\u091f\\u094d\\u091f\\u0930\\u093e\\u0908 \\u092f\\u0938\\u0905\\u0918\\u093f\\u091c\\u0938\\u094d\\u0924\\u0948 \\u0938\\u091e\\u094d\\u091a\\u093e\\u0930\\u0915\\u0930\\u094d\\u092e\\u0940 \\u092a\\u094d\\u0930\\u0924\\u093f\\u0915\\u094d\\u0930\\u093f\\u092f\\u093e \\u0928\\u0926\\u093f\\u0908 \\u092c\\u093e\\u0939\\u093f\\u0930  \\u092e\\u093e\\u0913\\u0935\\u093e \\u0905\\u0927\\u094d\\u092f\\u0915\\u094d\\u0937 \\u0926\\u093e\\u0939\\u093e\\u0932 \\u092d \\u0930\\u093e\\u0937\\u094d\\u091f\\u094d\\u0930\\u092a\\u0924\\u093f \\u0938\\u0915\\u092d\\u0930 \\u0938\\u0939\\u092e\\u0924\\u093f \\u0906\\u0927\\u093e\\u0930 \\u092a\\u0942\\u0930\\u094d\\u0923 \\u092c\\u091c\\u0947\\u091f \\u0932\\u094d\\u092f\\u093e\\u0909\\u0928 \\u092d\\u0907\\u0930\\u0939 \\u092a\\u094d\\u0930\\u092f\\u093e\\u0938\\u092c\\u093e\\u0930\\u0947 \\u091c\\u093e\\u0928\\u0915\\u093e\\u0930\\u0940 \\u0917\\u0930\\u093e \\u092c\\u0924\\u093e\\u090f\"\n        ],\n        \"semantic_type\": \"\",\n        \"description\": \"\"\n      }\n    }\n  ]\n}"
            }
          },
          "metadata": {},
          "execution_count": 3
        }
      ],
      "source": [
        "df = pd.read_csv('/content/drive/MyDrive/Colab Notebooks/nlp/preprocessed.csv')\n",
        "df.head()"
      ]
    },
    {
      "cell_type": "code",
      "source": [
        "df['Category'].unique()"
      ],
      "metadata": {
        "colab": {
          "base_uri": "https://localhost:8080/"
        },
        "id": "OYjQLvVMpscy",
        "outputId": "611672fa-3c8e-444d-d5da-2deae069420d"
      },
      "execution_count": null,
      "outputs": [
        {
          "output_type": "execute_result",
          "data": {
            "text/plain": [
              "array(['politics', 'sport', 'entertainment', 'tech', 'business'],\n",
              "      dtype=object)"
            ]
          },
          "metadata": {},
          "execution_count": 4
        }
      ]
    },
    {
      "cell_type": "markdown",
      "source": [
        "**Tokenization and Vectorization**"
      ],
      "metadata": {
        "id": "y9Uy9CJJIsek"
      }
    },
    {
      "cell_type": "code",
      "execution_count": null,
      "metadata": {
        "id": "Picm-eVowMhJ"
      },
      "outputs": [],
      "source": [
        "max_len = 500  # Max length of sequence\n",
        "vocab_size = 50000  # Vocabulary size\n",
        "embedding_dim = 350"
      ]
    },
    {
      "cell_type": "code",
      "execution_count": null,
      "metadata": {
        "id": "vOawgg0dwZny",
        "colab": {
          "base_uri": "https://localhost:8080/"
        },
        "outputId": "bfa4e06b-8559-494d-cd1a-4a8a8e2d33d1"
      },
      "outputs": [
        {
          "output_type": "stream",
          "name": "stdout",
          "text": [
            "Number of unique tokens: 70679\n",
            "max_length:  3288\n"
          ]
        }
      ],
      "source": [
        "# Tokenization and vectorization\n",
        "tokenizer = Tokenizer(num_words=vocab_size, oov_token='<OOV>')\n",
        "tokenizer.fit_on_texts(df['Stemmed'])\n",
        "word_index = tokenizer.word_index\n",
        "print(\"Number of unique tokens:\", len(word_index))\n",
        "\n",
        "sequences = tokenizer.texts_to_sequences(df['Stemmed'])\n",
        "max_length = max(len(seq) for seq in sequences)\n",
        "print('max_length: ', max_length)\n",
        "padded_sequences = pad_sequences(sequences, maxlen=max_len, truncating='post')"
      ]
    },
    {
      "cell_type": "markdown",
      "source": [
        "**Save Tokenizer state for future use.**"
      ],
      "metadata": {
        "id": "ceoNPeh0ISQJ"
      }
    },
    {
      "cell_type": "code",
      "source": [
        "import io\n",
        "import json\n",
        "\n",
        "tokenizer_json = tokenizer.to_json()\n",
        "with io.open('/content/drive/MyDrive/Colab Notebooks/nlp/tokenizer.json', 'w', encoding='utf-8') as f:\n",
        "    f.write(json.dumps(tokenizer_json, ensure_ascii=False))"
      ],
      "metadata": {
        "id": "CYfLeIpl58KV"
      },
      "execution_count": null,
      "outputs": []
    },
    {
      "cell_type": "code",
      "source": [
        "# with open('/content/drive/MyDrive/Colab Notebooks/nlp/tokenizer.json') as f:\n",
        "#     data = json.load(f)\n",
        "#     tokenizer = tokenizer_from_json(data)"
      ],
      "metadata": {
        "id": "vjlc0BaW6XyZ"
      },
      "execution_count": null,
      "outputs": []
    },
    {
      "cell_type": "code",
      "execution_count": null,
      "metadata": {
        "id": "cwg39-NywczF"
      },
      "outputs": [],
      "source": [
        "# encoding categories suitable for model training\n",
        "label_encoder = LabelEncoder()\n",
        "labels = label_encoder.fit_transform(df['Category'])"
      ]
    },
    {
      "cell_type": "code",
      "execution_count": null,
      "metadata": {
        "id": "RsmpH320wfOy"
      },
      "outputs": [],
      "source": [
        "#split whole dataset into train, val, and test datasets\n",
        "X_train, X_temp, y_train, y_temp = train_test_split(padded_sequences, labels, test_size=0.3, random_state=42)\n",
        "X_val, X_test, y_val, y_test = train_test_split(X_temp, y_temp, test_size=0.5, random_state=42)"
      ]
    },
    {
      "cell_type": "markdown",
      "source": [
        "**Model prepare and Train.**"
      ],
      "metadata": {
        "id": "1OnbSlvMJTMW"
      }
    },
    {
      "cell_type": "code",
      "source": [
        "# early_stopping = EarlyStopping(monitor='val_accuracy', patience=3, restore_best_weights=True)"
      ],
      "metadata": {
        "id": "7cb2ozYRtqNc"
      },
      "execution_count": null,
      "outputs": []
    },
    {
      "cell_type": "code",
      "source": [
        "vocab_size, embedding_dim, max_len"
      ],
      "metadata": {
        "colab": {
          "base_uri": "https://localhost:8080/"
        },
        "id": "iSAs1F8CnB2Z",
        "outputId": "d357b40f-fc27-47a2-cd98-de0e6f305edc"
      },
      "execution_count": null,
      "outputs": [
        {
          "output_type": "execute_result",
          "data": {
            "text/plain": [
              "(50000, 350, 500)"
            ]
          },
          "metadata": {},
          "execution_count": 11
        }
      ]
    },
    {
      "cell_type": "code",
      "execution_count": null,
      "metadata": {
        "colab": {
          "base_uri": "https://localhost:8080/"
        },
        "id": "wbcFcS0cyJiR",
        "outputId": "cdbc8084-21ee-4247-8710-4bea20d26058"
      },
      "outputs": [
        {
          "output_type": "stream",
          "name": "stdout",
          "text": [
            "Model: \"sequential\"\n",
            "_________________________________________________________________\n",
            " Layer (type)                Output Shape              Param #   \n",
            "=================================================================\n",
            " embedding (Embedding)       (None, 500, 350)          17500000  \n",
            "                                                                 \n",
            " simple_rnn (SimpleRNN)      (None, 64)                26560     \n",
            "                                                                 \n",
            " dense (Dense)               (None, 32)                2080      \n",
            "                                                                 \n",
            " dense_1 (Dense)             (None, 5)                 165       \n",
            "                                                                 \n",
            "=================================================================\n",
            "Total params: 17528805 (66.87 MB)\n",
            "Trainable params: 17528805 (66.87 MB)\n",
            "Non-trainable params: 0 (0.00 Byte)\n",
            "_________________________________________________________________\n",
            "None\n"
          ]
        }
      ],
      "source": [
        "from keras.layers import SimpleRNN\n",
        "\n",
        "# Model\n",
        "model_simple_rnn = Sequential([\n",
        "    Embedding(vocab_size, embedding_dim, input_length=max_len),\n",
        "    SimpleRNN(64),  # Simple RNN layer\n",
        "    Dense(32, activation='relu'),\n",
        "    Dense(5, activation='softmax')\n",
        "])\n",
        "\n",
        "model_simple_rnn.compile(optimizer='adam', loss='sparse_categorical_crossentropy', metrics=['accuracy'])\n",
        "\n",
        "print(model_simple_rnn.summary())\n"
      ]
    },
    {
      "cell_type": "code",
      "execution_count": null,
      "metadata": {
        "colab": {
          "base_uri": "https://localhost:8080/"
        },
        "id": "g9HSeMFJyO7e",
        "outputId": "aed93ba8-d73d-4a3a-d090-d1057850924a"
      },
      "outputs": [
        {
          "output_type": "stream",
          "name": "stdout",
          "text": [
            "Epoch 1/10\n",
            "100/100 [==============================] - 69s 671ms/step - loss: 1.5630 - accuracy: 0.2738 - val_loss: 1.5041 - val_accuracy: 0.3392\n",
            "Epoch 2/10\n",
            "100/100 [==============================] - 67s 675ms/step - loss: 0.8839 - accuracy: 0.7464 - val_loss: 1.0979 - val_accuracy: 0.5683\n",
            "Epoch 3/10\n",
            "100/100 [==============================] - 65s 652ms/step - loss: 0.1059 - accuracy: 0.9846 - val_loss: 1.1793 - val_accuracy: 0.5742\n",
            "Epoch 4/10\n",
            "100/100 [==============================] - 75s 756ms/step - loss: 0.0079 - accuracy: 1.0000 - val_loss: 1.2965 - val_accuracy: 0.5698\n",
            "Epoch 5/10\n",
            "100/100 [==============================] - 68s 678ms/step - loss: 0.0033 - accuracy: 1.0000 - val_loss: 1.3241 - val_accuracy: 0.5742\n",
            "Epoch 6/10\n",
            "100/100 [==============================] - 67s 675ms/step - loss: 0.0021 - accuracy: 1.0000 - val_loss: 1.3577 - val_accuracy: 0.5756\n",
            "Epoch 7/10\n",
            "100/100 [==============================] - 87s 872ms/step - loss: 0.0015 - accuracy: 1.0000 - val_loss: 1.3885 - val_accuracy: 0.5756\n",
            "Epoch 8/10\n",
            "100/100 [==============================] - 70s 699ms/step - loss: 0.0011 - accuracy: 1.0000 - val_loss: 1.4146 - val_accuracy: 0.5756\n",
            "Epoch 9/10\n",
            "100/100 [==============================] - 70s 697ms/step - loss: 8.5499e-04 - accuracy: 1.0000 - val_loss: 1.4394 - val_accuracy: 0.5742\n",
            "Epoch 10/10\n",
            "100/100 [==============================] - 72s 717ms/step - loss: 6.8319e-04 - accuracy: 1.0000 - val_loss: 1.4612 - val_accuracy: 0.5683\n"
          ]
        },
        {
          "output_type": "execute_result",
          "data": {
            "text/plain": [
              "<keras.src.callbacks.History at 0x7a5fcd05a3e0>"
            ]
          },
          "metadata": {},
          "execution_count": 13
        }
      ],
      "source": [
        "# Training\n",
        "model_simple_rnn.fit(X_train, y_train, validation_data=(X_val, y_val),\n",
        "                     epochs=10, verbose=1)"
      ]
    },
    {
      "cell_type": "code",
      "execution_count": null,
      "metadata": {
        "colab": {
          "base_uri": "https://localhost:8080/"
        },
        "id": "Ouva5judyTRb",
        "outputId": "ff152903-0a5b-466d-901a-724624c05d25"
      },
      "outputs": [
        {
          "output_type": "stream",
          "name": "stdout",
          "text": [
            "Model: \"sequential_1\"\n",
            "_________________________________________________________________\n",
            " Layer (type)                Output Shape              Param #   \n",
            "=================================================================\n",
            " embedding_1 (Embedding)     (None, 500, 350)          17500000  \n",
            "                                                                 \n",
            " gru (GRU)                   (None, 64)                79872     \n",
            "                                                                 \n",
            " dense_2 (Dense)             (None, 32)                2080      \n",
            "                                                                 \n",
            " dense_3 (Dense)             (None, 5)                 165       \n",
            "                                                                 \n",
            "=================================================================\n",
            "Total params: 17582117 (67.07 MB)\n",
            "Trainable params: 17582117 (67.07 MB)\n",
            "Non-trainable params: 0 (0.00 Byte)\n",
            "_________________________________________________________________\n",
            "None\n"
          ]
        }
      ],
      "source": [
        "from keras.layers import GRU\n",
        "\n",
        "# Model\n",
        "model_gru = Sequential([\n",
        "    Embedding(vocab_size, embedding_dim, input_length=max_len),\n",
        "    GRU(64),  # GRU layer\n",
        "    Dense(32, activation='relu'),\n",
        "    Dense(5, activation='softmax')\n",
        "])\n",
        "\n",
        "model_gru.compile(optimizer='adam', loss='sparse_categorical_crossentropy', metrics=['accuracy'])\n",
        "\n",
        "print(model_gru.summary())"
      ]
    },
    {
      "cell_type": "code",
      "execution_count": null,
      "metadata": {
        "colab": {
          "base_uri": "https://localhost:8080/"
        },
        "id": "OJhhyLMiyVVi",
        "outputId": "9680538b-6df2-4ee2-800d-2169e7e8018a"
      },
      "outputs": [
        {
          "output_type": "stream",
          "name": "stdout",
          "text": [
            "Epoch 1/10\n",
            "100/100 [==============================] - 115s 1s/step - loss: 1.2570 - accuracy: 0.4660 - val_loss: 0.7565 - val_accuracy: 0.7327\n",
            "Epoch 2/10\n",
            "100/100 [==============================] - 111s 1s/step - loss: 0.3269 - accuracy: 0.8949 - val_loss: 0.3212 - val_accuracy: 0.9104\n",
            "Epoch 3/10\n",
            "100/100 [==============================] - 116s 1s/step - loss: 0.0804 - accuracy: 0.9786 - val_loss: 0.2914 - val_accuracy: 0.9163\n",
            "Epoch 4/10\n",
            "100/100 [==============================] - 113s 1s/step - loss: 0.0202 - accuracy: 0.9965 - val_loss: 0.2747 - val_accuracy: 0.9280\n",
            "Epoch 5/10\n",
            "100/100 [==============================] - 108s 1s/step - loss: 0.0065 - accuracy: 0.9994 - val_loss: 0.2729 - val_accuracy: 0.9339\n",
            "Epoch 6/10\n",
            "100/100 [==============================] - 114s 1s/step - loss: 0.0027 - accuracy: 1.0000 - val_loss: 0.2893 - val_accuracy: 0.9369\n",
            "Epoch 7/10\n",
            "100/100 [==============================] - 111s 1s/step - loss: 0.0016 - accuracy: 1.0000 - val_loss: 0.2949 - val_accuracy: 0.9369\n",
            "Epoch 8/10\n",
            "100/100 [==============================] - 114s 1s/step - loss: 0.0011 - accuracy: 1.0000 - val_loss: 0.3103 - val_accuracy: 0.9369\n",
            "Epoch 9/10\n",
            "100/100 [==============================] - 111s 1s/step - loss: 8.1148e-04 - accuracy: 1.0000 - val_loss: 0.3090 - val_accuracy: 0.9383\n",
            "Epoch 10/10\n",
            "100/100 [==============================] - 110s 1s/step - loss: 6.8103e-04 - accuracy: 1.0000 - val_loss: 0.3074 - val_accuracy: 0.9369\n"
          ]
        },
        {
          "output_type": "execute_result",
          "data": {
            "text/plain": [
              "<keras.src.callbacks.History at 0x7a5fc5765240>"
            ]
          },
          "metadata": {},
          "execution_count": 15
        }
      ],
      "source": [
        "# Training\n",
        "model_gru.fit(X_train, y_train, validation_data=(X_val, y_val), epochs=10, verbose=1)"
      ]
    },
    {
      "cell_type": "code",
      "execution_count": null,
      "metadata": {
        "id": "1auclA6iwkwT",
        "colab": {
          "base_uri": "https://localhost:8080/"
        },
        "outputId": "e65a33da-3abf-4f2d-f12d-b97deb1321d2"
      },
      "outputs": [
        {
          "output_type": "stream",
          "name": "stdout",
          "text": [
            "Model: \"sequential_2\"\n",
            "_________________________________________________________________\n",
            " Layer (type)                Output Shape              Param #   \n",
            "=================================================================\n",
            " embedding_2 (Embedding)     (None, 500, 350)          17500000  \n",
            "                                                                 \n",
            " lstm (LSTM)                 (None, 64)                106240    \n",
            "                                                                 \n",
            " dense_4 (Dense)             (None, 32)                2080      \n",
            "                                                                 \n",
            " dense_5 (Dense)             (None, 5)                 165       \n",
            "                                                                 \n",
            "=================================================================\n",
            "Total params: 17608485 (67.17 MB)\n",
            "Trainable params: 17608485 (67.17 MB)\n",
            "Non-trainable params: 0 (0.00 Byte)\n",
            "_________________________________________________________________\n",
            "None\n"
          ]
        }
      ],
      "source": [
        "# LSTM Model\n",
        "model_lstm = Sequential([\n",
        "    Embedding(vocab_size, embedding_dim, input_length=max_len),\n",
        "    LSTM(64),\n",
        "    Dense(32, activation='relu'),\n",
        "    Dense(5, activation='softmax')\n",
        "])\n",
        "\n",
        "model_lstm.compile(optimizer='adam', loss='sparse_categorical_crossentropy', metrics=['accuracy'])\n",
        "\n",
        "print(model_lstm.summary())"
      ]
    },
    {
      "cell_type": "code",
      "execution_count": null,
      "metadata": {
        "id": "Pgq7879Ewr8o",
        "colab": {
          "base_uri": "https://localhost:8080/"
        },
        "outputId": "6a9b0d9f-5519-4760-f302-6928b89bda6d"
      },
      "outputs": [
        {
          "output_type": "stream",
          "name": "stdout",
          "text": [
            "Epoch 1/10\n",
            "100/100 [==============================] - 123s 1s/step - loss: 1.1661 - accuracy: 0.4997 - val_loss: 1.0019 - val_accuracy: 0.5492\n",
            "Epoch 2/10\n",
            "100/100 [==============================] - 119s 1s/step - loss: 0.5852 - accuracy: 0.7631 - val_loss: 0.4327 - val_accuracy: 0.8590\n",
            "Epoch 3/10\n",
            "100/100 [==============================] - 122s 1s/step - loss: 0.1593 - accuracy: 0.9534 - val_loss: 0.3276 - val_accuracy: 0.8943\n",
            "Epoch 4/10\n",
            "100/100 [==============================] - 119s 1s/step - loss: 0.0385 - accuracy: 0.9880 - val_loss: 0.3144 - val_accuracy: 0.9090\n",
            "Epoch 5/10\n",
            "100/100 [==============================] - 120s 1s/step - loss: 0.0110 - accuracy: 0.9987 - val_loss: 0.3139 - val_accuracy: 0.9134\n",
            "Epoch 6/10\n",
            "100/100 [==============================] - 118s 1s/step - loss: 0.0030 - accuracy: 1.0000 - val_loss: 0.3078 - val_accuracy: 0.9310\n",
            "Epoch 7/10\n",
            "100/100 [==============================] - 120s 1s/step - loss: 0.0039 - accuracy: 0.9994 - val_loss: 0.2950 - val_accuracy: 0.9325\n",
            "Epoch 8/10\n",
            "100/100 [==============================] - 120s 1s/step - loss: 0.0013 - accuracy: 1.0000 - val_loss: 0.3009 - val_accuracy: 0.9339\n",
            "Epoch 9/10\n",
            "100/100 [==============================] - 122s 1s/step - loss: 8.7870e-04 - accuracy: 1.0000 - val_loss: 0.3044 - val_accuracy: 0.9383\n",
            "Epoch 10/10\n",
            "100/100 [==============================] - 120s 1s/step - loss: 6.5160e-04 - accuracy: 1.0000 - val_loss: 0.3065 - val_accuracy: 0.9442\n"
          ]
        },
        {
          "output_type": "execute_result",
          "data": {
            "text/plain": [
              "<keras.src.callbacks.History at 0x7a5fc514c7c0>"
            ]
          },
          "metadata": {},
          "execution_count": 17
        }
      ],
      "source": [
        "# Training\n",
        "model_lstm.fit(X_train, y_train, validation_data=(X_val, y_val), epochs=10, verbose=1)"
      ]
    },
    {
      "cell_type": "markdown",
      "source": [
        "**Accuracy Test and Classification Report**"
      ],
      "metadata": {
        "id": "HKUjw9YSJdh_"
      }
    },
    {
      "cell_type": "code",
      "source": [
        "# Evaluate Simple RNN Model\n",
        "_, accuracy_simple_rnn = model_simple_rnn.evaluate(X_test, y_test)\n",
        "print(\"Simple RNN Test Accuracy:\", accuracy_simple_rnn)\n",
        "\n",
        "# Evaluate LSTM Model\n",
        "_, accuracy_lstm = model_lstm.evaluate(X_test, y_test)\n",
        "print(\"LSTM Test Accuracy:\", accuracy_lstm)\n",
        "\n",
        "# Evaluate GRU Model\n",
        "_, accuracy_gru = model_gru.evaluate(X_test, y_test)\n",
        "print(\"GRU Test Accuracy:\", accuracy_gru)"
      ],
      "metadata": {
        "id": "p-Jr91QFhcdA",
        "colab": {
          "base_uri": "https://localhost:8080/"
        },
        "outputId": "dd7ca2d3-788f-44cc-ab9c-8e53d7fdd386"
      },
      "execution_count": null,
      "outputs": [
        {
          "output_type": "stream",
          "name": "stdout",
          "text": [
            "22/22 [==============================] - 2s 78ms/step - loss: 1.2638 - accuracy: 0.6094\n",
            "Simple RNN Test Accuracy: 0.6093979477882385\n",
            "22/22 [==============================] - 5s 208ms/step - loss: 0.2939 - accuracy: 0.9457\n",
            "LSTM Test Accuracy: 0.9456681609153748\n",
            "22/22 [==============================] - 3s 138ms/step - loss: 0.3306 - accuracy: 0.9325\n",
            "GRU Test Accuracy: 0.9324522614479065\n"
          ]
        }
      ]
    },
    {
      "cell_type": "code",
      "source": [
        "import numpy as np\n",
        "from sklearn.metrics import classification_report\n",
        "\n",
        "# Make predictions\n",
        "y_pred = model_simple_rnn.predict(X_test)\n",
        "\n",
        "# Convert predicted probabilities to class labels\n",
        "y_pred_labels = np.argmax(y_pred, axis=1)\n",
        "\n",
        "\n",
        "categories = ['business', 'entertaintment', 'politics', 'sport', 'tech']\n",
        "clr = classification_report(y_test, y_pred_labels, target_names=categories)\n",
        "print('Simple RNN')\n",
        "print(clr)"
      ],
      "metadata": {
        "colab": {
          "base_uri": "https://localhost:8080/"
        },
        "id": "1aTr7QZsvTcq",
        "outputId": "38e58e41-331b-4873-dfb5-92342e3e4d07"
      },
      "execution_count": null,
      "outputs": [
        {
          "output_type": "stream",
          "name": "stdout",
          "text": [
            "22/22 [==============================] - 1s 50ms/step\n",
            "Simple RNN\n",
            "                precision    recall  f1-score   support\n",
            "\n",
            "      business       0.46      0.47      0.47       158\n",
            "entertaintment       0.54      0.56      0.55       140\n",
            "      politics       0.62      0.38      0.47        68\n",
            "         sport       0.90      0.96      0.93       155\n",
            "          tech       0.53      0.54      0.54       160\n",
            "\n",
            "      accuracy                           0.61       681\n",
            "     macro avg       0.61      0.58      0.59       681\n",
            "  weighted avg       0.61      0.61      0.61       681\n",
            "\n"
          ]
        }
      ]
    },
    {
      "cell_type": "code",
      "source": [
        "import numpy as np\n",
        "from sklearn.metrics import classification_report\n",
        "\n",
        "# Make predictions\n",
        "y_pred = model_lstm.predict(X_test)\n",
        "\n",
        "# Convert predicted probabilities to class labels\n",
        "y_pred_labels = np.argmax(y_pred, axis=1)\n",
        "\n",
        "\n",
        "categories = ['business', 'entertaintment', 'politics', 'sport', 'tech']\n",
        "clr = classification_report(y_test, y_pred_labels, target_names=categories)\n",
        "print('LSTM')\n",
        "print(clr)"
      ],
      "metadata": {
        "colab": {
          "base_uri": "https://localhost:8080/"
        },
        "id": "ERU8lOmDxt-U",
        "outputId": "e9fda2db-72ae-47b5-ff71-c38acf85757d"
      },
      "execution_count": null,
      "outputs": [
        {
          "output_type": "stream",
          "name": "stdout",
          "text": [
            "22/22 [==============================] - 4s 161ms/step\n",
            "LSTM\n",
            "                precision    recall  f1-score   support\n",
            "\n",
            "      business       0.94      0.91      0.92       158\n",
            "entertaintment       0.93      0.98      0.95       140\n",
            "      politics       1.00      0.90      0.95        68\n",
            "         sport       0.99      0.98      0.99       155\n",
            "          tech       0.90      0.94      0.92       160\n",
            "\n",
            "      accuracy                           0.95       681\n",
            "     macro avg       0.95      0.94      0.95       681\n",
            "  weighted avg       0.95      0.95      0.95       681\n",
            "\n"
          ]
        }
      ]
    },
    {
      "cell_type": "code",
      "source": [
        "import numpy as np\n",
        "from sklearn.metrics import classification_report\n",
        "\n",
        "# Make predictions\n",
        "y_pred = model_gru.predict(X_test)\n",
        "\n",
        "# Convert predicted probabilities to class labels\n",
        "y_pred_labels = np.argmax(y_pred, axis=1)\n",
        "\n",
        "\n",
        "categories = ['business', 'entertaintment', 'politics', 'sport', 'tech']\n",
        "clr = classification_report(y_test, y_pred_labels, target_names=categories)\n",
        "print('GRU')\n",
        "print(clr)"
      ],
      "metadata": {
        "colab": {
          "base_uri": "https://localhost:8080/"
        },
        "id": "cjs82FdNyi21",
        "outputId": "3fef7a7e-66d7-4b34-fe61-ed3ea3014b6d"
      },
      "execution_count": null,
      "outputs": [
        {
          "output_type": "stream",
          "name": "stdout",
          "text": [
            "22/22 [==============================] - 6s 226ms/step\n",
            "GRU\n",
            "                precision    recall  f1-score   support\n",
            "\n",
            "      business       0.95      0.89      0.92       158\n",
            "entertaintment       0.90      0.98      0.94       140\n",
            "      politics       1.00      0.81      0.89        68\n",
            "         sport       0.97      0.97      0.97       155\n",
            "          tech       0.89      0.94      0.92       160\n",
            "\n",
            "      accuracy                           0.93       681\n",
            "     macro avg       0.94      0.92      0.93       681\n",
            "  weighted avg       0.94      0.93      0.93       681\n",
            "\n"
          ]
        }
      ]
    },
    {
      "cell_type": "code",
      "source": [
        "#save models\n",
        "# model_simple_rnn.save('/content/drive/MyDrive/Colab Notebooks/nlp/model_rnn.keras')\n",
        "# model_lstm.save('/content/drive/MyDrive/Colab Notebooks/nlp/model_lstm.keras')\n",
        "# model_gru.save('/content/drive/MyDrive/Colab Notebooks/nlp/model_gru.keras')"
      ],
      "metadata": {
        "id": "TtH5P-UWquqX"
      },
      "execution_count": 18,
      "outputs": []
    },
    {
      "cell_type": "markdown",
      "source": [
        "**Predict live text taken from nepali news website.**"
      ],
      "metadata": {
        "id": "kn9mzuURKKgP"
      }
    },
    {
      "cell_type": "code",
      "source": [
        "from tensorflow.keras.preprocessing.text import tokenizer_from_json\n",
        "from tensorflow.keras.models import load_model\n",
        "from tensorflow.keras.preprocessing.sequence import pad_sequences"
      ],
      "metadata": {
        "id": "OUZlpzhi8eZh"
      },
      "execution_count": 3,
      "outputs": []
    },
    {
      "cell_type": "code",
      "source": [
        "import string\n",
        "import json\n",
        "import numpy as np\n",
        "import re\n",
        "import snowballstemmer"
      ],
      "metadata": {
        "id": "2UglaUNFoEI9"
      },
      "execution_count": 13,
      "outputs": []
    },
    {
      "cell_type": "code",
      "source": [
        "# Remove non-Nepali characters\n",
        "def clean_text(text):\n",
        "    cleaned_text = re.sub(r'[^\\u0900-\\u097F\\s]', '', text)\n",
        "    return cleaned_text.strip()\n",
        "\n",
        "#split sentences and remove punctuations\n",
        "def sentence_tokenize(text):\n",
        "    sentences = text.strip().split(u\"।\")\n",
        "    sentences = [sentence.translate(str.maketrans('', '', string.punctuation)) for sentence in sentences]\n",
        "    return sentences\n",
        "\n",
        "#split words and remove trailing punctuations\n",
        "def word_tokenize(sentence, new_punctuation=[]):\n",
        "    punctuations = ['।', ',', ';', '?', '!', '—', '-', '.']\n",
        "    if new_punctuation:\n",
        "        punctuations = set(punctuations + new_punctuation)\n",
        "\n",
        "    for punct in punctuations:\n",
        "        sentence = ''.join(sentence.split(punct))\n",
        "\n",
        "    return sentence"
      ],
      "metadata": {
        "id": "IzVqm9YXhgdL"
      },
      "execution_count": 5,
      "outputs": []
    },
    {
      "cell_type": "code",
      "source": [
        "#clean sentence removing punctuations and non-nepali characters\n",
        "def tokenize_text(text):\n",
        "    sentences = sentence_tokenize(text)\n",
        "    # print(sentences)\n",
        "    cleaned_sentence_list = []\n",
        "\n",
        "    for sentence in sentences:\n",
        "        words = word_tokenize(sentence)\n",
        "        cleaned_sentence_list.append(words)\n",
        "\n",
        "    cleaned_sentence = ''.join(cleaned_sentence_list)\n",
        "\n",
        "    return cleaned_sentence\n",
        "\n",
        "\n",
        "#stemming for nepali text\n",
        "def stem_text(text):\n",
        "    tokens = text.split()\n",
        "    stemmer = snowballstemmer.NepaliStemmer()\n",
        "    stemmed = stemmer.stemWords(tokens)\n",
        "\n",
        "    return ' '.join(stemmed)"
      ],
      "metadata": {
        "id": "BoqvoHANoO9V"
      },
      "execution_count": 6,
      "outputs": []
    },
    {
      "cell_type": "code",
      "source": [
        "#news prediction\n",
        "def predict_category(model, tokenizer, max_len, news_list):\n",
        "    news = []\n",
        "    for text in news_list:\n",
        "        cleaned = tokenize_text(text)\n",
        "        stemmed = stem_text(cleaned)\n",
        "        news.append(stemmed)\n",
        "\n",
        "    sequences = tokenizer.texts_to_sequences(news)\n",
        "    padded_sequences = pad_sequences(sequences, maxlen=max_len, truncating='post')\n",
        "\n",
        "    # Make predictions\n",
        "    predictions = model.predict(padded_sequences)\n",
        "\n",
        "    # Decode predictions\n",
        "    categories = ['business', 'entertaintment', 'politics', 'sport', 'tech']  # Define your category names here\n",
        "    predicted_categories = [categories[np.argmax(pred)] for pred in predictions]\n",
        "\n",
        "    return f\"{predictions} \\n {predicted_categories}\""
      ],
      "metadata": {
        "id": "-E6GaHpto48M"
      },
      "execution_count": 8,
      "outputs": []
    },
    {
      "cell_type": "code",
      "source": [
        "# Example news articles\n",
        "# sports, entertaintment, business, chunab, tiktok, politics, tech, tech\n",
        "news_list = [\n",
        "    \"काठमाडौँ — नेपाली राष्ट्रिय क्रिकेट टोलीका कप्तान रोहितकुमार पौडेलले ट्वान्टी–२० विश्वकपअगाडि सबै खेलाडीबारे जानकारी लिन पनि वेस्ट इन्डिज ‘ए’ सँग बुधबारको खेलमा केही खेलाडीलाई अवसर दिएको बताएका छन् ।  बुधबारको तेस्रो खेलमा नेपालले नियमित कप्तान रोहितसँगै सोमपाल कामी र आसिफ सेखलाई प्लेइङ ११ मा समावेश गरेको थिएन ।\",\n",
        "    \"तमिल सुपरस्टार रजनीकान्त पाँच दशकदेखि फिल्मी क्षेत्रमा सक्रिय छन् । उमेरले सात दशक पार गरिसकेका रजनीकान्त आगामी फिल्म ‘कुली’ मा भने सुन तस्करसँग भिडिरहेका देखिनेछन् । लोकेश कनगराजको निर्देशनमा बन्ने ‘कुली’ उनको १७१ औं फिल्म हो । काठमाडौँ — तमिल सुपरस्टार रजनीकान्त जति चर्चित छन्, त्यति नै सरल र उदार । संसारभर करोडौं फ्यान छन् । उनी उमेरले सात दशक नाघिसके । तर फिल्मी क्षेत्रमा अझै पनि निकै सक्रिय । नायक मात्र होइन, चरित्र अभिनेता होस् वा खलनायकको भूमिकामा निकै जम्छन् उनी । पर्दामा भयंकर एक्सन गरिरहेका उनी वास्तवमा भने निकै सरल रजनीकान्तको कुरै बेग्लै । उनको पछिल्लो पिःम याद छ ? त्यसमा उनी जेलर थिए । \",\n",
        "    \"सन् २०२४ का लागि विश्व बैंकले ३.३ र एडीबीले ३.६ प्रतिशत आर्थिक वृद्धि हुने प्रक्षेपण गरिसकेका छन् । चालु आर्थिक वर्षमा सरकारले ६ प्रतिशत आर्थिक वृद्धिको लक्ष्य तय गरेको थियो । गत आर्थिक वर्ष आधारभूत मूल्यमा २.३१ प्रतिशत आर्थिक वृद्धिदर रहेको संशोधित कार्यालयको अनुमान छ । चालु आर्थिक वर्षको ९ महिना (गत चैत) सम्मको वास्तविक तथ्यांक र आगामी तीन महिना (वैशाखदेखि असारसम्म) को अनुमानित तथ्यांकका आधारमा कार्यालयले राष्ट्रिय लेखा तथ्यांक सार्वजनिक गरेको हो । उपभोक्ता मूल्यमा भने यस वर्ष नेपालको आर्थिक वृद्धिदर ३.८७ प्रतिशत हुने देखिएको छ । उपभोक्ताको मूल्यमा गत आर्थिक वर्ष ०७९/८० मा आर्थिक वृद्धिदर १.९५ प्रतिशत हुने कार्यालयको संशोधित अनुमान छ । आधारभूत मूल्यमा कर र अनुदान समावेश गरेपछि उपभोक्ता मूल्य आउँछ । यसकारण आधारभूत मूल्यको तुलनामा उपभोक्ता मूल्यमा गणना गरिएको आर्थिक वृद्धिदर बढी हुने गर्छ । तर गत वर्ष लक्ष्यको तुलनामा राजस्व संकलन झन्डै १८ प्रतिशतले घटेकाले आधारभूत मूल्यमा गणना गरिएको आर्थिक वृद्धिदर उपभोक्ता मूल्यमा गणना गरिएको भन्दा बढी देखिएको थियो । तर यस वर्षदेखि भने पुरानै अवस्था देखिन्छ ।\",\n",
        "    \"भारतमा अहिले निर्वाचनको मौसम छ। कुल सात चरणमा हुने निर्वाचनको दुई चरण सकिइसकेको छ। जम्माजम्मी गरी ४७ दिनमा सम्पन्न हुने निर्वाचनमा १ अर्ब जनसङ्ख्या हाराहारी भारतीयहरूले भाग लिनेछन्। संसारको सबैभन्दा ठूलो लोकतन्त्र मानिने भारतमा ४०० भन्दा धेरै भाषा बोलिन्छ। विभिन्न समुदाय, धर्म, संस्कृति र परम्परा भएको भारत आफैंमा एउटा उपमहाद्वीप सरह छ। उत्तर र दक्षिणको भाषिक भिन्नता मात्र नभएर, एकै हिन्दु धर्ममा पनि फरक फरक विश्वास र परम्परा रहेका छन्। त्यस्तै मुस्लिम, जैन, फारसी, बौद्ध, क्रिश्चियनदेखि यहुदीसम्म बसोबास गरिरहेकोले भारत एक ठूलो विविधता बोकेको देश हो। भौगोलिक विविधता त यसै पनि हुने नै भयो। विश्वको सबैभन्दा धेरै जनसङ्ख्या भएको संसारको पाँचौं ठूलो अर्थतन्त्र तथा इतिहासमा विभाजनको घाउ बोकेर पनि आर्थिक विकास र लोकतान्त्रिक मूल्यमान्यतामा अडिग देश भनेर विश्वभर भारतलाई मानिने गरिएको छ।\",\n",
        "    \"देशका इन्टरनेट कम्पनीसम्बन्धी नीति-नियमहरूमा कडाइ गर्ने चिनियाँ सरकारका नयाँ प्रावधानहरू बुधवारबाट लागु भएका छन्। ती नयाँ नियमहरू कसरी कार्यान्वयन हुन्छन् भन्ने चिन्ताहरू पनि व्यक्त भइरहेका छन्। 'स्टेट सेक्रेट ल' भनिने राज्यका सूचनहरू गोप्य राख्नुपर्ने कानुनको विस्तारित नयाँ नियम विभिन्न कम्पनीहरू तथा टेन्सेन्ट, बाइटड्यान्स र विबोजस्ता सामाजिक सञ्जाल सञ्जालकहरूले लागु गर्न बाध्य हुने छन्।\",\n",
        "    \"कँडेलले नेकपा (एमाले)को भागमा परेको कानून मन्त्रालय आफैंसँग राखेर मन्त्रिपरिषद् विस्तार गरेका छन्। उनले एमालेबाट भौतिक पूर्वाधार तथा शहरी विकासमन्त्रीमा शेरबहादुर बुढा र भूमि, व्यवस्था, कृषि तथा सहकारीमन्त्रीमा विनोदकुमार शाहलाई नियुक्त गरेका छन्। यस्तै, गोमता विक भौतिक राज्यमन्त्री नियुक्त भएकी छन्। यसैगरी, नेकपा (माओवादी केन्द्र)बाट आर्थिक मामिला तथा योजनामन्त्रीमा महेन्द्र केसी, ऊर्जा तथा जलस्रोतमन्त्रीमा रणसिंह परियार, सामाजिक विकासमन्त्रीमा वीरबहादुर शाही र दुर्ग रावत उद्योग, पर्यटन, वन तथा वातावरणमन्त्री बनेका छन्। यीमध्ये नवनियुक्त मन्त्रीले पद तथा गोपनीयताको शपथ लिए पनि कृषिमन्त्री नियुक्त भएका शाह भने शपथ ग्रहणमा उपस्थित भएनन्।\",\n",
        "    \"काठमाडौं । राष्ट्रिय सूचना तथा सञ्चार प्रविधि दिवसको अवसरमा सरकारले नेसनल आईसीटी अवार्ड २०२४ वितरण गरिएको हो। तर यस पटक सूचना प्रविधि क्षेत्रमा योगदाननै नगरेका र सञ्चारमन्त्री रेखा शर्माका नजिकका व्यक्तिलाई नेसनल आइसिटी एक्सिलेन्स अवार्ड २०२४ दिईएको भन्दै विवाद उत्पन्न भएको छ। मन्त्री निकट डा. शैलेन्द्र गिरीलाई आज आईसिटी डेको अवसरमा आयोजित कार्यक्रममा आईसिटी अवार्ड दिईएको छ। सरकारले आईसिटी अर्वाडका लागि गठन गरेको उपसमितिले सूचना प्रविधि क्षेत्रमा योगदाननै नगरेका व्यक्तिलाई पुरस्कार दिईएको र विवादमा रहेको संस्थालाई समेत अवार्ड दिईएको भन्दै आपत्ति जनाईएको छ।\",\n",
        "    \"एटीएण्डटीलाई ५७ मिलियन अमेरिकी डलर, भेरिजोनलाई ४७ मिलयन जरिवाना तिर्न भनिएको छ। यस बिच स्प्रिन्ट र टी–मोबाइललाई कुल ९२ मिलियन अमेरिकी डलर जरिवाना लगाइएको छ। स्प्रिन्ट र टी–मोबाइल दुई अघि मर्ज भएका थिए। जसका कारण उनीहरुको जरिवाना धेरै देखिन्छ। एफसीसीले २०१८ मा उनीहरुका गतिविधिहरू प्रकाशमा आएपछि वाहकहरूको अनाधिकृत खुलासा र ग्राहकहरूको वास्तविक–समय स्थान डाटाको बिक्रीमा गहिरो अनुसन्धान गरेको थियो। एफसीसी आयुक्त जेसिका रोजेनवर्सेलले भनिन्, क्यारियरहरूले “डाटा एग्रीगेटरहरूलाई वास्तविक–समय स्थान जानकारी बेचे, जसमा अत्यधिक संवेदनशील डाटालाई बेल–बन्ड कम्पनीहरू, बाउन्टी हन्टर र अन्य छायादार अभिनेताहरूको हातमा पुग्यो।’ एजेन्सीका अनुसार, सार्वजनिक रिपोर्टहरू पछि यस योजनाको खुलासा हुन सुरु भएको थियो। मिसौरीका एक शेरिफले सेक्युरस नामको कम्पनीले वायरलेस क्यारियरहरूबाट प्राप्त गरेको स्थान जानकारी प्रयोग गरेर धेरै व्यक्तिहरूलाई ट्र्याक गरिरहेको थियो। सेक्युरसले देशमा सुधारात्मक सुविधाहरूमा सञ्चार सेवाहरू प्रदान गर्ने इनग्याजेडले उल्लेख गरेको छ।\",\n",
        "    \"चौथो मारवाडी क्रिकेट लिग हुने कान्तिपुर संवाददाता  नेपाल राष्ट्रिय मारवाडी युवा संगठनको आयोजनामा वैशाख २२ देखि विभिन्न सहरमा चौथो संस्करणको नेपाल मारवाडी क्रिकेट लिग प्रतियोगिता हुने भएको छ ।  \",\n",
        "    \"सूचना प्रविधि दिवसमै इन्टरनेट डाउन कान्तिपुर संवाददाता  बिहीबार विभिन्न कार्यक्रम गरेर सञ्चार तथा सूचना प्रविधि दिवस मनाइरहँदा देशभर अधिकांश इन्टरनेट सेवा भने अवरुद्ध हुन पुगेका छन् । वर्ल्डलिङ्क, सुबिसु लगायतका प्रमुख इन्टरनेट सेवा प्रदायकको नेटवर्क स्लो भएको छ भने भायोनेटको नेटवर्क शतप्रतिशत डाउन भएको छ । \",\n",
        "    \"नेप्से परिसूचक र कारोबार रकम दुबै घट्यो कान्तिपुर संवाददाता  साप्ताहिक कारोबारको अन्तिम दिन बिहीबार नेप्से परिसूचक ७.३१ अंकले घटेर १ हजार ९ सय ९८.९६ अंकमा बन्द भएको छ । \"\n",
        "]"
      ],
      "metadata": {
        "id": "yhUu8Rg-qB4o"
      },
      "execution_count": 9,
      "outputs": []
    },
    {
      "cell_type": "code",
      "source": [
        "#load saved models\n",
        "model_simple_rnn = load_model('/content/drive/MyDrive/Colab Notebooks/nlp/model_rnn.keras')\n",
        "model_lstm = load_model('/content/drive/MyDrive/Colab Notebooks/nlp/model_lstm.keras')\n",
        "model_gru = load_model('/content/drive/MyDrive/Colab Notebooks/nlp/model_gru.keras')"
      ],
      "metadata": {
        "id": "wTbg_5wAmEAJ"
      },
      "execution_count": 10,
      "outputs": []
    },
    {
      "cell_type": "code",
      "source": [
        "max_len = 500  # Max length of sequence\n",
        "vocab_size = 50000  # Vocabulary size\n",
        "embedding_dim = 350"
      ],
      "metadata": {
        "id": "o8_QD5YYF_a_"
      },
      "execution_count": 11,
      "outputs": []
    },
    {
      "cell_type": "code",
      "source": [
        "with open('/content/drive/MyDrive/Colab Notebooks/nlp/tokenizer.json') as f:\n",
        "    data = json.load(f)\n",
        "    tokenizer = tokenizer_from_json(data)"
      ],
      "metadata": {
        "id": "YhdVBFhh9fi4"
      },
      "execution_count": 14,
      "outputs": []
    },
    {
      "cell_type": "code",
      "source": [
        "# Predict categories using Simple RNN Model\n",
        "predicted_categories_simple_rnn = predict_category(model_simple_rnn, tokenizer, max_len, news_list)\n",
        "print(\"Predicted Categories (Simple RNN Model):\", predicted_categories_simple_rnn)\n"
      ],
      "metadata": {
        "colab": {
          "base_uri": "https://localhost:8080/"
        },
        "id": "RgvR9gFvqEAr",
        "outputId": "78458a8c-c36d-454b-9e76-e9b8d856c651"
      },
      "execution_count": 15,
      "outputs": [
        {
          "output_type": "stream",
          "name": "stdout",
          "text": [
            "1/1 [==============================] - 0s 315ms/step\n",
            "Predicted Categories (Simple RNN Model): [[9.81389638e-03 1.84486046e-01 1.21033855e-03 2.86269009e-01\n",
            "  5.18220723e-01]\n",
            " [8.29517841e-01 1.00312233e-02 1.28942095e-02 1.37505099e-01\n",
            "  1.00517068e-02]\n",
            " [9.70551610e-01 5.02522988e-03 1.90955717e-02 2.30991311e-04\n",
            "  5.09652914e-03]\n",
            " [3.09904255e-02 6.89194538e-03 3.21427186e-04 6.74126903e-03\n",
            "  9.55054998e-01]\n",
            " [4.29999769e-01 5.66014498e-02 4.41935897e-01 5.72994761e-02\n",
            "  1.41633367e-02]\n",
            " [1.42556680e-02 2.48270750e-01 2.90849851e-03 1.43037364e-01\n",
            "  5.91527700e-01]\n",
            " [7.29450490e-03 7.99628124e-02 8.93589318e-01 1.86087266e-02\n",
            "  5.44667360e-04]\n",
            " [9.83850565e-03 1.28992185e-01 1.74166239e-03 4.42642858e-03\n",
            "  8.55001152e-01]\n",
            " [3.98849283e-04 1.72769446e-02 1.20069901e-03 9.53806520e-01\n",
            "  2.73171067e-02]\n",
            " [2.33952748e-03 1.08852773e-03 1.47656025e-03 9.93310690e-01\n",
            "  1.78468390e-03]\n",
            " [1.66387595e-02 9.42870080e-02 6.34974800e-04 3.89182679e-02\n",
            "  8.49520922e-01]] \n",
            " ['tech', 'business', 'business', 'tech', 'politics', 'tech', 'politics', 'tech', 'sport', 'sport', 'tech']\n"
          ]
        }
      ]
    },
    {
      "cell_type": "code",
      "source": [
        "# Predict categories using LSTM Model\n",
        "predicted_categories_lstm = predict_category(model_lstm, tokenizer, max_len, news_list)\n",
        "print(\"Predicted Categories (LSTM Model):\", predicted_categories_lstm)"
      ],
      "metadata": {
        "colab": {
          "base_uri": "https://localhost:8080/"
        },
        "id": "j8n92qOTqK28",
        "outputId": "d114345b-4f50-440b-b835-bad485c7fa50"
      },
      "execution_count": 16,
      "outputs": [
        {
          "output_type": "stream",
          "name": "stdout",
          "text": [
            "1/1 [==============================] - 0s 438ms/step\n",
            "Predicted Categories (LSTM Model): [[1.5425469e-05 2.9188988e-03 2.5456937e-04 9.9673611e-01 7.4964628e-05]\n",
            " [7.8690318e-06 9.9903852e-01 3.7598002e-04 4.2121802e-04 1.5634559e-04]\n",
            " [9.9937195e-01 1.2662107e-06 2.1482412e-04 2.6858174e-07 4.1172994e-04]\n",
            " [4.7889628e-04 9.7650969e-01 1.9501689e-03 1.4863058e-03 1.9574916e-02]\n",
            " [3.0130942e-03 4.7474258e-02 5.1473489e-04 5.8586197e-04 9.4841206e-01]\n",
            " [1.3520345e-02 1.4426805e-01 4.7264933e-03 2.4733758e-02 8.1275129e-01]\n",
            " [2.2023189e-04 9.8717052e-01 6.5093194e-03 1.0561120e-03 5.0438396e-03]\n",
            " [1.6105713e-04 9.5302326e-05 1.5833033e-06 1.5728378e-06 9.9974048e-01]\n",
            " [3.2612759e-05 4.9441629e-03 3.9452151e-04 9.9447614e-01 1.5255141e-04]\n",
            " [9.8869135e-04 1.6590460e-04 6.2656777e-06 8.5421661e-06 9.9883062e-01]\n",
            " [9.9910897e-01 2.3019718e-06 4.2860876e-04 8.1202728e-07 4.5929474e-04]] \n",
            " ['sport', 'entertaintment', 'business', 'entertaintment', 'tech', 'tech', 'entertaintment', 'tech', 'sport', 'tech', 'business']\n"
          ]
        }
      ]
    },
    {
      "cell_type": "code",
      "source": [
        "# Predict categories using GRU Model\n",
        "predicted_categories_gru = predict_category(model_gru, tokenizer, max_len, news_list)\n",
        "print(\"Predicted Categories (GRU Model):\", predicted_categories_gru)"
      ],
      "metadata": {
        "colab": {
          "base_uri": "https://localhost:8080/"
        },
        "id": "UjYgTg5rqsQz",
        "outputId": "bfd86d27-231e-492e-ffe7-99f537ec4fff"
      },
      "execution_count": 17,
      "outputs": [
        {
          "output_type": "stream",
          "name": "stdout",
          "text": [
            "1/1 [==============================] - 1s 628ms/step\n",
            "Predicted Categories (GRU Model): [[6.17579892e-02 5.17535070e-03 1.80007312e-02 9.14132476e-01\n",
            "  9.33516130e-04]\n",
            " [4.92977015e-05 9.97915506e-01 7.73256412e-04 1.16393011e-07\n",
            "  1.26192311e-03]\n",
            " [9.99555528e-01 2.26650241e-06 1.27739286e-08 1.55162415e-04\n",
            "  2.86994647e-04]\n",
            " [2.37934734e-03 3.80683783e-03 3.39531312e-07 4.08880716e-08\n",
            "  9.93813455e-01]\n",
            " [3.06768040e-03 3.09057921e-01 1.00744197e-04 6.74200692e-07\n",
            "  6.87772989e-01]\n",
            " [2.00462155e-02 2.37779453e-01 7.09678888e-01 1.67383216e-02\n",
            "  1.57570578e-02]\n",
            " [9.57904034e-04 9.25757527e-01 3.31662316e-03 7.45436353e-07\n",
            "  6.99671954e-02]\n",
            " [7.30660046e-04 1.04144774e-01 1.24064682e-05 6.23153724e-08\n",
            "  8.95112038e-01]\n",
            " [2.58322917e-02 1.76430936e-03 6.32388936e-03 9.65766609e-01\n",
            "  3.12929857e-04]\n",
            " [5.09038614e-03 9.77252028e-04 1.09619052e-07 5.39889946e-08\n",
            "  9.93932188e-01]\n",
            " [9.75641668e-01 1.48947784e-05 1.21816640e-06 2.42052563e-02\n",
            "  1.37006020e-04]] \n",
            " ['sport', 'entertaintment', 'business', 'tech', 'tech', 'politics', 'entertaintment', 'tech', 'sport', 'tech', 'business']\n"
          ]
        }
      ]
    },
    {
      "cell_type": "markdown",
      "source": [
        "**Make an API for news prediction.**"
      ],
      "metadata": {
        "id": "3irmwG8jKjiU"
      }
    },
    {
      "cell_type": "code",
      "source": [
        "!pip install fastapi uvicorn pyngrok"
      ],
      "metadata": {
        "id": "M3hLd0umv_xm",
        "colab": {
          "base_uri": "https://localhost:8080/"
        },
        "outputId": "5e6d4826-dc54-4415-f62b-ab61df70b408"
      },
      "execution_count": 21,
      "outputs": [
        {
          "output_type": "stream",
          "name": "stdout",
          "text": [
            "Collecting fastapi\n",
            "  Downloading fastapi-0.111.0-py3-none-any.whl (91 kB)\n",
            "\u001b[2K     \u001b[90m━━━━━━━━━━━━━━━━━━━━━━━━━━━━━━━━━━━━━━━━\u001b[0m \u001b[32m92.0/92.0 kB\u001b[0m \u001b[31m1.9 MB/s\u001b[0m eta \u001b[36m0:00:00\u001b[0m\n",
            "\u001b[?25hCollecting uvicorn\n",
            "  Downloading uvicorn-0.29.0-py3-none-any.whl (60 kB)\n",
            "\u001b[2K     \u001b[90m━━━━━━━━━━━━━━━━━━━━━━━━━━━━━━━━━━━━━━━━\u001b[0m \u001b[32m60.8/60.8 kB\u001b[0m \u001b[31m3.3 MB/s\u001b[0m eta \u001b[36m0:00:00\u001b[0m\n",
            "\u001b[?25hCollecting pyngrok\n",
            "  Downloading pyngrok-7.1.6-py3-none-any.whl (22 kB)\n",
            "Collecting starlette<0.38.0,>=0.37.2 (from fastapi)\n",
            "  Downloading starlette-0.37.2-py3-none-any.whl (71 kB)\n",
            "\u001b[2K     \u001b[90m━━━━━━━━━━━━━━━━━━━━━━━━━━━━━━━━━━━━━━━━\u001b[0m \u001b[32m71.9/71.9 kB\u001b[0m \u001b[31m4.8 MB/s\u001b[0m eta \u001b[36m0:00:00\u001b[0m\n",
            "\u001b[?25hRequirement already satisfied: pydantic!=1.8,!=1.8.1,!=2.0.0,!=2.0.1,!=2.1.0,<3.0.0,>=1.7.4 in /usr/local/lib/python3.10/dist-packages (from fastapi) (2.7.1)\n",
            "Requirement already satisfied: typing-extensions>=4.8.0 in /usr/local/lib/python3.10/dist-packages (from fastapi) (4.11.0)\n",
            "Collecting fastapi-cli>=0.0.2 (from fastapi)\n",
            "  Downloading fastapi_cli-0.0.2-py3-none-any.whl (9.1 kB)\n",
            "Collecting httpx>=0.23.0 (from fastapi)\n",
            "  Downloading httpx-0.27.0-py3-none-any.whl (75 kB)\n",
            "\u001b[2K     \u001b[90m━━━━━━━━━━━━━━━━━━━━━━━━━━━━━━━━━━━━━━━━\u001b[0m \u001b[32m75.6/75.6 kB\u001b[0m \u001b[31m9.6 MB/s\u001b[0m eta \u001b[36m0:00:00\u001b[0m\n",
            "\u001b[?25hRequirement already satisfied: jinja2>=2.11.2 in /usr/local/lib/python3.10/dist-packages (from fastapi) (3.1.3)\n",
            "Collecting python-multipart>=0.0.7 (from fastapi)\n",
            "  Downloading python_multipart-0.0.9-py3-none-any.whl (22 kB)\n",
            "Collecting ujson!=4.0.2,!=4.1.0,!=4.2.0,!=4.3.0,!=5.0.0,!=5.1.0,>=4.0.1 (from fastapi)\n",
            "  Downloading ujson-5.9.0-cp310-cp310-manylinux_2_17_x86_64.manylinux2014_x86_64.whl (53 kB)\n",
            "\u001b[2K     \u001b[90m━━━━━━━━━━━━━━━━━━━━━━━━━━━━━━━━━━━━━━━━\u001b[0m \u001b[32m53.2/53.2 kB\u001b[0m \u001b[31m7.6 MB/s\u001b[0m eta \u001b[36m0:00:00\u001b[0m\n",
            "\u001b[?25hCollecting orjson>=3.2.1 (from fastapi)\n",
            "  Downloading orjson-3.10.3-cp310-cp310-manylinux_2_17_x86_64.manylinux2014_x86_64.whl (142 kB)\n",
            "\u001b[2K     \u001b[90m━━━━━━━━━━━━━━━━━━━━━━━━━━━━━━━━━━━━━━━━\u001b[0m \u001b[32m142.5/142.5 kB\u001b[0m \u001b[31m11.0 MB/s\u001b[0m eta \u001b[36m0:00:00\u001b[0m\n",
            "\u001b[?25hCollecting email_validator>=2.0.0 (from fastapi)\n",
            "  Downloading email_validator-2.1.1-py3-none-any.whl (30 kB)\n",
            "Requirement already satisfied: click>=7.0 in /usr/local/lib/python3.10/dist-packages (from uvicorn) (8.1.7)\n",
            "Collecting h11>=0.8 (from uvicorn)\n",
            "  Downloading h11-0.14.0-py3-none-any.whl (58 kB)\n",
            "\u001b[2K     \u001b[90m━━━━━━━━━━━━━━━━━━━━━━━━━━━━━━━━━━━━━━━━\u001b[0m \u001b[32m58.3/58.3 kB\u001b[0m \u001b[31m8.8 MB/s\u001b[0m eta \u001b[36m0:00:00\u001b[0m\n",
            "\u001b[?25hRequirement already satisfied: PyYAML>=5.1 in /usr/local/lib/python3.10/dist-packages (from pyngrok) (6.0.1)\n",
            "Collecting dnspython>=2.0.0 (from email_validator>=2.0.0->fastapi)\n",
            "  Downloading dnspython-2.6.1-py3-none-any.whl (307 kB)\n",
            "\u001b[2K     \u001b[90m━━━━━━━━━━━━━━━━━━━━━━━━━━━━━━━━━━━━━━━━\u001b[0m \u001b[32m307.7/307.7 kB\u001b[0m \u001b[31m10.1 MB/s\u001b[0m eta \u001b[36m0:00:00\u001b[0m\n",
            "\u001b[?25hRequirement already satisfied: idna>=2.0.0 in /usr/local/lib/python3.10/dist-packages (from email_validator>=2.0.0->fastapi) (3.7)\n",
            "Collecting typer>=0.12.3 (from fastapi-cli>=0.0.2->fastapi)\n",
            "  Downloading typer-0.12.3-py3-none-any.whl (47 kB)\n",
            "\u001b[2K     \u001b[90m━━━━━━━━━━━━━━━━━━━━━━━━━━━━━━━━━━━━━━━━\u001b[0m \u001b[32m47.2/47.2 kB\u001b[0m \u001b[31m5.1 MB/s\u001b[0m eta \u001b[36m0:00:00\u001b[0m\n",
            "\u001b[?25hRequirement already satisfied: anyio in /usr/local/lib/python3.10/dist-packages (from httpx>=0.23.0->fastapi) (3.7.1)\n",
            "Requirement already satisfied: certifi in /usr/local/lib/python3.10/dist-packages (from httpx>=0.23.0->fastapi) (2024.2.2)\n",
            "Collecting httpcore==1.* (from httpx>=0.23.0->fastapi)\n",
            "  Downloading httpcore-1.0.5-py3-none-any.whl (77 kB)\n",
            "\u001b[2K     \u001b[90m━━━━━━━━━━━━━━━━━━━━━━━━━━━━━━━━━━━━━━━━\u001b[0m \u001b[32m77.9/77.9 kB\u001b[0m \u001b[31m11.7 MB/s\u001b[0m eta \u001b[36m0:00:00\u001b[0m\n",
            "\u001b[?25hRequirement already satisfied: sniffio in /usr/local/lib/python3.10/dist-packages (from httpx>=0.23.0->fastapi) (1.3.1)\n",
            "Requirement already satisfied: MarkupSafe>=2.0 in /usr/local/lib/python3.10/dist-packages (from jinja2>=2.11.2->fastapi) (2.1.5)\n",
            "Requirement already satisfied: annotated-types>=0.4.0 in /usr/local/lib/python3.10/dist-packages (from pydantic!=1.8,!=1.8.1,!=2.0.0,!=2.0.1,!=2.1.0,<3.0.0,>=1.7.4->fastapi) (0.6.0)\n",
            "Requirement already satisfied: pydantic-core==2.18.2 in /usr/local/lib/python3.10/dist-packages (from pydantic!=1.8,!=1.8.1,!=2.0.0,!=2.0.1,!=2.1.0,<3.0.0,>=1.7.4->fastapi) (2.18.2)\n",
            "Collecting httptools>=0.5.0 (from uvicorn)\n",
            "  Downloading httptools-0.6.1-cp310-cp310-manylinux_2_5_x86_64.manylinux1_x86_64.manylinux_2_17_x86_64.manylinux2014_x86_64.whl (341 kB)\n",
            "\u001b[2K     \u001b[90m━━━━━━━━━━━━━━━━━━━━━━━━━━━━━━━━━━━━━━━━\u001b[0m \u001b[32m341.4/341.4 kB\u001b[0m \u001b[31m12.6 MB/s\u001b[0m eta \u001b[36m0:00:00\u001b[0m\n",
            "\u001b[?25hCollecting python-dotenv>=0.13 (from uvicorn)\n",
            "  Downloading python_dotenv-1.0.1-py3-none-any.whl (19 kB)\n",
            "Collecting uvloop!=0.15.0,!=0.15.1,>=0.14.0 (from uvicorn)\n",
            "  Downloading uvloop-0.19.0-cp310-cp310-manylinux_2_17_x86_64.manylinux2014_x86_64.whl (3.4 MB)\n",
            "\u001b[2K     \u001b[90m━━━━━━━━━━━━━━━━━━━━━━━━━━━━━━━━━━━━━━━━\u001b[0m \u001b[32m3.4/3.4 MB\u001b[0m \u001b[31m21.4 MB/s\u001b[0m eta \u001b[36m0:00:00\u001b[0m\n",
            "\u001b[?25hCollecting watchfiles>=0.13 (from uvicorn)\n",
            "  Downloading watchfiles-0.21.0-cp310-cp310-manylinux_2_17_x86_64.manylinux2014_x86_64.whl (1.3 MB)\n",
            "\u001b[2K     \u001b[90m━━━━━━━━━━━━━━━━━━━━━━━━━━━━━━━━━━━━━━━━\u001b[0m \u001b[32m1.3/1.3 MB\u001b[0m \u001b[31m33.4 MB/s\u001b[0m eta \u001b[36m0:00:00\u001b[0m\n",
            "\u001b[?25hCollecting websockets>=10.4 (from uvicorn)\n",
            "  Downloading websockets-12.0-cp310-cp310-manylinux_2_5_x86_64.manylinux1_x86_64.manylinux_2_17_x86_64.manylinux2014_x86_64.whl (130 kB)\n",
            "\u001b[2K     \u001b[90m━━━━━━━━━━━━━━━━━━━━━━━━━━━━━━━━━━━━━━━━\u001b[0m \u001b[32m130.2/130.2 kB\u001b[0m \u001b[31m18.2 MB/s\u001b[0m eta \u001b[36m0:00:00\u001b[0m\n",
            "\u001b[?25hRequirement already satisfied: exceptiongroup in /usr/local/lib/python3.10/dist-packages (from anyio->httpx>=0.23.0->fastapi) (1.2.1)\n",
            "Collecting shellingham>=1.3.0 (from typer>=0.12.3->fastapi-cli>=0.0.2->fastapi)\n",
            "  Downloading shellingham-1.5.4-py2.py3-none-any.whl (9.8 kB)\n",
            "Requirement already satisfied: rich>=10.11.0 in /usr/local/lib/python3.10/dist-packages (from typer>=0.12.3->fastapi-cli>=0.0.2->fastapi) (13.7.1)\n",
            "Requirement already satisfied: markdown-it-py>=2.2.0 in /usr/local/lib/python3.10/dist-packages (from rich>=10.11.0->typer>=0.12.3->fastapi-cli>=0.0.2->fastapi) (3.0.0)\n",
            "Requirement already satisfied: pygments<3.0.0,>=2.13.0 in /usr/local/lib/python3.10/dist-packages (from rich>=10.11.0->typer>=0.12.3->fastapi-cli>=0.0.2->fastapi) (2.16.1)\n",
            "Requirement already satisfied: mdurl~=0.1 in /usr/local/lib/python3.10/dist-packages (from markdown-it-py>=2.2.0->rich>=10.11.0->typer>=0.12.3->fastapi-cli>=0.0.2->fastapi) (0.1.2)\n",
            "Installing collected packages: websockets, uvloop, ujson, shellingham, python-multipart, python-dotenv, pyngrok, orjson, httptools, h11, dnspython, watchfiles, uvicorn, starlette, httpcore, email_validator, typer, httpx, fastapi-cli, fastapi\n",
            "  Attempting uninstall: typer\n",
            "    Found existing installation: typer 0.9.4\n",
            "    Uninstalling typer-0.9.4:\n",
            "      Successfully uninstalled typer-0.9.4\n",
            "\u001b[31mERROR: pip's dependency resolver does not currently take into account all the packages that are installed. This behaviour is the source of the following dependency conflicts.\n",
            "spacy 3.7.4 requires typer<0.10.0,>=0.3.0, but you have typer 0.12.3 which is incompatible.\n",
            "weasel 0.3.4 requires typer<0.10.0,>=0.3.0, but you have typer 0.12.3 which is incompatible.\u001b[0m\u001b[31m\n",
            "\u001b[0mSuccessfully installed dnspython-2.6.1 email_validator-2.1.1 fastapi-0.111.0 fastapi-cli-0.0.2 h11-0.14.0 httpcore-1.0.5 httptools-0.6.1 httpx-0.27.0 orjson-3.10.3 pyngrok-7.1.6 python-dotenv-1.0.1 python-multipart-0.0.9 shellingham-1.5.4 starlette-0.37.2 typer-0.12.3 ujson-5.9.0 uvicorn-0.29.0 uvloop-0.19.0 watchfiles-0.21.0 websockets-12.0\n"
          ]
        }
      ]
    },
    {
      "cell_type": "code",
      "source": [
        "from fastapi import FastAPI, Body\n",
        "import uvicorn\n",
        "from pyngrok import ngrok\n",
        "from typing import List"
      ],
      "metadata": {
        "id": "xy2F0QltpGAB"
      },
      "execution_count": 22,
      "outputs": []
    },
    {
      "cell_type": "code",
      "source": [
        "app = FastAPI()\n",
        "\n",
        "\n",
        "@app.get('/')\n",
        "def hello():\n",
        "    return {'message': 'Hello, Welcome to News Classifier.'}\n",
        "\n",
        "# news prediction function\n",
        "@app.post('/predict/')\n",
        "def predict_news(news_list: List[str]):\n",
        "    pred_rnn = predict_category(model_simple_rnn, tokenizer, max_len, news_list)\n",
        "    pred_lstm = predict_category(model_lstm, tokenizer, max_len, news_list)\n",
        "    pred_gru = predict_category(model_gru, tokenizer, max_len, news_list)\n",
        "\n",
        "    return {\n",
        "        \"RNN Prediction: \": pred_rnn,\n",
        "        \"LSTM Prediction: \": pred_lstm,\n",
        "        \"GRU Prediction: \": pred_gru\n",
        "    }\n"
      ],
      "metadata": {
        "id": "grnoqWHKx9eR"
      },
      "execution_count": 26,
      "outputs": []
    },
    {
      "cell_type": "code",
      "source": [
        "# Authenticate ngrok with your token\n",
        "ngrok.set_auth_token(\"2fwQcKQqJFepl8UkcpqyK0lsDl2_6BzJGMbjHNAW79PyfK3VP\")"
      ],
      "metadata": {
        "id": "kim8ceuf0KAk"
      },
      "execution_count": 27,
      "outputs": []
    },
    {
      "cell_type": "code",
      "source": [
        "# Run FastAPI app using Uvicorn with Ngrok\n",
        "import nest_asyncio\n",
        "import uvicorn\n",
        "\n",
        "# Run FastAPI app\n",
        "def run_app():\n",
        "    nest_asyncio.apply()\n",
        "    uvicorn.run(app, host=\"0.0.0.0\", port=8000)\n",
        "\n",
        "# Start Ngrok tunnel\n",
        "def start_ngrok():\n",
        "    ngrok_tunnel = ngrok.connect(8000)\n",
        "    print(\"Public URL:\", ngrok_tunnel.public_url)\n",
        "    return ngrok_tunnel\n",
        "\n",
        "if __name__ == \"__main__\":\n",
        "    tunnel = start_ngrok()\n",
        "    run_app()"
      ],
      "metadata": {
        "colab": {
          "base_uri": "https://localhost:8080/",
          "height": 758
        },
        "id": "pShedL-90RPK",
        "outputId": "908a43b0-66be-499f-9612-fa738854ba89"
      },
      "execution_count": 28,
      "outputs": [
        {
          "output_type": "stream",
          "name": "stdout",
          "text": [
            "Public URL: https://c17a-34-16-206-135.ngrok-free.app\n"
          ]
        },
        {
          "output_type": "stream",
          "name": "stderr",
          "text": [
            "INFO:     Started server process [288]\n",
            "INFO:     Waiting for application startup.\n",
            "INFO:     Application startup complete.\n",
            "INFO:     Uvicorn running on http://0.0.0.0:8000 (Press CTRL+C to quit)\n"
          ]
        },
        {
          "output_type": "stream",
          "name": "stdout",
          "text": [
            "INFO:     103.10.28.213:0 - \"GET / HTTP/1.1\" 200 OK\n",
            "INFO:     103.10.28.213:0 - \"GET /docs HTTP/1.1\" 200 OK\n",
            "INFO:     103.10.28.213:0 - \"GET /openapi.json HTTP/1.1\" 200 OK\n",
            "1/1 [==============================] - 0s 33ms/step\n",
            "1/1 [==============================] - 0s 47ms/step\n",
            "1/1 [==============================] - 0s 43ms/step\n",
            "INFO:     103.10.28.213:0 - \"POST /predict/ HTTP/1.1\" 200 OK\n",
            "1/1 [==============================] - 0s 37ms/step\n",
            "1/1 [==============================] - 0s 47ms/step\n",
            "1/1 [==============================] - 0s 45ms/step\n",
            "INFO:     103.10.28.213:0 - \"POST /predict/ HTTP/1.1\" 200 OK\n",
            "1/1 [==============================] - 0s 63ms/step\n",
            "1/1 [==============================] - 0s 50ms/step\n",
            "1/1 [==============================] - 0s 47ms/step\n",
            "INFO:     103.10.28.213:0 - \"POST /predict/ HTTP/1.1\" 200 OK\n"
          ]
        },
        {
          "output_type": "stream",
          "name": "stderr",
          "text": [
            "INFO:     Shutting down\n",
            "INFO:     Waiting for application shutdown.\n",
            "INFO:     Application shutdown complete.\n",
            "INFO:     Finished server process [288]\n"
          ]
        },
        {
          "output_type": "error",
          "ename": "KeyboardInterrupt",
          "evalue": "",
          "traceback": [
            "\u001b[0;31m---------------------------------------------------------------------------\u001b[0m",
            "\u001b[0;31mKeyboardInterrupt\u001b[0m                         Traceback (most recent call last)",
            "\u001b[0;32m<ipython-input-28-c6710c8d560b>\u001b[0m in \u001b[0;36m<cell line: 16>\u001b[0;34m()\u001b[0m\n\u001b[1;32m     16\u001b[0m \u001b[0;32mif\u001b[0m \u001b[0m__name__\u001b[0m \u001b[0;34m==\u001b[0m \u001b[0;34m\"__main__\"\u001b[0m\u001b[0;34m:\u001b[0m\u001b[0;34m\u001b[0m\u001b[0;34m\u001b[0m\u001b[0m\n\u001b[1;32m     17\u001b[0m     \u001b[0mtunnel\u001b[0m \u001b[0;34m=\u001b[0m \u001b[0mstart_ngrok\u001b[0m\u001b[0;34m(\u001b[0m\u001b[0;34m)\u001b[0m\u001b[0;34m\u001b[0m\u001b[0;34m\u001b[0m\u001b[0m\n\u001b[0;32m---> 18\u001b[0;31m     \u001b[0mrun_app\u001b[0m\u001b[0;34m(\u001b[0m\u001b[0;34m)\u001b[0m\u001b[0;34m\u001b[0m\u001b[0;34m\u001b[0m\u001b[0m\n\u001b[0m",
            "\u001b[0;32m<ipython-input-28-c6710c8d560b>\u001b[0m in \u001b[0;36mrun_app\u001b[0;34m()\u001b[0m\n\u001b[1;32m      6\u001b[0m \u001b[0;32mdef\u001b[0m \u001b[0mrun_app\u001b[0m\u001b[0;34m(\u001b[0m\u001b[0;34m)\u001b[0m\u001b[0;34m:\u001b[0m\u001b[0;34m\u001b[0m\u001b[0;34m\u001b[0m\u001b[0m\n\u001b[1;32m      7\u001b[0m     \u001b[0mnest_asyncio\u001b[0m\u001b[0;34m.\u001b[0m\u001b[0mapply\u001b[0m\u001b[0;34m(\u001b[0m\u001b[0;34m)\u001b[0m\u001b[0;34m\u001b[0m\u001b[0;34m\u001b[0m\u001b[0m\n\u001b[0;32m----> 8\u001b[0;31m     \u001b[0muvicorn\u001b[0m\u001b[0;34m.\u001b[0m\u001b[0mrun\u001b[0m\u001b[0;34m(\u001b[0m\u001b[0mapp\u001b[0m\u001b[0;34m,\u001b[0m \u001b[0mhost\u001b[0m\u001b[0;34m=\u001b[0m\u001b[0;34m\"0.0.0.0\"\u001b[0m\u001b[0;34m,\u001b[0m \u001b[0mport\u001b[0m\u001b[0;34m=\u001b[0m\u001b[0;36m8000\u001b[0m\u001b[0;34m)\u001b[0m\u001b[0;34m\u001b[0m\u001b[0;34m\u001b[0m\u001b[0m\n\u001b[0m\u001b[1;32m      9\u001b[0m \u001b[0;34m\u001b[0m\u001b[0m\n\u001b[1;32m     10\u001b[0m \u001b[0;31m# Start Ngrok tunnel\u001b[0m\u001b[0;34m\u001b[0m\u001b[0;34m\u001b[0m\u001b[0m\n",
            "\u001b[0;32m/usr/local/lib/python3.10/dist-packages/uvicorn/main.py\u001b[0m in \u001b[0;36mrun\u001b[0;34m(app, host, port, uds, fd, loop, http, ws, ws_max_size, ws_max_queue, ws_ping_interval, ws_ping_timeout, ws_per_message_deflate, lifespan, interface, reload, reload_dirs, reload_includes, reload_excludes, reload_delay, workers, env_file, log_config, log_level, access_log, proxy_headers, server_header, date_header, forwarded_allow_ips, root_path, limit_concurrency, backlog, limit_max_requests, timeout_keep_alive, timeout_graceful_shutdown, ssl_keyfile, ssl_certfile, ssl_keyfile_password, ssl_version, ssl_cert_reqs, ssl_ca_certs, ssl_ciphers, headers, use_colors, app_dir, factory, h11_max_incomplete_event_size)\u001b[0m\n\u001b[1;32m    573\u001b[0m         \u001b[0mMultiprocess\u001b[0m\u001b[0;34m(\u001b[0m\u001b[0mconfig\u001b[0m\u001b[0;34m,\u001b[0m \u001b[0mtarget\u001b[0m\u001b[0;34m=\u001b[0m\u001b[0mserver\u001b[0m\u001b[0;34m.\u001b[0m\u001b[0mrun\u001b[0m\u001b[0;34m,\u001b[0m \u001b[0msockets\u001b[0m\u001b[0;34m=\u001b[0m\u001b[0;34m[\u001b[0m\u001b[0msock\u001b[0m\u001b[0;34m]\u001b[0m\u001b[0;34m)\u001b[0m\u001b[0;34m.\u001b[0m\u001b[0mrun\u001b[0m\u001b[0;34m(\u001b[0m\u001b[0;34m)\u001b[0m\u001b[0;34m\u001b[0m\u001b[0;34m\u001b[0m\u001b[0m\n\u001b[1;32m    574\u001b[0m     \u001b[0;32melse\u001b[0m\u001b[0;34m:\u001b[0m\u001b[0;34m\u001b[0m\u001b[0;34m\u001b[0m\u001b[0m\n\u001b[0;32m--> 575\u001b[0;31m         \u001b[0mserver\u001b[0m\u001b[0;34m.\u001b[0m\u001b[0mrun\u001b[0m\u001b[0;34m(\u001b[0m\u001b[0;34m)\u001b[0m\u001b[0;34m\u001b[0m\u001b[0;34m\u001b[0m\u001b[0m\n\u001b[0m\u001b[1;32m    576\u001b[0m     \u001b[0;32mif\u001b[0m \u001b[0mconfig\u001b[0m\u001b[0;34m.\u001b[0m\u001b[0muds\u001b[0m \u001b[0;32mand\u001b[0m \u001b[0mos\u001b[0m\u001b[0;34m.\u001b[0m\u001b[0mpath\u001b[0m\u001b[0;34m.\u001b[0m\u001b[0mexists\u001b[0m\u001b[0;34m(\u001b[0m\u001b[0mconfig\u001b[0m\u001b[0;34m.\u001b[0m\u001b[0muds\u001b[0m\u001b[0;34m)\u001b[0m\u001b[0;34m:\u001b[0m\u001b[0;34m\u001b[0m\u001b[0;34m\u001b[0m\u001b[0m\n\u001b[1;32m    577\u001b[0m         \u001b[0mos\u001b[0m\u001b[0;34m.\u001b[0m\u001b[0mremove\u001b[0m\u001b[0;34m(\u001b[0m\u001b[0mconfig\u001b[0m\u001b[0;34m.\u001b[0m\u001b[0muds\u001b[0m\u001b[0;34m)\u001b[0m  \u001b[0;31m# pragma: py-win32\u001b[0m\u001b[0;34m\u001b[0m\u001b[0;34m\u001b[0m\u001b[0m\n",
            "\u001b[0;32m/usr/local/lib/python3.10/dist-packages/uvicorn/server.py\u001b[0m in \u001b[0;36mrun\u001b[0;34m(self, sockets)\u001b[0m\n\u001b[1;32m     63\u001b[0m     \u001b[0;32mdef\u001b[0m \u001b[0mrun\u001b[0m\u001b[0;34m(\u001b[0m\u001b[0mself\u001b[0m\u001b[0;34m,\u001b[0m \u001b[0msockets\u001b[0m\u001b[0;34m:\u001b[0m \u001b[0mlist\u001b[0m\u001b[0;34m[\u001b[0m\u001b[0msocket\u001b[0m\u001b[0;34m.\u001b[0m\u001b[0msocket\u001b[0m\u001b[0;34m]\u001b[0m \u001b[0;34m|\u001b[0m \u001b[0;32mNone\u001b[0m \u001b[0;34m=\u001b[0m \u001b[0;32mNone\u001b[0m\u001b[0;34m)\u001b[0m \u001b[0;34m->\u001b[0m \u001b[0;32mNone\u001b[0m\u001b[0;34m:\u001b[0m\u001b[0;34m\u001b[0m\u001b[0;34m\u001b[0m\u001b[0m\n\u001b[1;32m     64\u001b[0m         \u001b[0mself\u001b[0m\u001b[0;34m.\u001b[0m\u001b[0mconfig\u001b[0m\u001b[0;34m.\u001b[0m\u001b[0msetup_event_loop\u001b[0m\u001b[0;34m(\u001b[0m\u001b[0;34m)\u001b[0m\u001b[0;34m\u001b[0m\u001b[0;34m\u001b[0m\u001b[0m\n\u001b[0;32m---> 65\u001b[0;31m         \u001b[0;32mreturn\u001b[0m \u001b[0masyncio\u001b[0m\u001b[0;34m.\u001b[0m\u001b[0mrun\u001b[0m\u001b[0;34m(\u001b[0m\u001b[0mself\u001b[0m\u001b[0;34m.\u001b[0m\u001b[0mserve\u001b[0m\u001b[0;34m(\u001b[0m\u001b[0msockets\u001b[0m\u001b[0;34m=\u001b[0m\u001b[0msockets\u001b[0m\u001b[0;34m)\u001b[0m\u001b[0;34m)\u001b[0m\u001b[0;34m\u001b[0m\u001b[0;34m\u001b[0m\u001b[0m\n\u001b[0m\u001b[1;32m     66\u001b[0m \u001b[0;34m\u001b[0m\u001b[0m\n\u001b[1;32m     67\u001b[0m     \u001b[0;32masync\u001b[0m \u001b[0;32mdef\u001b[0m \u001b[0mserve\u001b[0m\u001b[0;34m(\u001b[0m\u001b[0mself\u001b[0m\u001b[0;34m,\u001b[0m \u001b[0msockets\u001b[0m\u001b[0;34m:\u001b[0m \u001b[0mlist\u001b[0m\u001b[0;34m[\u001b[0m\u001b[0msocket\u001b[0m\u001b[0;34m.\u001b[0m\u001b[0msocket\u001b[0m\u001b[0;34m]\u001b[0m \u001b[0;34m|\u001b[0m \u001b[0;32mNone\u001b[0m \u001b[0;34m=\u001b[0m \u001b[0;32mNone\u001b[0m\u001b[0;34m)\u001b[0m \u001b[0;34m->\u001b[0m \u001b[0;32mNone\u001b[0m\u001b[0;34m:\u001b[0m\u001b[0;34m\u001b[0m\u001b[0;34m\u001b[0m\u001b[0m\n",
            "\u001b[0;32m/usr/local/lib/python3.10/dist-packages/nest_asyncio.py\u001b[0m in \u001b[0;36mrun\u001b[0;34m(main, debug)\u001b[0m\n\u001b[1;32m     28\u001b[0m         \u001b[0mtask\u001b[0m \u001b[0;34m=\u001b[0m \u001b[0masyncio\u001b[0m\u001b[0;34m.\u001b[0m\u001b[0mensure_future\u001b[0m\u001b[0;34m(\u001b[0m\u001b[0mmain\u001b[0m\u001b[0;34m)\u001b[0m\u001b[0;34m\u001b[0m\u001b[0;34m\u001b[0m\u001b[0m\n\u001b[1;32m     29\u001b[0m         \u001b[0;32mtry\u001b[0m\u001b[0;34m:\u001b[0m\u001b[0;34m\u001b[0m\u001b[0;34m\u001b[0m\u001b[0m\n\u001b[0;32m---> 30\u001b[0;31m             \u001b[0;32mreturn\u001b[0m \u001b[0mloop\u001b[0m\u001b[0;34m.\u001b[0m\u001b[0mrun_until_complete\u001b[0m\u001b[0;34m(\u001b[0m\u001b[0mtask\u001b[0m\u001b[0;34m)\u001b[0m\u001b[0;34m\u001b[0m\u001b[0;34m\u001b[0m\u001b[0m\n\u001b[0m\u001b[1;32m     31\u001b[0m         \u001b[0;32mfinally\u001b[0m\u001b[0;34m:\u001b[0m\u001b[0;34m\u001b[0m\u001b[0;34m\u001b[0m\u001b[0m\n\u001b[1;32m     32\u001b[0m             \u001b[0;32mif\u001b[0m \u001b[0;32mnot\u001b[0m \u001b[0mtask\u001b[0m\u001b[0;34m.\u001b[0m\u001b[0mdone\u001b[0m\u001b[0;34m(\u001b[0m\u001b[0;34m)\u001b[0m\u001b[0;34m:\u001b[0m\u001b[0;34m\u001b[0m\u001b[0;34m\u001b[0m\u001b[0m\n",
            "\u001b[0;32m/usr/local/lib/python3.10/dist-packages/nest_asyncio.py\u001b[0m in \u001b[0;36mrun_until_complete\u001b[0;34m(self, future)\u001b[0m\n\u001b[1;32m     90\u001b[0m                 \u001b[0mf\u001b[0m\u001b[0;34m.\u001b[0m\u001b[0m_log_destroy_pending\u001b[0m \u001b[0;34m=\u001b[0m \u001b[0;32mFalse\u001b[0m\u001b[0;34m\u001b[0m\u001b[0;34m\u001b[0m\u001b[0m\n\u001b[1;32m     91\u001b[0m             \u001b[0;32mwhile\u001b[0m \u001b[0;32mnot\u001b[0m \u001b[0mf\u001b[0m\u001b[0;34m.\u001b[0m\u001b[0mdone\u001b[0m\u001b[0;34m(\u001b[0m\u001b[0;34m)\u001b[0m\u001b[0;34m:\u001b[0m\u001b[0;34m\u001b[0m\u001b[0;34m\u001b[0m\u001b[0m\n\u001b[0;32m---> 92\u001b[0;31m                 \u001b[0mself\u001b[0m\u001b[0;34m.\u001b[0m\u001b[0m_run_once\u001b[0m\u001b[0;34m(\u001b[0m\u001b[0;34m)\u001b[0m\u001b[0;34m\u001b[0m\u001b[0;34m\u001b[0m\u001b[0m\n\u001b[0m\u001b[1;32m     93\u001b[0m                 \u001b[0;32mif\u001b[0m \u001b[0mself\u001b[0m\u001b[0;34m.\u001b[0m\u001b[0m_stopping\u001b[0m\u001b[0;34m:\u001b[0m\u001b[0;34m\u001b[0m\u001b[0;34m\u001b[0m\u001b[0m\n\u001b[1;32m     94\u001b[0m                     \u001b[0;32mbreak\u001b[0m\u001b[0;34m\u001b[0m\u001b[0;34m\u001b[0m\u001b[0m\n",
            "\u001b[0;32m/usr/local/lib/python3.10/dist-packages/nest_asyncio.py\u001b[0m in \u001b[0;36m_run_once\u001b[0;34m(self)\u001b[0m\n\u001b[1;32m    131\u001b[0m \u001b[0;34m\u001b[0m\u001b[0m\n\u001b[1;32m    132\u001b[0m                 \u001b[0;32mtry\u001b[0m\u001b[0;34m:\u001b[0m\u001b[0;34m\u001b[0m\u001b[0;34m\u001b[0m\u001b[0m\n\u001b[0;32m--> 133\u001b[0;31m                     \u001b[0mhandle\u001b[0m\u001b[0;34m.\u001b[0m\u001b[0m_run\u001b[0m\u001b[0;34m(\u001b[0m\u001b[0;34m)\u001b[0m\u001b[0;34m\u001b[0m\u001b[0;34m\u001b[0m\u001b[0m\n\u001b[0m\u001b[1;32m    134\u001b[0m                 \u001b[0;32mfinally\u001b[0m\u001b[0;34m:\u001b[0m\u001b[0;34m\u001b[0m\u001b[0;34m\u001b[0m\u001b[0m\n\u001b[1;32m    135\u001b[0m                     \u001b[0;31m# restore the current task\u001b[0m\u001b[0;34m\u001b[0m\u001b[0;34m\u001b[0m\u001b[0m\n",
            "\u001b[0;32m/usr/lib/python3.10/asyncio/events.py\u001b[0m in \u001b[0;36m_run\u001b[0;34m(self)\u001b[0m\n\u001b[1;32m     78\u001b[0m     \u001b[0;32mdef\u001b[0m \u001b[0m_run\u001b[0m\u001b[0;34m(\u001b[0m\u001b[0mself\u001b[0m\u001b[0;34m)\u001b[0m\u001b[0;34m:\u001b[0m\u001b[0;34m\u001b[0m\u001b[0;34m\u001b[0m\u001b[0m\n\u001b[1;32m     79\u001b[0m         \u001b[0;32mtry\u001b[0m\u001b[0;34m:\u001b[0m\u001b[0;34m\u001b[0m\u001b[0;34m\u001b[0m\u001b[0m\n\u001b[0;32m---> 80\u001b[0;31m             \u001b[0mself\u001b[0m\u001b[0;34m.\u001b[0m\u001b[0m_context\u001b[0m\u001b[0;34m.\u001b[0m\u001b[0mrun\u001b[0m\u001b[0;34m(\u001b[0m\u001b[0mself\u001b[0m\u001b[0;34m.\u001b[0m\u001b[0m_callback\u001b[0m\u001b[0;34m,\u001b[0m \u001b[0;34m*\u001b[0m\u001b[0mself\u001b[0m\u001b[0;34m.\u001b[0m\u001b[0m_args\u001b[0m\u001b[0;34m)\u001b[0m\u001b[0;34m\u001b[0m\u001b[0;34m\u001b[0m\u001b[0m\n\u001b[0m\u001b[1;32m     81\u001b[0m         \u001b[0;32mexcept\u001b[0m \u001b[0;34m(\u001b[0m\u001b[0mSystemExit\u001b[0m\u001b[0;34m,\u001b[0m \u001b[0mKeyboardInterrupt\u001b[0m\u001b[0;34m)\u001b[0m\u001b[0;34m:\u001b[0m\u001b[0;34m\u001b[0m\u001b[0;34m\u001b[0m\u001b[0m\n\u001b[1;32m     82\u001b[0m             \u001b[0;32mraise\u001b[0m\u001b[0;34m\u001b[0m\u001b[0;34m\u001b[0m\u001b[0m\n",
            "\u001b[0;32m/usr/lib/python3.10/asyncio/tasks.py\u001b[0m in \u001b[0;36m__wakeup\u001b[0;34m(self, future)\u001b[0m\n\u001b[1;32m    313\u001b[0m             \u001b[0;31m# instead of `__next__()`, which is slower for futures\u001b[0m\u001b[0;34m\u001b[0m\u001b[0;34m\u001b[0m\u001b[0m\n\u001b[1;32m    314\u001b[0m             \u001b[0;31m# that return non-generator iterators from their `__iter__`.\u001b[0m\u001b[0;34m\u001b[0m\u001b[0;34m\u001b[0m\u001b[0m\n\u001b[0;32m--> 315\u001b[0;31m             \u001b[0mself\u001b[0m\u001b[0;34m.\u001b[0m\u001b[0m__step\u001b[0m\u001b[0;34m(\u001b[0m\u001b[0;34m)\u001b[0m\u001b[0;34m\u001b[0m\u001b[0;34m\u001b[0m\u001b[0m\n\u001b[0m\u001b[1;32m    316\u001b[0m         \u001b[0mself\u001b[0m \u001b[0;34m=\u001b[0m \u001b[0;32mNone\u001b[0m  \u001b[0;31m# Needed to break cycles when an exception occurs.\u001b[0m\u001b[0;34m\u001b[0m\u001b[0;34m\u001b[0m\u001b[0m\n\u001b[1;32m    317\u001b[0m \u001b[0;34m\u001b[0m\u001b[0m\n",
            "\u001b[0;32m/usr/lib/python3.10/asyncio/tasks.py\u001b[0m in \u001b[0;36m__step\u001b[0;34m(***failed resolving arguments***)\u001b[0m\n\u001b[1;32m    230\u001b[0m                 \u001b[0;31m# We use the `send` method directly, because coroutines\u001b[0m\u001b[0;34m\u001b[0m\u001b[0;34m\u001b[0m\u001b[0m\n\u001b[1;32m    231\u001b[0m                 \u001b[0;31m# don't have `__iter__` and `__next__` methods.\u001b[0m\u001b[0;34m\u001b[0m\u001b[0;34m\u001b[0m\u001b[0m\n\u001b[0;32m--> 232\u001b[0;31m                 \u001b[0mresult\u001b[0m \u001b[0;34m=\u001b[0m \u001b[0mcoro\u001b[0m\u001b[0;34m.\u001b[0m\u001b[0msend\u001b[0m\u001b[0;34m(\u001b[0m\u001b[0;32mNone\u001b[0m\u001b[0;34m)\u001b[0m\u001b[0;34m\u001b[0m\u001b[0;34m\u001b[0m\u001b[0m\n\u001b[0m\u001b[1;32m    233\u001b[0m             \u001b[0;32melse\u001b[0m\u001b[0;34m:\u001b[0m\u001b[0;34m\u001b[0m\u001b[0;34m\u001b[0m\u001b[0m\n\u001b[1;32m    234\u001b[0m                 \u001b[0mresult\u001b[0m \u001b[0;34m=\u001b[0m \u001b[0mcoro\u001b[0m\u001b[0;34m.\u001b[0m\u001b[0mthrow\u001b[0m\u001b[0;34m(\u001b[0m\u001b[0mexc\u001b[0m\u001b[0;34m)\u001b[0m\u001b[0;34m\u001b[0m\u001b[0;34m\u001b[0m\u001b[0m\n",
            "\u001b[0;32m/usr/local/lib/python3.10/dist-packages/uvicorn/server.py\u001b[0m in \u001b[0;36mserve\u001b[0;34m(self, sockets)\u001b[0m\n\u001b[1;32m     66\u001b[0m \u001b[0;34m\u001b[0m\u001b[0m\n\u001b[1;32m     67\u001b[0m     \u001b[0;32masync\u001b[0m \u001b[0;32mdef\u001b[0m \u001b[0mserve\u001b[0m\u001b[0;34m(\u001b[0m\u001b[0mself\u001b[0m\u001b[0;34m,\u001b[0m \u001b[0msockets\u001b[0m\u001b[0;34m:\u001b[0m \u001b[0mlist\u001b[0m\u001b[0;34m[\u001b[0m\u001b[0msocket\u001b[0m\u001b[0;34m.\u001b[0m\u001b[0msocket\u001b[0m\u001b[0;34m]\u001b[0m \u001b[0;34m|\u001b[0m \u001b[0;32mNone\u001b[0m \u001b[0;34m=\u001b[0m \u001b[0;32mNone\u001b[0m\u001b[0;34m)\u001b[0m \u001b[0;34m->\u001b[0m \u001b[0;32mNone\u001b[0m\u001b[0;34m:\u001b[0m\u001b[0;34m\u001b[0m\u001b[0;34m\u001b[0m\u001b[0m\n\u001b[0;32m---> 68\u001b[0;31m         \u001b[0;32mwith\u001b[0m \u001b[0mself\u001b[0m\u001b[0;34m.\u001b[0m\u001b[0mcapture_signals\u001b[0m\u001b[0;34m(\u001b[0m\u001b[0;34m)\u001b[0m\u001b[0;34m:\u001b[0m\u001b[0;34m\u001b[0m\u001b[0;34m\u001b[0m\u001b[0m\n\u001b[0m\u001b[1;32m     69\u001b[0m             \u001b[0;32mawait\u001b[0m \u001b[0mself\u001b[0m\u001b[0;34m.\u001b[0m\u001b[0m_serve\u001b[0m\u001b[0;34m(\u001b[0m\u001b[0msockets\u001b[0m\u001b[0;34m)\u001b[0m\u001b[0;34m\u001b[0m\u001b[0;34m\u001b[0m\u001b[0m\n\u001b[1;32m     70\u001b[0m \u001b[0;34m\u001b[0m\u001b[0m\n",
            "\u001b[0;32m/usr/lib/python3.10/contextlib.py\u001b[0m in \u001b[0;36m__exit__\u001b[0;34m(self, typ, value, traceback)\u001b[0m\n\u001b[1;32m    140\u001b[0m         \u001b[0;32mif\u001b[0m \u001b[0mtyp\u001b[0m \u001b[0;32mis\u001b[0m \u001b[0;32mNone\u001b[0m\u001b[0;34m:\u001b[0m\u001b[0;34m\u001b[0m\u001b[0;34m\u001b[0m\u001b[0m\n\u001b[1;32m    141\u001b[0m             \u001b[0;32mtry\u001b[0m\u001b[0;34m:\u001b[0m\u001b[0;34m\u001b[0m\u001b[0;34m\u001b[0m\u001b[0m\n\u001b[0;32m--> 142\u001b[0;31m                 \u001b[0mnext\u001b[0m\u001b[0;34m(\u001b[0m\u001b[0mself\u001b[0m\u001b[0;34m.\u001b[0m\u001b[0mgen\u001b[0m\u001b[0;34m)\u001b[0m\u001b[0;34m\u001b[0m\u001b[0;34m\u001b[0m\u001b[0m\n\u001b[0m\u001b[1;32m    143\u001b[0m             \u001b[0;32mexcept\u001b[0m \u001b[0mStopIteration\u001b[0m\u001b[0;34m:\u001b[0m\u001b[0;34m\u001b[0m\u001b[0;34m\u001b[0m\u001b[0m\n\u001b[1;32m    144\u001b[0m                 \u001b[0;32mreturn\u001b[0m \u001b[0;32mFalse\u001b[0m\u001b[0;34m\u001b[0m\u001b[0;34m\u001b[0m\u001b[0m\n",
            "\u001b[0;32m/usr/local/lib/python3.10/dist-packages/uvicorn/server.py\u001b[0m in \u001b[0;36mcapture_signals\u001b[0;34m(self)\u001b[0m\n\u001b[1;32m    326\u001b[0m         \u001b[0;31m# done LIFO, see https://stackoverflow.com/questions/48434964\u001b[0m\u001b[0;34m\u001b[0m\u001b[0;34m\u001b[0m\u001b[0m\n\u001b[1;32m    327\u001b[0m         \u001b[0;32mfor\u001b[0m \u001b[0mcaptured_signal\u001b[0m \u001b[0;32min\u001b[0m \u001b[0mreversed\u001b[0m\u001b[0;34m(\u001b[0m\u001b[0mself\u001b[0m\u001b[0;34m.\u001b[0m\u001b[0m_captured_signals\u001b[0m\u001b[0;34m)\u001b[0m\u001b[0;34m:\u001b[0m\u001b[0;34m\u001b[0m\u001b[0;34m\u001b[0m\u001b[0m\n\u001b[0;32m--> 328\u001b[0;31m             \u001b[0msignal\u001b[0m\u001b[0;34m.\u001b[0m\u001b[0mraise_signal\u001b[0m\u001b[0;34m(\u001b[0m\u001b[0mcaptured_signal\u001b[0m\u001b[0;34m)\u001b[0m\u001b[0;34m\u001b[0m\u001b[0;34m\u001b[0m\u001b[0m\n\u001b[0m\u001b[1;32m    329\u001b[0m \u001b[0;34m\u001b[0m\u001b[0m\n\u001b[1;32m    330\u001b[0m     \u001b[0;32mdef\u001b[0m \u001b[0mhandle_exit\u001b[0m\u001b[0;34m(\u001b[0m\u001b[0mself\u001b[0m\u001b[0;34m,\u001b[0m \u001b[0msig\u001b[0m\u001b[0;34m:\u001b[0m \u001b[0mint\u001b[0m\u001b[0;34m,\u001b[0m \u001b[0mframe\u001b[0m\u001b[0;34m:\u001b[0m \u001b[0mFrameType\u001b[0m \u001b[0;34m|\u001b[0m \u001b[0;32mNone\u001b[0m\u001b[0;34m)\u001b[0m \u001b[0;34m->\u001b[0m \u001b[0;32mNone\u001b[0m\u001b[0;34m:\u001b[0m\u001b[0;34m\u001b[0m\u001b[0;34m\u001b[0m\u001b[0m\n",
            "\u001b[0;31mKeyboardInterrupt\u001b[0m: "
          ]
        }
      ]
    },
    {
      "cell_type": "code",
      "source": [
        "ngrok.kill()"
      ],
      "metadata": {
        "id": "Xqj7Xzzhss7N"
      },
      "execution_count": null,
      "outputs": []
    }
  ],
  "metadata": {
    "colab": {
      "provenance": []
    },
    "kernelspec": {
      "display_name": "Python 3 (ipykernel)",
      "language": "python",
      "name": "python3"
    },
    "language_info": {
      "codemirror_mode": {
        "name": "ipython",
        "version": 3
      },
      "file_extension": ".py",
      "mimetype": "text/x-python",
      "name": "python",
      "nbconvert_exporter": "python",
      "pygments_lexer": "ipython3",
      "version": "3.12.2"
    }
  },
  "nbformat": 4,
  "nbformat_minor": 0
}